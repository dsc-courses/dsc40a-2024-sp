{
 "cells": [
  {
   "cell_type": "code",
   "execution_count": null,
   "id": "8c8a44b8",
   "metadata": {
    "slideshow": {
     "slide_type": "skip"
    }
   },
   "outputs": [],
   "source": [
    "from dsc80_utils import *"
   ]
  },
  {
   "cell_type": "markdown",
   "id": "ce9e66d9",
   "metadata": {
    "slideshow": {
     "slide_type": "slide"
    }
   },
   "source": [
    "# <span style=\"color:#7b40c7\">Pre-Lecture Reading</span> for Lecture 6 – Hypothesis Testing\n",
    "\n",
    "## DSC 80, Winter 2024\n",
    "\n",
    "<div class=\"alert alert-success\">\n",
    "<b>Make sure to read this before attending lecture.</b>\n",
    "\n",
    "You can also access this notebook by pulling the course GitHub repository and opening <code>lectures/lec06/pre-lec06.ipynb</code>.\n",
    "</div>"
   ]
  },
  {
   "cell_type": "markdown",
   "id": "30f49ab1",
   "metadata": {
    "slideshow": {
     "slide_type": "slide"
    }
   },
   "source": [
    "In this lecture, we'll give a bit more context for _why_ we're revisiting hypothesis testing. Here, we'll review the hypothesis testing framework you saw in DSC 10 by walking through a concrete example: coin flipping."
   ]
  },
  {
   "cell_type": "markdown",
   "id": "3652b355",
   "metadata": {
    "slideshow": {
     "slide_type": "slide"
    }
   },
   "source": [
    "## Example: Coin flipping"
   ]
  },
  {
   "cell_type": "markdown",
   "id": "09405ecf",
   "metadata": {
    "slideshow": {
     "slide_type": "slide"
    }
   },
   "source": [
    "### Coin flipping\n",
    "\n",
    "Suppose that we find a coin on the ground and aren't sure if it's a fair coin.\n",
    "\n",
    "We flip it 100 times and see 59 heads and 41 tails. We consider two possibilities:\n",
    "\n",
    "- The coin is fair, and we just happened to see 59 heads.\n",
    "- The coin isn't fair, because it's biased in favor of heads.\n",
    "\n",
    "At a high level, we want to try and answer the question, **how likely is it that we'd see at least 59 heads in 100 flips of a fair coin?**\n",
    "\n",
    "- If it's rare to see at least 59 heads in 100 flips of a fair coin, then the evidence suggests our coin isn't fair; in this case, we'd _think_ the coin isn't fair.\n",
    "- If it's not that rare to see at least 59 heads in 100 flips of a fair coin, then we can't say our coin isn't fair; in this case, we'd _think_ the coin is fair."
   ]
  },
  {
   "cell_type": "markdown",
   "id": "be410d53",
   "metadata": {},
   "source": [
    "### Setup\n",
    "\n",
    "- **Observation**: We flipped a coin 100 times, and saw 59 heads and 41 tails.\n",
    "\n",
    "- **Null Hypothesis**: The coin is fair.\n",
    "\n",
    "- **Alternative Hypothesis**: The coin is biased in favor of heads.\n",
    "\n",
    "- **Test Statistic**: Number of heads, $N_H$."
   ]
  },
  {
   "cell_type": "markdown",
   "id": "80a6eabf",
   "metadata": {
    "slideshow": {
     "slide_type": "slide"
    }
   },
   "source": [
    "### Generating the null distribution\n",
    "\n",
    "- Now that we've chosen a test statistic, we need to generate the distribution of the test statistic under the assumption the null hypothesis is true, i.e. the **null distribution**.\n",
    "\n",
    "- This distribution will give us, for example:\n",
    "    - The probability of seeing exactly 4 heads in 100 flips of a fair coin.\n",
    "    - The probability of seeing at most 46 heads in 100 flips of a fair coin.\n",
    "    - **The probability of seeing at least 59 heads in 100 flips of a fair coin.**\n",
    "- The whole point of generating this distribution is to **quantify how rare our observation was**.\n",
    "    - If the probability of seeing at least 59 heads in 100 flips of a fair coin is large, then our outcome was not that rare.\n",
    "    - If that probability is small, then our outcome was rare."
   ]
  },
  {
   "cell_type": "markdown",
   "id": "87d3f5c8",
   "metadata": {},
   "source": [
    "In the diagram below, let $\\theta$ represent a simulated test statistic, and let $\\hat{\\theta}$ represent the observed statistic (59 in our case).\n",
    "\n",
    "<img src=\"imgs/hyp-test-observed.svg\" width=\"70%\"/>\n",
    "<img src=\"imgs/hyp-test-sampling-dist.svg\" width=\"100%\" />"
   ]
  },
  {
   "cell_type": "markdown",
   "id": "914bbe25",
   "metadata": {
    "slideshow": {
     "slide_type": "slide"
    }
   },
   "source": [
    "### Generating the null distribution\n",
    "\n",
    "- In this case, we can actually find the null distribution using math.\n",
    "    - The number of heads in $N$ flips of a fair coin follows the $\\text{Binomial}(N, 0.5)$ distribution:\n",
    "    $$P(\\text{# heads} = k) = {100 \\choose k} (0.5)^k{(1-0.5)^{100-k}} = {100 \\choose k} 0.5^{100}$$\n",
    "\n",
    "- But, we'll often pick test statistics for which we don't know the true probability distribution. In such cases, we'll have to **simulate, as we did in DSC 10**. That's what we'll do in this example, too.\n",
    "- Simulations provide us with **empirical distributions of test statistics**; if we simulate with a large (>= 10,000) number of repetitions, the empirical distribution of the test statistic should look similar to the true probability distribution of the test statistic, thanks to the **law of large numbers**."
   ]
  },
  {
   "cell_type": "markdown",
   "id": "a137040b",
   "metadata": {
    "slideshow": {
     "slide_type": "slide"
    }
   },
   "source": [
    "### Generating the null distribution"
   ]
  },
  {
   "cell_type": "markdown",
   "id": "61a6db11",
   "metadata": {
    "slideshow": {
     "slide_type": "fragment"
    }
   },
   "source": [
    "First, let's figure out how to perform one instance of the experiment – that is, how to flip 100 coins once. Recall, to sample from a categorical distribution, we use `np.random.multinomial`."
   ]
  },
  {
   "cell_type": "code",
   "execution_count": null,
   "id": "8edfe953",
   "metadata": {
    "scrolled": true,
    "slideshow": {
     "slide_type": "-"
    }
   },
   "outputs": [],
   "source": [
    "# Flipping a fair coin 100 times.\n",
    "# Interpret the result as [Heads, Tails].\n",
    "np.random.multinomial(100, [0.5, 0.5])"
   ]
  },
  {
   "cell_type": "markdown",
   "id": "1dc6311b",
   "metadata": {
    "slideshow": {
     "slide_type": "fragment"
    }
   },
   "source": [
    "Then, we can repeat it a large number of times."
   ]
  },
  {
   "cell_type": "code",
   "execution_count": null,
   "id": "91f7acb2",
   "metadata": {},
   "outputs": [],
   "source": [
    "# delete\n",
    "import pandas as pd\n",
    "import numpy as np\n",
    "import plotly.express as px"
   ]
  },
  {
   "cell_type": "code",
   "execution_count": null,
   "id": "786eb9c4",
   "metadata": {},
   "outputs": [],
   "source": [
    "# 100,000 times, we want to flip a coin 100 times.\n",
    "results = []\n",
    "\n",
    "for _ in range(100_000):\n",
    "    num_heads = np.random.multinomial(100, [0.5, 0.5])[0]\n",
    "    results.append(num_heads)"
   ]
  },
  {
   "cell_type": "markdown",
   "id": "c5c93762",
   "metadata": {},
   "source": [
    "Each entry in `results` is the number of heads in 100 simulated coin flips."
   ]
  },
  {
   "cell_type": "code",
   "execution_count": null,
   "id": "448cd603",
   "metadata": {},
   "outputs": [],
   "source": [
    "results[:10]"
   ]
  },
  {
   "cell_type": "markdown",
   "id": "71ca400c",
   "metadata": {
    "slideshow": {
     "slide_type": "slide"
    }
   },
   "source": [
    "### Visualizing the empirical distribution of the test statistic"
   ]
  },
  {
   "cell_type": "code",
   "execution_count": null,
   "id": "a015968d",
   "metadata": {
    "scrolled": false
   },
   "outputs": [],
   "source": [
    "import plotly.express as px\n",
    "fig = px.histogram(pd.DataFrame(results, columns=['# Heads']), x='# Heads', nbins=50, histnorm='probability', \n",
    "                   title='Empirical Distribution of # Heads in 100 Flips of a Fair Coin')\n",
    "fig.update_layout(xaxis_range=[0, 100])"
   ]
  },
  {
   "cell_type": "markdown",
   "id": "710f8cc4",
   "metadata": {
    "slideshow": {
     "slide_type": "fragment"
    }
   },
   "source": [
    "We can compute the p-value, which is the **probability of seeing a result as or more extreme than the observed, under the null**."
   ]
  },
  {
   "cell_type": "code",
   "execution_count": null,
   "id": "b2d78743",
   "metadata": {
    "scrolled": true
   },
   "outputs": [],
   "source": [
    "(np.array(results) >= 59).mean()"
   ]
  },
  {
   "cell_type": "markdown",
   "id": "1910d0b3",
   "metadata": {},
   "source": [
    "The p-value is the orange area in the diagram below.\n",
    "\n",
    "<img src=\"imgs/hyp-test-observed.svg\" width=\"70%\" />\n",
    "<img src=\"imgs/hyp-test-coin-flips-simulated.svg\" width=\"100%\" />"
   ]
  },
  {
   "cell_type": "markdown",
   "id": "a99ee2d4",
   "metadata": {},
   "source": [
    "### Making a decision\n",
    "\n",
    "We saw that, in 100 flips of a fair coin, **the probability of seeing 59 or more heads is only ~4.4%**.\n",
    "\n",
    "- This is quite low – it suggests that our observed result is quite unlikely **under** the null.\n",
    "\n",
    "- As such, we will **reject the null hypothesis** – our observation is **not consistent** with the hypothesis that the coin is fair.\n",
    "\n",
    "- The null still may be true – it's possible that the coin we flipped was fair, and we just happened to see a rare result. For the same reason, we also **cannot \"accept\"** the alternative.\n",
    "\n",
    "- This probability – **the probability of seeing a result at least as extreme as the observed, under the null hypothesis** – is called the p-value.\n",
    "\n",
    "    - If the p-value is below a pre-defined cutoff (often 5%), we reject the null.\n",
    "    - Otherwise, we fail to reject the null."
   ]
  },
  {
   "cell_type": "markdown",
   "id": "dcecc1c5",
   "metadata": {},
   "source": [
    "### ⚠️ We can't \"accept\" the null!\n",
    "\n",
    "- Note that we are very careful in saying that we either **reject the null** or **fail to reject the null**.\n",
    "\n",
    "- Just because we fail to reject the null, it doesn't mean the null is true – we cannot \"accept\" it.\n",
    "\n",
    "- Example:\n",
    "    - Suppose there is a coin that is truly biased towards heads, with probability 0.55.\n",
    "    - We flip it 10 times and see 5 heads and 5 tails.\n",
    "    - If we conduct a hypothesis test where the null is that the coin is fair, we will fail to reject the null.\n",
    "    - But the null isn't true."
   ]
  },
  {
   "cell_type": "markdown",
   "id": "b3a36132",
   "metadata": {},
   "source": [
    "Note that the p-value we found above is close, but not identical, to the \"true\" p-value we'd find if we used the exact distribution of the number of heads in 100 flips of a fair coin. That's because we computed our p-value using a simulation, and hence an approximation."
   ]
  },
  {
   "cell_type": "code",
   "execution_count": null,
   "id": "43ef8bf3",
   "metadata": {},
   "outputs": [],
   "source": [
    "# Exact p-value, using the Binomial(100, 0.5) distribution.\n",
    "from scipy.special import comb\n",
    "\n",
    "def p_k_heads(k):\n",
    "    return comb(100, k) * (0.5) ** 100\n",
    "\n",
    "print('Simulated p-value:', (np.array(results) >= 59).mean())\n",
    "print('Exact p-value:' + ' ' * 4, sum([p_k_heads(k) for k in range(59, 101)]))"
   ]
  },
  {
   "cell_type": "markdown",
   "id": "224c458c",
   "metadata": {
    "slideshow": {
     "slide_type": "slide"
    }
   },
   "source": [
    "## Reflection"
   ]
  },
  {
   "cell_type": "markdown",
   "id": "95b671bb",
   "metadata": {
    "slideshow": {
     "slide_type": "slide"
    }
   },
   "source": [
    "### Can we make things faster? 🏃\n",
    "\n",
    "A mantra so far in this course has been **avoid `for`-loops whenever possible**. That applies here, too.\n",
    "\n",
    "`np.random.multinomial` (and `np.random.choice`) accepts a `size` argument. By providing `size=100_000`, we can tell `numpy` to draw 100 elements from a uniform distribution, `100_000` times, **without needing a `for`-loop!**"
   ]
  },
  {
   "cell_type": "code",
   "execution_count": null,
   "id": "b1b321cf",
   "metadata": {
    "slideshow": {
     "slide_type": "fragment"
    }
   },
   "outputs": [],
   "source": [
    "# An array with 100000 rows and 2 columns.\n",
    "np.random.multinomial(100, [0.5, 0.5], size=100_000)"
   ]
  },
  {
   "cell_type": "code",
   "execution_count": null,
   "id": "9b75cb7c",
   "metadata": {},
   "outputs": [],
   "source": [
    "# Just the first column of the above array.\n",
    "np.random.multinomial(100, [0.5, 0.5], size=100_000)[:, 0]"
   ]
  },
  {
   "cell_type": "code",
   "execution_count": null,
   "id": "3629abc2",
   "metadata": {},
   "outputs": [],
   "source": [
    "%%time\n",
    "\n",
    "faster_results = np.random.multinomial(100, [0.5, 0.5], size=100_000)[:, 0]"
   ]
  },
  {
   "cell_type": "markdown",
   "id": "78f8e31f",
   "metadata": {
    "slideshow": {
     "slide_type": "fragment"
    }
   },
   "source": [
    "The above approach is orders of magnitude faster than the `for`-loop approach! With that said, you are still _allowed_ to use `for`-loops for hypothesis (and permutation) tests on assignments."
   ]
  },
  {
   "cell_type": "code",
   "execution_count": null,
   "id": "dd73dfc9",
   "metadata": {},
   "outputs": [],
   "source": [
    "%%time\n",
    "\n",
    "# 100,000 times, we want to flip a coin 100 times.\n",
    "results = []\n",
    "\n",
    "for _ in range(100_000):\n",
    "    num_heads = np.random.multinomial(100, [0.5, 0.5])[0]\n",
    "    results.append(num_heads)"
   ]
  },
  {
   "cell_type": "markdown",
   "id": "aef4389a",
   "metadata": {
    "slideshow": {
     "slide_type": "slide"
    }
   },
   "source": [
    "### Choosing alternative hypotheses and test statistics\n",
    "\n",
    "- The alternative hypothesis we chose was **the coin is biased in favor of heads**, and the test statistic we chose was the number of heads, $N_H$.\n",
    "\n",
    "- We could've also chosen one the following options; each of them has the quality that **large values point to one hypothesis, and small values point to the other**:\n",
    "    - $\\frac{N_H}{100}$, the proportion of heads.\n",
    "    - $N_H - 50$, the difference from the expected number of heads.\n",
    "\n",
    "- What if our alternative hypothesis was **the coin is biased (either towards heads or tails)**?"
   ]
  },
  {
   "cell_type": "markdown",
   "id": "a022318b",
   "metadata": {
    "slideshow": {
     "slide_type": "slide"
    }
   },
   "source": [
    "### Absolute test statistics\n",
    "\n",
    "For the alternative hypothesis \"the coin is biased\", one test statistic we could use is $\\big|N_H - \\frac{N}{2}\\big|$, the absolute difference from the expected number of heads.\n",
    "\n",
    "- **If this test statistic is large, it means that there were many more heads than expected, or many fewer heads than expected. If this test statistic is small, it means that the number of heads was close to expected.**\n",
    "\n",
    "- For instance, suppose we flip 100 coins, and I tell you the absolute difference from the expected number of heads is 20.\n",
    "\n",
    "- Then, either we flipped 70 heads or 30 heads. \n",
    "\n",
    "- If our alternative hypothesis is that the coin was biased, then it doesn't matter in which direction it was biased, and this test statistic works.\n",
    "\n",
    "- But if our alternative hypothesis is that the coin was biased towards heads, then this is not helpful, because we don't know whether or not there were 70 heads (evidence for the alternative) or 30 heads (not evidence for the alternative).  "
   ]
  },
  {
   "attachments": {},
   "cell_type": "markdown",
   "id": "23b0c2fa",
   "metadata": {
    "slideshow": {
     "slide_type": "slide"
    }
   },
   "source": [
    "### Important\n",
    "\n",
    "We'd like to choose a test statistic such that large values of the test statistic correspond to one hypothesis, and small values correspond to the other. \n",
    "\n",
    "**In other words, we'll try to avoid \"two-tailed tests\".** Rough rule of thumb:\n",
    "\n",
    "- If the alternative hypothesis is \"A > B\", then the test statistic should measure differences and **should not** contain an absolute value.\n",
    "\n",
    "- If the alternative hypothesis is \"A and B are different\", then the test statistic should measure distances and **should** contain an absolute value.\n",
    "\n",
    "By taking the absolute value of a test statistic that involves a difference, we go from having to look at two tails of the distribution of the test statistic to just one tail, which is easier:\n",
    "\n",
    "<center><img src=\"imgs/folding.png\" width=70%></center>"
   ]
  },
  {
   "cell_type": "markdown",
   "id": "aff11504",
   "metadata": {
    "slideshow": {
     "slide_type": "slide"
    }
   },
   "source": [
    "### Fun fact\n",
    "\n",
    "- One researcher found that coin flips aren't 50/50, but rather are closer to 51/49, biased towards whichever side started facing up.\n",
    "- [Read this](https://www.smithsonianmag.com/science-nature/gamblers-take-note-the-odds-in-a-coin-flip-arent-quite-5050-145465423) for more details."
   ]
  },
  {
   "cell_type": "markdown",
   "id": "2e3943d6",
   "metadata": {},
   "source": [
    "<div class=\"alert alert-success\" markdown=\"1\">\n",
    "\n",
    "<h2>Thanks for reading!</h2>\n",
    "\n",
    "If you made it this far, tell us by clicking Option C in [**this form (q.dsc80.com)**](https://docs.google.com/forms/d/e/1FAIpQLScWbVZv9hBv-wX-ItKHUVRnkPMMtfJZVfErKE9GS7_8dFcRBQ/viewform). If you have lingering questions, write them in the \"What questions do you have?\" section of the form.\n",
    "\n",
    "And tell your friends to read this before class, too!\n",
    "\n",
    "</div>"
   ]
  }
 ],
 "metadata": {
  "kernelspec": {
   "display_name": "Python 3 (ipykernel)",
   "language": "python",
   "name": "python3"
  },
  "language_info": {
   "codemirror_mode": {
    "name": "ipython",
    "version": 3
   },
   "file_extension": ".py",
   "mimetype": "text/x-python",
   "name": "python",
   "nbconvert_exporter": "python",
   "pygments_lexer": "ipython3",
   "version": "3.8.18"
  },
  "livereveal": {
   "scroll": true
  },
  "rise": {
   "transition": "none"
  }
 },
 "nbformat": 4,
 "nbformat_minor": 5
}
