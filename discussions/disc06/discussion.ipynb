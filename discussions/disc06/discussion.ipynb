{
 "cells": [
  {
   "cell_type": "code",
   "execution_count": null,
   "id": "b6f99959",
   "metadata": {},
   "outputs": [],
   "source": [
    "import pandas as pd\n",
    "import numpy as np"
   ]
  },
  {
   "cell_type": "markdown",
   "id": "09218991",
   "metadata": {},
   "source": [
    "# Discussion 6\n",
    "\n",
    "### Announcements:\n",
    "- Project 2 due as late as Friday 2/16\n",
    "- Lab 06 due Wednesday 2/21\n",
    "- Discussion reflection due Thursday 2/15\n",
    "- Check course calendar for adjusted office hours."
   ]
  },
  {
   "cell_type": "code",
   "execution_count": null,
   "id": "d2744f89",
   "metadata": {},
   "outputs": [],
   "source": [
    "ROWS = 100\n",
    "NAMES = [\n",
    "    \"daniel\", \"bob\", \"jared\", \"mia\", \"luke\", \"zara\", \"owen\", \"hannah\", \"xavier\", \"lila\",\n",
    "    \"nathan\", \"sophie\", \"ethan\", \"emma\", \"max\", \"ava\", \"finn\", \"eva\", \"levi\", \"zoe\",\n",
    "    \"elijah\", \"chloe\", \"liam\", \"olivia\", \"noah\", \"isabella\", \"logan\", \"emily\", \"lucas\", \"abigail\",\n",
    "    \"jackson\", \"grace\", \"william\", \"amelia\", \"aiden\", \"mia\", \"ethan\", \"harper\", \"mason\", \"ella\",\n",
    "    \"james\", \"avery\", \"alexander\", \"lily\", \"michael\", \"scarlett\", \"benjamin\", \"aubrey\", \"oliver\",\n",
    "    \"evelyn\", \"jacob\", \"sophia\", \"daniel\", \"charlotte\", \"matthew\", \"madison\", \"joshua\", \"hannah\",\n",
    "    \"jack\", \"layla\", \"gabriel\", \"riley\", \"samuel\", \"ella\", \"aidan\", \"aria\", \"nicholas\", \"penelope\",\n",
    "    \"joseph\", \"sienna\", \"isaac\", \"zoey\", \"andrew\", \"scarlett\", \"david\", \"violet\", \"jonathan\", \"camila\",\n",
    "    \"nathaniel\", \"savannah\", \"evan\", \"ariana\", \"christian\", \"leah\", \"hunter\", \"natalie\", \"wyatt\", \"lucy\",\n",
    "    \"sebastian\", \"brooklyn\", \"dominic\", \"anna\", \"tristan\", \"isabelle\", \"carter\", \"ellie\", \"julian\", \"sadie\",\n",
    "    \"aidan\", \"luna\"\n",
    "]\n",
    "\n",
    "\n",
    "df = pd.DataFrame({\"district\": np.random.choice(np.arange(1, 101), ROWS),\n",
    "                   \"name\": NAMES,\n",
    "                   \"valentine\": np.random.choice(NAMES, ROWS)})\n",
    "print(\"shape: \" + str(df.shape))\n",
    "df.head()"
   ]
  },
  {
   "cell_type": "markdown",
   "id": "2b2b9b95",
   "metadata": {},
   "source": [
    "# Question 5a\n",
    "Observe the original DataFrame shape (100, 3).\n",
    "When merged on itself on \"district\" (as done in question 5), what is the new shape? How many rows have a \"district\" of 9, and what mathematical formula can you follow to arrive at this solution?"
   ]
  },
  {
   "cell_type": "code",
   "execution_count": null,
   "id": "23a068aa",
   "metadata": {},
   "outputs": [],
   "source": [
    "# 5a \n",
    "double = df.merge(df, on=\"district\")\n",
    "print(\"New shape: \" + str(double.shape))\n",
    "double.head()"
   ]
  },
  {
   "cell_type": "markdown",
   "id": "6a207880",
   "metadata": {},
   "source": [
    "# Question 5b\n",
    "Now, with the merged DataFrame `double`, what happens you select the `\"district\"` column and call `value_counts()` **one** time in the cell below? \n",
    "- What does the index represent?\n",
    "- What do the values represent?\n",
    "\n",
    "Then, in the next cell, call `value_counts()` on `double[\"district\"]` twice and answer the same questions about the index and values."
   ]
  },
  {
   "cell_type": "code",
   "execution_count": null,
   "id": "2e449af1",
   "metadata": {},
   "outputs": [],
   "source": [
    "# 5b - One call to value_counts()\n",
    "double[\"district\"].value_counts()"
   ]
  },
  {
   "cell_type": "code",
   "execution_count": null,
   "id": "43e65264",
   "metadata": {},
   "outputs": [],
   "source": [
    "# 5b - Two calls to value_counts()\n",
    "double[\"district\"].value_counts().value_counts()"
   ]
  },
  {
   "attachments": {},
   "cell_type": "markdown",
   "id": "a4a3c507",
   "metadata": {},
   "source": [
    "Note that there is a bit more to the question to solve 5b, and that is described on gradescope in the rubric. Hopefully this exercise allows you to understand the process of which we got to the double `value_counts()` DataFrame better.\n",
    "\n",
    "For additional practice with double `value_counts()`, check out the midterm exam from laster year! https://practice.dsc80.com/wi23-midterm/index.html "
   ]
  }
 ],
 "metadata": {
  "kernelspec": {
   "display_name": "Python 3 (ipykernel)",
   "language": "python",
   "name": "python3"
  },
  "language_info": {
   "codemirror_mode": {
    "name": "ipython",
    "version": 3
   },
   "file_extension": ".py",
   "mimetype": "text/x-python",
   "name": "python",
   "nbconvert_exporter": "python",
   "pygments_lexer": "ipython3",
   "version": "3.8.18"
  }
 },
 "nbformat": 4,
 "nbformat_minor": 5
}
