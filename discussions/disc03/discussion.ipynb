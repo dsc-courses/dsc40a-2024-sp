{
 "cells": [
  {
   "cell_type": "code",
   "execution_count": null,
   "id": "2b713889",
   "metadata": {},
   "outputs": [],
   "source": [
    "import pandas as pd\n",
    "import numpy as np"
   ]
  },
  {
   "cell_type": "markdown",
   "id": "df46622e",
   "metadata": {},
   "source": [
    "# Discussion 3\n",
    "\n",
    "### Announcements:\n",
    "- Project 1 due Saturday 1/27\n",
    "- Lab 03 due Monday 1/29\n",
    "- Saturday office hours (CSE 2217)\n",
    "    - Dylan 12:00 - 2:30\n",
    "    - Jasmine 4:30 - 6:00\n",
    "- Lab solutions going up on Ed\n",
    "    - Link also on course website"
   ]
  },
  {
   "cell_type": "markdown",
   "id": "b5b3255d",
   "metadata": {},
   "source": [
    "## SettingWithCopyWarning \n",
    "\n",
    "A warning you're likely to run into at some point is the SettingWithCopyWarning. It likely doesn't affect your behavior, but it is good practice to run code that won't throw warnings.\n",
    "\n",
    "Run the below code to see an example of how it happens, and how to prevent it."
   ]
  },
  {
   "cell_type": "code",
   "execution_count": null,
   "id": "21a5e274",
   "metadata": {},
   "outputs": [],
   "source": [
    "warn_df = pd.DataFrame({\"Movie Title\": [\"Spider-Man: Across the Spider-Verse\",\n",
    "                                        \"Scott Pilgrim vs. the World\",\n",
    "                                        \"Monty Python and the Holy Grail\",\n",
    "                                        \"Joker\",\n",
    "                                        \"Fight Club\"],\n",
    "                        \"Release Year\": [2023,2010,1975,2019,1999],\n",
    "                        \"Rating\": [\"PG\",\"PG-13\",\"PG\",\"R\",\"R\"],\n",
    "                        \"Pretty Visuals\": [True,True,False,True,False],\n",
    "                        \"Funny\": [False,True,True,False,False]})\n",
    "warn_df"
   ]
  },
  {
   "cell_type": "code",
   "execution_count": null,
   "id": "288280c4",
   "metadata": {},
   "outputs": [],
   "source": [
    "# Mask for 'Rating' to 'PG'.\n",
    "is_pg = warn_df[\"Rating\"] == \"PG\"\n",
    "\n",
    "# Apply filter to DataFrame.\n",
    "warn_df_pg = warn_df[is_pg]\n",
    "warn_df_pg"
   ]
  },
  {
   "cell_type": "code",
   "execution_count": null,
   "id": "92fae459",
   "metadata": {},
   "outputs": [],
   "source": [
    "# Add a new column on if I would show the movie to a kid.\n",
    "warn_df_pg[\"Would Show to a Kid\"] = [True, False]\n",
    "warn_df_pg"
   ]
  },
  {
   "cell_type": "markdown",
   "id": "b3627e1e",
   "metadata": {},
   "source": [
    "### Oh no!\n",
    "\n",
    "The above code threw a warning even though `warn_df_pg` looks correct, what happend?\n",
    "\n",
    "Getting a series with brackets is called slicing. When we call `warn_df[is_pg]`, we slice the dataframe to show us a **view**, or subset, of the original DataFrame that contains PG movies. A view is not a new DataFrame, but rather you can imagine we just covered up the non-PG rows (hence why earlier I called `is_pg` a mask).\n",
    "\n",
    "If you then try to change the contents of your view, Pandas has a decision: did you want to make a new DataFrame from the view? Or did you want to just edit the values of the original dataframe that are visible?\n",
    "\n",
    "Pandas decides to assume you want to make a copy of the original, which is probably true in most cases. However, in case it isn't what you intended, Pandas will throw the SettingWithCopyWarning to let you know it made this assumption!\n",
    "\n",
    "To avoid this warning, just explicitly call `.copy()` or `.loc[]` to specify whether you want to make a copy or change the original DataFrame, and now Pandas doesn't need to assume anything."
   ]
  },
  {
   "cell_type": "code",
   "execution_count": null,
   "id": "72ec87f3",
   "metadata": {},
   "outputs": [],
   "source": [
    "# Solution A: Explicitly set on a copy using .copy().\n",
    "is_pg = warn_df[\"Rating\"] == \"PG\"\n",
    "copy_df = warn_df[is_pg].copy()\n",
    "copy_df[\"Would Show to a Kid\"] = [True, False]\n",
    "copy_df"
   ]
  },
  {
   "cell_type": "code",
   "execution_count": null,
   "id": "656f0db2",
   "metadata": {},
   "outputs": [],
   "source": [
    "# Solution B: Explicitly set on the original using .loc[]\n",
    "# Note that this edits the original warn_df, not a copy!\n",
    "is_pg = warn_df[\"Rating\"] == \"PG\"\n",
    "warn_df.loc[is_pg, \"Would Show to a Kid\"] = [True, False]\n",
    "warn_df"
   ]
  },
  {
   "cell_type": "markdown",
   "id": "15759777",
   "metadata": {},
   "source": [
    "## Working With `groupby() `\n",
    "<br/>\n",
    "<div>\n",
    "<img src=\"https://i.imgflip.com/8ddsrh.jpg\"/ width=\"300\">\n",
    "</div>\n",
    "<br/>\n",
    "\n",
    "When you group an object, there are a lot of options as to how to work with it. Most simple would be built-in functions such as `count()`, `sum()`, and `mean()`, but we can also use `transform()`, `apply()`, or `agg()` to perform custom operations."
   ]
  },
  {
   "cell_type": "code",
   "execution_count": null,
   "id": "4724aaf2",
   "metadata": {},
   "outputs": [],
   "source": [
    "df = pd.DataFrame({\"animal\": [\"Manta Ray\",\n",
    "                              \"Quokka\",\n",
    "                              \"Rain Frog\",\n",
    "                              \"Binturong\",\n",
    "                              \"Sailfish\",\n",
    "                              \"Sturgeon\",\n",
    "                              \"Rhino\",\n",
    "                              \"Platypus\"],\n",
    "                   \"who\": [\"water_thing\", \"cute\", \"cute\", \"weird\", \"water_thing\", \"water_thing\", \"weird\", \"weird\"],\n",
    "                   \"weight (lbs)\": [6600, 6, 0.025, 60, 120, 800, 1600, 3],\n",
    "                   \"lifespan\": [30, 10, 5, 18, 5, 100, 50, 15]\n",
    "                  }).set_index(\"animal\")\n",
    "df"
   ]
  },
  {
   "cell_type": "code",
   "execution_count": null,
   "id": "4d315a85",
   "metadata": {},
   "outputs": [],
   "source": [
    "def diffs(x):\n",
    "    print(\"\\tSingle Iteration Input: \")\n",
    "    print(x)\n",
    "    print(\"-\"*40)\n",
    "    return x.max() - x.min()"
   ]
  },
  {
   "cell_type": "code",
   "execution_count": null,
   "id": "00f9ec36",
   "metadata": {},
   "outputs": [],
   "source": [
    "df.groupby(\"who\").mean()"
   ]
  },
  {
   "cell_type": "markdown",
   "id": "89fdb70b",
   "metadata": {},
   "source": [
    "### .transform()\n",
    "\n",
    "Use when you want an aggregate calculation in a dataframe that matches the original dataframe's dimensions"
   ]
  },
  {
   "cell_type": "code",
   "execution_count": null,
   "id": "afe4cc79",
   "metadata": {},
   "outputs": [],
   "source": [
    "df.groupby(\"who\").transform('mean')"
   ]
  },
  {
   "cell_type": "code",
   "execution_count": null,
   "id": "fd1e679d",
   "metadata": {},
   "outputs": [],
   "source": [
    "df.groupby(\"who\").transform(diffs)"
   ]
  },
  {
   "cell_type": "markdown",
   "id": "1a9cff1b",
   "metadata": {},
   "source": [
    "### apply()\n",
    "\n",
    "Row operations\n",
    "\n",
    "*Note that it has different behavior and parameters for DataFrames*"
   ]
  },
  {
   "cell_type": "code",
   "execution_count": null,
   "id": "ac60b069",
   "metadata": {},
   "outputs": [],
   "source": [
    "# selecting the columns is just to avoid a warning, \n",
    "# it has the same output if you don't select the columns explicitly.\n",
    "df.groupby(\"who\")[[\"weight (lbs)\", \"lifespan\"]].apply(np.mean)"
   ]
  },
  {
   "cell_type": "code",
   "execution_count": null,
   "id": "eb124da4",
   "metadata": {},
   "outputs": [],
   "source": [
    "df.groupby(\"who\").apply(diffs)"
   ]
  },
  {
   "cell_type": "markdown",
   "id": "b31d7d3e",
   "metadata": {},
   "source": [
    "### .agg()\n",
    "\n",
    "Use when you need to do different operations on an aggregation."
   ]
  },
  {
   "cell_type": "code",
   "execution_count": null,
   "id": "2fef1db3",
   "metadata": {},
   "outputs": [],
   "source": [
    "df.groupby(\"who\").agg(\"mean\")"
   ]
  },
  {
   "cell_type": "code",
   "execution_count": null,
   "id": "a7e7b826",
   "metadata": {},
   "outputs": [],
   "source": [
    "df.groupby(\"who\").agg(diffs)"
   ]
  },
  {
   "cell_type": "markdown",
   "id": "934003f5",
   "metadata": {},
   "source": [
    "### Some special uses of .agg() and .apply()"
   ]
  },
  {
   "cell_type": "code",
   "execution_count": null,
   "id": "b0f89aed",
   "metadata": {},
   "outputs": [],
   "source": [
    "df.groupby(\"who\").agg([\"mean\", diffs])\n",
    "# df.groupby(\"who\").transform([\"mean\", diffs]) # Error!\n",
    "# df.groupby(\"who\").apply([\"mean\", diffs]) # Error!"
   ]
  },
  {
   "cell_type": "code",
   "execution_count": null,
   "id": "d5130d70",
   "metadata": {},
   "outputs": [],
   "source": [
    "def diff_cols(x):\n",
    "    return x[\"weight (lbs)\"].mean() - x[\"lifespan\"].mean()\n",
    "\n",
    "df.groupby(\"who\").apply(diff_cols)\n",
    "# df.groupby(\"who\").transform(diff_cols) # Error!\n",
    "# df.groupby(\"who\").agg(diff_cols) # Error!"
   ]
  },
  {
   "cell_type": "markdown",
   "id": "12509cc7",
   "metadata": {},
   "source": [
    "## Bad Boolean Zen\n",
    "\n",
    "Something small that I see in a number of students' code...\n",
    "\n",
    "If an operation evaluates to `True` or `False`, you do not then have to check if the output is `True` to return `True`, or `False` to return `False`. Instead, you can generally just return the operation output directly.\n",
    "\n",
    "As you can see below, we define two functions that return True if a value is less than 10, and False otherwise. `is_small_bad()` has an example of a bad boolean zen implementation, while `is_small_good()` corrects the implementation.\n",
    "\n",
    "As a general caution, double check your work if you directly `return True` or `return False`. This is not a guarantee that your function has bad boolean zen, but it can be a sign of it."
   ]
  },
  {
   "cell_type": "code",
   "execution_count": null,
   "id": "08e663de",
   "metadata": {},
   "outputs": [],
   "source": [
    "# Bad boolean zen\n",
    "def is_small_bad(n):\n",
    "    if (n < 10) == True:\n",
    "        return True\n",
    "    else:\n",
    "        return False\n",
    "    \n",
    "# Good boolean zen\n",
    "def is_small_good(n):\n",
    "    return n < 10\n",
    "\n",
    "print(is_small_bad(5))\n",
    "print(is_small_good(5))"
   ]
  }
 ],
 "metadata": {
  "kernelspec": {
   "display_name": "Python 3 (ipykernel)",
   "language": "python",
   "name": "python3"
  },
  "language_info": {
   "codemirror_mode": {
    "name": "ipython",
    "version": 3
   },
   "file_extension": ".py",
   "mimetype": "text/x-python",
   "name": "python",
   "nbconvert_exporter": "python",
   "pygments_lexer": "ipython3",
   "version": "3.8.18"
  }
 },
 "nbformat": 4,
 "nbformat_minor": 5
}
