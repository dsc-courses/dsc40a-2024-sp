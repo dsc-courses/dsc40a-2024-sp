{
 "cells": [
  {
   "cell_type": "code",
   "execution_count": null,
   "id": "8c8a44b8",
   "metadata": {
    "slideshow": {
     "slide_type": "skip"
    }
   },
   "outputs": [],
   "source": [
    "from dsc80_utils import *\n",
    "\n",
    "def show_paradox_slides():\n",
    "    src = 'https://docs.google.com/presentation/d/e/2PACX-1vSbFSaxaYZ0NcgrgqZLvjhkjX-5MQzAITWAsEFZHnix3j1c0qN8Vd1rogTAQP7F7Nf5r-JWExnGey7h/embed?start=false&rm=minimal'\n",
    "    width = 960\n",
    "    height = 569\n",
    "    display(IFrame(src, width, height))"
   ]
  },
  {
   "cell_type": "code",
   "execution_count": null,
   "id": "1e7be011",
   "metadata": {
    "slideshow": {
     "slide_type": "skip"
    }
   },
   "outputs": [],
   "source": [
    "# Pandas Tutor setup\n",
    "%reload_ext pandas_tutor\n",
    "%set_pandas_tutor_options {\"maxDisplayCols\": 8, \"nohover\": True, \"projectorMode\": True}"
   ]
  },
  {
   "cell_type": "markdown",
   "id": "ce9e66d9",
   "metadata": {
    "slideshow": {
     "slide_type": "slide"
    }
   },
   "source": [
    "<div class=\"alert alert-info\">\n",
    "    <b>This notebook contains code (e.g. the answers to exercises) that was written live during Lecture 4. If you haven't already watched and work through this lecture, you might find it more beneficial to look at the \"blank\" version of this lecture and answer the exercises yourself.</b>\n",
    "</div>\n",
    "\n",
    "# Lecture 4 – Simpson's Paradox, Joining, and Transforming\n",
    "\n",
    "## DSC 80, Winter 2024"
   ]
  },
  {
   "cell_type": "markdown",
   "id": "22824200",
   "metadata": {
    "slideshow": {
     "slide_type": "slide"
    }
   },
   "source": [
    "### Announcements 📣\n",
    "\n",
    "- Project 1 is released.\n",
    "    - The checkpoint (Questions 1-7) is due on **Saturday, January 20th**.\n",
    "    - The full project is due on **Saturday, January 27th**.\n",
    "    - Need a partner? Post [here](https://edstem.org/us/courses/51951/discussion/4135353) on Ed.\n",
    "- Lab 2 is due on **Monday, January 22nd**.\n",
    "- Submit the Lab 1 Reflection form for extra credit* **tonight**.\n",
    "    - *You will only receive the extra credit if you also submitted Lab 1 and went to discussion yesterday."
   ]
  },
  {
   "cell_type": "markdown",
   "id": "e62a97ea",
   "metadata": {
    "slideshow": {
     "slide_type": "slide"
    }
   },
   "source": [
    "### Agenda\n",
    "\n",
    "- Distributions.\n",
    "- Simpson's paradox.\n",
    "- Merging.\n",
    "    - Many-to-one & many-to-many joins.\n",
    "- Transforming.\n",
    "    - The price of `apply`.\n",
    "- Other data representations.\n",
    "\n",
    "Lots of coding again! I'll post the code I write on the course website (look for the 📝)."
   ]
  },
  {
   "cell_type": "markdown",
   "id": "a91fbd54",
   "metadata": {
    "slideshow": {
     "slide_type": "slide"
    }
   },
   "source": [
    "<div class=\"alert alert-warning\">\n",
    "    <h3>Question 🤔 (Answer at <a href=\"https://q.dsc80.com\">q.dsc80.com)</h3>\n",
    "</div>\n",
    "    \n",
    "Remember, you can always ask questions at [**q.dsc80.com**](https://q.dsc80.com)! If the link doesn't work for you, click the [**🤔 Lecture Questions**](https://docs.google.com/forms/d/e/1FAIpQLScWbVZv9hBv-wX-ItKHUVRnkPMMtfJZVfErKE9GS7_8dFcRBQ/viewform) link in the top right corner of the course website.\n",
    "    \n",
    "A question for you now: have you started Project 1?\n",
    "    \n",
    "- A. Yes, I've even submitted the checkpoint.\n",
    "- B. Yes, but I haven't submitted the checkpoint yet.\n",
    "- C. I've looked at it, but haven't written any code.\n",
    "- D. I haven't even looked at it tbh."
   ]
  },
  {
   "cell_type": "markdown",
   "id": "8508a69b",
   "metadata": {
    "slideshow": {
     "slide_type": "slide"
    }
   },
   "source": [
    "## Distributions"
   ]
  },
  {
   "cell_type": "markdown",
   "id": "f268de34",
   "metadata": {
    "slideshow": {
     "slide_type": "slide"
    }
   },
   "source": [
    "### Example: Palmer Penguins"
   ]
  },
  {
   "cell_type": "code",
   "execution_count": null,
   "id": "0d355913",
   "metadata": {},
   "outputs": [],
   "source": [
    "penguins = sns.load_dataset('penguins').dropna()\n",
    "penguins"
   ]
  },
  {
   "cell_type": "markdown",
   "id": "d8e1d83a",
   "metadata": {
    "slideshow": {
     "slide_type": "fragment"
    }
   },
   "source": [
    "Let's start by using the `pivot_table` method to recreate the DataFrame shown below.\n",
    "\n",
    "<table border=\"1\" class=\"dataframe\">\n",
    "  <thead>\n",
    "    <tr style=\"text-align: right;\">\n",
    "      <th>sex</th>\n",
    "      <th>Female</th>\n",
    "      <th>Male</th>\n",
    "    </tr>\n",
    "    <tr>\n",
    "      <th>species</th>\n",
    "      <th></th>\n",
    "      <th></th>\n",
    "    </tr>\n",
    "  </thead>\n",
    "  <tbody>\n",
    "    <tr>\n",
    "      <th>Adelie</th>\n",
    "      <td>73</td>\n",
    "      <td>73</td>\n",
    "    </tr>\n",
    "    <tr>\n",
    "      <th>Chinstrap</th>\n",
    "      <td>34</td>\n",
    "      <td>34</td>\n",
    "    </tr>\n",
    "    <tr>\n",
    "      <th>Gentoo</th>\n",
    "      <td>58</td>\n",
    "      <td>61</td>\n",
    "    </tr>\n",
    "  </tbody>\n",
    "</table>\n"
   ]
  },
  {
   "cell_type": "markdown",
   "id": "244a4c6f",
   "metadata": {
    "slideshow": {
     "slide_type": "slide"
    }
   },
   "source": [
    "### Joint distribution\n",
    "\n",
    "When using `aggfunc='count'`, a pivot table describes the **joint distribution** of two categorical variables. This is also called a **contingency table**."
   ]
  },
  {
   "cell_type": "code",
   "execution_count": null,
   "id": "2f5da0bf",
   "metadata": {},
   "outputs": [],
   "source": [
    "penguins"
   ]
  },
  {
   "cell_type": "code",
   "execution_count": null,
   "id": "657cb701",
   "metadata": {},
   "outputs": [],
   "source": [
    "counts = penguins.pivot_table(\n",
    "    index='species',\n",
    "    columns='sex',\n",
    "    values='bill_depth_mm',\n",
    "    aggfunc='count'\n",
    ")\n",
    "counts"
   ]
  },
  {
   "cell_type": "markdown",
   "id": "125b3d37",
   "metadata": {
    "slideshow": {
     "slide_type": "fragment"
    }
   },
   "source": [
    "We can normalize the DataFrame by dividing by the total number of penguins. The resulting numbers can be interpreted as **probabilities** that a randomly selected penguin from the dataset belongs to a given combination of species and sex."
   ]
  },
  {
   "cell_type": "code",
   "execution_count": null,
   "id": "ef27fe23",
   "metadata": {},
   "outputs": [],
   "source": [
    "joint = counts / counts.sum().sum()\n",
    "joint"
   ]
  },
  {
   "cell_type": "markdown",
   "id": "6bf70932",
   "metadata": {
    "slideshow": {
     "slide_type": "slide"
    }
   },
   "source": [
    "### Marginal probabilities\n",
    "\n",
    "If we sum over one of the axes, we can compute **marginal probabilities**, i.e. unconditional probabilities."
   ]
  },
  {
   "cell_type": "code",
   "execution_count": null,
   "id": "3ae4e508",
   "metadata": {},
   "outputs": [],
   "source": [
    "joint"
   ]
  },
  {
   "cell_type": "code",
   "execution_count": null,
   "id": "8539e9a6",
   "metadata": {},
   "outputs": [],
   "source": [
    "# Recall, joint.sum(axis=0) sums across the rows, \n",
    "# which computes the sum of the **columns**.\n",
    "joint.sum(axis=0)"
   ]
  },
  {
   "cell_type": "code",
   "execution_count": null,
   "id": "5f5a59a1",
   "metadata": {},
   "outputs": [],
   "source": [
    "joint.sum(axis=1)"
   ]
  },
  {
   "cell_type": "markdown",
   "id": "3abcbba0",
   "metadata": {},
   "source": [
    "For instance, the second Series tells us that a randomly selected penguin has a 0.36 chance of being of species `'Gentoo'`."
   ]
  },
  {
   "cell_type": "markdown",
   "id": "1fb270de",
   "metadata": {
    "slideshow": {
     "slide_type": "slide"
    }
   },
   "source": [
    "### Conditional probabilities\n",
    "\n",
    "Using `counts`, how might we compute conditional probabilities like $$P(\\text{species } = \\text{\"Adelie\"} \\mid \\text{sex } = \\text{\"Female\"})?$$"
   ]
  },
  {
   "cell_type": "code",
   "execution_count": null,
   "id": "3ba45ff3",
   "metadata": {},
   "outputs": [],
   "source": [
    "counts"
   ]
  },
  {
   "cell_type": "markdown",
   "id": "43ad126b",
   "metadata": {
    "slideshow": {
     "slide_type": "fragment"
    }
   },
   "source": [
    "$$\\begin{align*}\n",
    "P(\\text{species} = c \\mid \\text{sex} = x) &= \\frac{\\# \\: (\\text{species} = c \\text{ and } \\text{sex} = x)}{\\# \\: (\\text{sex} = x)}\n",
    "\\end{align*}$$\n",
    "\n",
    "<details>\n",
    "    <summary>➡️ Click <b>here</b> to see more of a derivation.</summary>\n",
    "$$\\begin{align*}\n",
    "P(\\text{species} = c \\mid \\text{sex} = x) &= \\frac{P(\\text{species} = c \\text{ and } \\text{sex} = x)}{P(\\text{sex = }x)} \\\\\n",
    "&= \\frac{\\frac{\\# \\: (\\text{species } = \\: c \\text{ and } \\text{sex } = \\: x)}{N}}{\\frac{\\# \\: (\\text{sex } = \\: x)}{N}} \\\\\n",
    "&= \\frac{\\# \\: (\\text{species} = c \\text{ and } \\text{sex} = x)}{\\# \\: (\\text{sex} = x)}\n",
    "\\end{align*}$$\n",
    "</details>"
   ]
  },
  {
   "cell_type": "markdown",
   "id": "ff143cc6",
   "metadata": {
    "slideshow": {
     "slide_type": "fragment"
    }
   },
   "source": [
    "**Answer**: To find conditional probabilities of **`'species'` given `'sex'`**, divide by **column sums**. To find conditional probabilities of **`'sex'` given `'species'`**, divide by **row sums**."
   ]
  },
  {
   "cell_type": "markdown",
   "id": "d373b71c",
   "metadata": {
    "slideshow": {
     "slide_type": "slide"
    }
   },
   "source": [
    "### Conditional probabilities\n",
    "\n",
    "To find conditional probabilities of **`'species'` given `'sex'`**, divide by **column sums**. To find conditional probabilities of **`'sex'` given `'species'`**, divide by **row sums**."
   ]
  },
  {
   "cell_type": "code",
   "execution_count": null,
   "id": "13c67c6c",
   "metadata": {},
   "outputs": [],
   "source": [
    "counts"
   ]
  },
  {
   "cell_type": "code",
   "execution_count": null,
   "id": "7e995c56",
   "metadata": {},
   "outputs": [],
   "source": [
    "counts.sum(axis=0)"
   ]
  },
  {
   "cell_type": "markdown",
   "id": "08bae3f5",
   "metadata": {
    "slideshow": {
     "slide_type": "fragment"
    }
   },
   "source": [
    "The conditional distribution of **`'species'` given `'sex'`** is below. Note that in this new DataFrame, the `'Female'` and `'Male'` columns each sum to 1."
   ]
  },
  {
   "cell_type": "code",
   "execution_count": null,
   "id": "ac092c84",
   "metadata": {},
   "outputs": [],
   "source": [
    "counts / counts.sum(axis=0)"
   ]
  },
  {
   "cell_type": "markdown",
   "id": "82ff00a4",
   "metadata": {},
   "source": [
    "For instance, the above DataFrame tells us that the probability that a randomly selected penguin is of `'species'` `'Adelie'` **given** that they are of `'sex'` `'Female'` is 0.442424."
   ]
  },
  {
   "cell_type": "markdown",
   "id": "d4991c0d",
   "metadata": {
    "slideshow": {
     "slide_type": "slide"
    }
   },
   "source": [
    "<div class=\"alert alert-success\">\n",
    "    <h3>Exercise</h3>\n",
    "    Find the conditional distribution of <code>'sex'</code> given <code>'species'</code>.<br>\n",
    "    <b><i>Hint</i></b>: Use <code>.T</code>.\n",
    "</div>"
   ]
  },
  {
   "cell_type": "code",
   "execution_count": null,
   "id": "fd4fa220",
   "metadata": {},
   "outputs": [],
   "source": [
    "counts"
   ]
  },
  {
   "cell_type": "code",
   "execution_count": null,
   "id": "8b89d51e",
   "metadata": {},
   "outputs": [],
   "source": [
    "(counts.T / counts.T.sum(axis=0)).T"
   ]
  },
  {
   "cell_type": "code",
   "execution_count": null,
   "id": "b71cb2a1",
   "metadata": {},
   "outputs": [],
   "source": [
    "counts.apply(lambda s: s / s.sum(), axis=1)"
   ]
  },
  {
   "cell_type": "markdown",
   "id": "4ee6c875",
   "metadata": {
    "slideshow": {
     "slide_type": "slide"
    }
   },
   "source": [
    "## Simpson's paradox\n",
    "\n",
    "<br>\n",
    "\n",
    "<center><img src=\"imgs/simpsons.png\" width=50%></center>"
   ]
  },
  {
   "cell_type": "markdown",
   "id": "a8a330c7",
   "metadata": {
    "slideshow": {
     "slide_type": "slide"
    }
   },
   "source": [
    "### Example: Grades\n",
    "\n",
    "- Two students, Lisa and Bart, just finished their first year at UCSD. They both took a different number of classes in Fall, Winter, and Spring.\n",
    "\n",
    "- Each quarter, Lisa had a higher GPA than Bart.\n",
    "\n",
    "- But Bart has a higher overall GPA.\n",
    "\n",
    "- How is this possible? 🤔"
   ]
  },
  {
   "cell_type": "markdown",
   "id": "ef31642c",
   "metadata": {
    "slideshow": {
     "slide_type": "slide"
    }
   },
   "source": [
    "Run this cell to create DataFrames that contain each students' grades."
   ]
  },
  {
   "cell_type": "code",
   "execution_count": null,
   "id": "f859a42e",
   "metadata": {},
   "outputs": [],
   "source": [
    "lisa = pd.DataFrame([[20, 46], [18, 54], [5, 20]],\n",
    "    columns=['Units', 'Grade Points Earned'], \n",
    "    index=['Fall', 'Winter', 'Spring'],\n",
    ")\n",
    "lisa.columns.name = 'Lisa' # This allows us to see the name \"Lisa\" in the top left of the DataFrame.\n",
    "\n",
    "bart = pd.DataFrame([[5, 10], [5, 13.5], [22, 81.4]],\n",
    "    columns=['Units', 'Grade Points Earned'], \n",
    "    index=['Fall', 'Winter', 'Spring'],\n",
    ")\n",
    "bart.columns.name = 'Bart'"
   ]
  },
  {
   "cell_type": "markdown",
   "id": "778dc50b",
   "metadata": {
    "slideshow": {
     "slide_type": "slide"
    }
   },
   "source": [
    "### Quarter-specific vs. overall GPAs\n",
    "\n",
    "**Note**: The number of \"grade points\" earned for a course is\n",
    "\n",
    "$$\\text{number of units} \\cdot \\text{grade (out of 4)}$$\n",
    "\n",
    "For instance, an A- in a 4 unit course earns $3.7 \\cdot 4 = 14.8$ grade points."
   ]
  },
  {
   "cell_type": "code",
   "execution_count": null,
   "id": "86c712d5",
   "metadata": {},
   "outputs": [],
   "source": [
    "dfs_side_by_side(lisa, bart)"
   ]
  },
  {
   "cell_type": "markdown",
   "id": "b9d1793e",
   "metadata": {
    "slideshow": {
     "slide_type": "fragment"
    }
   },
   "source": [
    "Lisa had a higher GPA in all three quarters."
   ]
  },
  {
   "cell_type": "code",
   "execution_count": null,
   "id": "f4e9fd96",
   "metadata": {},
   "outputs": [],
   "source": [
    "quarterly_gpas = pd.DataFrame({\n",
    "    \"Lisa's Quarter GPA\": lisa['Grade Points Earned'] / lisa['Units'],\n",
    "    \"Bart's Quarter GPA\": bart['Grade Points Earned'] / bart['Units'],\n",
    "})\n",
    "\n",
    "quarterly_gpas"
   ]
  },
  {
   "cell_type": "markdown",
   "id": "89b12bd6",
   "metadata": {
    "slideshow": {
     "slide_type": "slide"
    }
   },
   "source": [
    "<div class=\"alert alert-success\">\n",
    "    <h3>Exercise</h3>\n",
    "    Use the DataFrame <code>lisa</code> to compute Lisa's overall GPA, and use the DataFrame <code>bart</code>to compute Bart's overall GPA.\n",
    "</div>"
   ]
  },
  {
   "cell_type": "code",
   "execution_count": null,
   "id": "abe9ff14",
   "metadata": {},
   "outputs": [],
   "source": [
    "dfs_side_by_side(lisa, bart)"
   ]
  },
  {
   "cell_type": "code",
   "execution_count": null,
   "id": "2a2973aa",
   "metadata": {},
   "outputs": [],
   "source": [
    "# Your code goes here.\n",
    "lisa.sum().agg(lambda s: s.iloc[1] / s.iloc[0])"
   ]
  },
  {
   "cell_type": "code",
   "execution_count": null,
   "id": "543e4d52",
   "metadata": {},
   "outputs": [],
   "source": [
    "bart.sum().agg(lambda s: s.iloc[1] / s.iloc[0])"
   ]
  },
  {
   "cell_type": "markdown",
   "id": "91f345d5",
   "metadata": {
    "slideshow": {
     "slide_type": "slide"
    }
   },
   "source": [
    "### What happened?"
   ]
  },
  {
   "cell_type": "code",
   "execution_count": null,
   "id": "c1296389",
   "metadata": {},
   "outputs": [],
   "source": [
    "(quarterly_gpas\n",
    " .assign(Lisa_Units=lisa['Units'],\n",
    "         Bart_Units=bart['Units']) \n",
    " .iloc[:, [0, 2, 1, 3]]\n",
    ")"
   ]
  },
  {
   "cell_type": "markdown",
   "id": "9097e730",
   "metadata": {
    "slideshow": {
     "slide_type": "fragment"
    }
   },
   "source": [
    "- When Lisa and Bart both performed poorly, Lisa took more units than Bart. **This brought down 📉 Lisa's overall average.**\n",
    "\n",
    "- When Lisa and Bart both performed well, Bart took more units than Lisa. **This brought up 📈 Bart's overall average.**"
   ]
  },
  {
   "cell_type": "markdown",
   "id": "2fd844c7",
   "metadata": {
    "slideshow": {
     "slide_type": "slide"
    }
   },
   "source": [
    "### Simpson's paradox\n",
    "\n",
    "- Simpson's paradox occurs when **grouped data and ungrouped data show opposing trends**.\n",
    "    - It is named after Edward H. Simpson, not Lisa or Bart Simpson.\n",
    "\n",
    "- It often happens because there is a hidden factor (i.e. a **confounder**) within the data that influences results.\n",
    "\n",
    "- **Question**: What is the \"correct\" way to summarize your data? What if you had to act on these results?"
   ]
  },
  {
   "cell_type": "markdown",
   "id": "4f62c363",
   "metadata": {
    "slideshow": {
     "slide_type": "slide"
    }
   },
   "source": [
    "### Example: How Berkeley was _almost_ sued for gender discrimination (1973)\n",
    "\n",
    "What do you notice?\n",
    "\n",
    "<center><img src='imgs/berkeley.png' width=70%></center>"
   ]
  },
  {
   "cell_type": "code",
   "execution_count": null,
   "id": "d0da5b55",
   "metadata": {
    "scrolled": false,
    "slideshow": {
     "slide_type": "slide"
    }
   },
   "outputs": [],
   "source": [
    "show_paradox_slides()"
   ]
  },
  {
   "cell_type": "markdown",
   "id": "0e443b86",
   "metadata": {
    "slideshow": {
     "slide_type": "slide"
    }
   },
   "source": [
    "### What happened?\n",
    "\n",
    "- The overall acceptance rate for women (30%) was lower than it was for men (45%).\n",
    "\n",
    "- However, most departments (A, B, D, F) had a higher acceptance rate for women.\n",
    "\n",
    "- Department A had a 62% acceptance rate for men and an 82% acceptance rate for women!\n",
    "    - 31% of men applied to Department A.\n",
    "    - 6% of women applied to Department A.\n",
    "\n",
    "- Department F had a 6% acceptance rate for men and a 7% acceptance rate for women!\n",
    "    - 14% of men applied to Department F.\n",
    "    - 19% of women applied to Department F.\n",
    "\n",
    "- **Conclusion**: Women tended to apply to departments with a lower acceptance rate; the data don't support the hypothesis that there was major gender discrimination against women."
   ]
  },
  {
   "cell_type": "markdown",
   "id": "06dd1143",
   "metadata": {
    "slideshow": {
     "slide_type": "slide"
    }
   },
   "source": [
    "### Caution!\n",
    "\n",
    "This doesn't mean that admissions are free from gender discrimination! \n",
    "\n",
    "From [Moss-Racusin et al., 2012, PNAS](https://www.pnas.org/doi/10.1073/pnas.1211286109) (cited 2600+ times):\n",
    "\n",
    "> In a randomized double-blind study (n = 127), **science faculty** from research-intensive universities **rated the application materials of a student—who was randomly assigned either a male or female** name—for a laboratory manager position. Faculty **participants rated the male applicant as significantly more competent and hireable than the (identical) female applicant**. These participants also selected a higher starting salary and offered more career mentoring to the male applicant. The gender of the faculty participants did not affect responses, such that female and male faculty were equally likely to exhibit bias against the female student."
   ]
  },
  {
   "cell_type": "markdown",
   "id": "c062e680",
   "metadata": {
    "slideshow": {
     "slide_type": "slide"
    }
   },
   "source": [
    "### But then...\n",
    "\n",
    "From [Williams and Ceci, 2015, PNAS](https://www.pnas.org/doi/10.1073/pnas.1418878112):\n",
    "\n",
    "> Here we report five hiring experiments in which faculty evaluated hypothetical female and male applicants, using systematically varied profiles disguising identical scholarship, for assistant professorships in biology, engineering, economics, and psychology. Contrary to prevailing assumptions, **men and women faculty members from all four fields preferred female applicants 2:1 over identically qualified males** with matching lifestyles (single, married, divorced), with the exception of male economists, who showed no gender preference."
   ]
  },
  {
   "cell_type": "markdown",
   "id": "6ca45cbb",
   "metadata": {
    "slideshow": {
     "slide_type": "slide"
    }
   },
   "source": [
    "### Do these conflict?\n",
    "\n",
    "Not necessarily. One explanation, from William and Ceci:\n",
    "\n",
    "> Instead, past studies have used ratings of students’ hirability for a range of posts that do not include tenure-track jobs, such as managing laboratories or performing math assignments for a company. However, hiring tenure-track faculty differs from hiring lower-level staff: it entails selecting among highly accomplished candidates, all of whom have completed Ph.D.s and amassed publications and strong letters of support. **Hiring bias may occur when applicants’ records are ambiguous, as was true in studies of hiring bias for lower-level staff posts, but such bias may not occur when records are clearly strong**, as is the case with tenure-track hiring."
   ]
  },
  {
   "cell_type": "markdown",
   "id": "0de1b64a",
   "metadata": {
    "slideshow": {
     "slide_type": "slide"
    }
   },
   "source": [
    "### Example: Restaurant reviews and phone types"
   ]
  },
  {
   "cell_type": "markdown",
   "id": "43ac762b",
   "metadata": {
    "slideshow": {
     "slide_type": "fragment"
    }
   },
   "source": [
    "* You are deciding whether to eat at Dirty Birds or The Loft."
   ]
  },
  {
   "cell_type": "markdown",
   "id": "1f891319",
   "metadata": {
    "slideshow": {
     "slide_type": "fragment"
    }
   },
   "source": [
    "* Suppose Yelp shows ratings aggregated by phone type (Android vs. iPhone).\n",
    "\n",
    "|Phone Type|Stars for Dirty Birds|Stars for The Loft|\n",
    "|---|---|---|\n",
    "|Android|4.24|4.0|\n",
    "|iPhone|2.99|2.79|\n",
    "|**All**|**3.32**|**3.37**|"
   ]
  },
  {
   "cell_type": "markdown",
   "id": "0d66bbf8",
   "metadata": {
    "slideshow": {
     "slide_type": "fragment"
    }
   },
   "source": [
    "* **Question**: Should you choose Dirty Birds or The Loft?"
   ]
  },
  {
   "cell_type": "markdown",
   "id": "949bc780",
   "metadata": {
    "slideshow": {
     "slide_type": "fragment"
    }
   },
   "source": [
    "* **Answer**: The type of phone you use likely has nothing to do with your taste in food – pick the restaurant that is rated higher overall."
   ]
  },
  {
   "cell_type": "markdown",
   "id": "df2f81be",
   "metadata": {
    "slideshow": {
     "slide_type": "slide"
    }
   },
   "source": [
    "### Rule of thumb 👍"
   ]
  },
  {
   "cell_type": "markdown",
   "id": "6ee7f81d",
   "metadata": {
    "slideshow": {
     "slide_type": "fragment"
    }
   },
   "source": [
    "- Let $(X, Y)$ be a pair of variables of interest. Simpson's paradox occurs when the association between $X$ and $Y$ reverses when we condition on $Z$, a third variable."
   ]
  },
  {
   "cell_type": "markdown",
   "id": "daa75896",
   "metadata": {
    "slideshow": {
     "slide_type": "fragment"
    }
   },
   "source": [
    "- If $Z$ has a **causal** connection to both $X$ and $Y$, we should condition on $Z$ and use deaggregated data."
   ]
  },
  {
   "cell_type": "markdown",
   "id": "41189572",
   "metadata": {
    "slideshow": {
     "slide_type": "fragment"
    }
   },
   "source": [
    "- If not, we shouldn't condition on $Z$ and use the aggregated data instead."
   ]
  },
  {
   "cell_type": "markdown",
   "id": "c3409623",
   "metadata": {
    "slideshow": {
     "slide_type": "fragment"
    }
   },
   "source": [
    "- Berkeley gender discrimination: $X$ is gender, $Y$ is acceptance rate. $Z$ is the department.\n",
    "    - $Z$ has a plausible causal effect on both $X$ and $Y$, so we should condition on $Z$."
   ]
  },
  {
   "cell_type": "markdown",
   "id": "11dfa0f0",
   "metadata": {
    "slideshow": {
     "slide_type": "fragment"
    }
   },
   "source": [
    "- Yelp ratings: $X$ is the restaurant, $Y$ is the average stars. $Z$ is the phone type.\n",
    "    - $Z$ doesn't plausibly cause $X$ to change, so we should not condition on $Z$."
   ]
  },
  {
   "cell_type": "markdown",
   "id": "1e2e46f5",
   "metadata": {
    "slideshow": {
     "slide_type": "slide"
    }
   },
   "source": [
    "### Takeaways\n",
    "\n",
    "Be skeptical of...\n",
    "\n",
    "- Aggregate statistics.\n",
    "- People misusing statistics to \"prove\" that discrimination doesn't exist.\n",
    "- Drawing conclusions from individual publications ($p$-hacking, publication bias, narrow focus, etc.).\n",
    "- Everything!\n",
    "\n",
    "**We need to apply domain knowledge and human judgement calls to decide what to do when Simpson's paradox is present.**"
   ]
  },
  {
   "cell_type": "markdown",
   "id": "0bda3331",
   "metadata": {
    "slideshow": {
     "slide_type": "slide"
    }
   },
   "source": [
    "### Really?\n",
    "\n",
    "To handle Simpson's paradox with rigor, we need some ideas from causal inference which we don't have time to cover in DSC 80. This video has a good example of how to approach Simpson's paradox using a minimal amount of causal inference, if you're curious (not required for DSC 80)."
   ]
  },
  {
   "cell_type": "code",
   "execution_count": null,
   "id": "ecce9e2a",
   "metadata": {},
   "outputs": [],
   "source": [
    "IFrame('https://www.youtube-nocookie.com/embed/zeuW1Z2EtLs?si=l2Dl7P-5RCq3ODpo',\n",
    "       width=560, height=315)"
   ]
  },
  {
   "cell_type": "markdown",
   "id": "25547cfa",
   "metadata": {
    "slideshow": {
     "slide_type": "slide"
    }
   },
   "source": [
    "### Further reading\n",
    "\n",
    "- [Gender Bias in Admission Statistics?](https://www.cantorsparadise.com/gender-bias-in-admission-statistics-eaabca650810)\n",
    "    - Contains a **great** visualization, but seems to be paywalled now.\n",
    "- [What is Simpson's Paradox?](https://statisticsbyjim.com/basics/simpsons-paradox/) \n",
    "- [Understanding Simpson's Paradox](https://ftp.cs.ucla.edu/pub/stat_ser/r414.pdf)\n",
    "    - Requires more statistics background, but gives a rigorous understanding of when to use aggregated vs. unaggregated data."
   ]
  },
  {
   "cell_type": "markdown",
   "id": "7b430d7e",
   "metadata": {
    "slideshow": {
     "slide_type": "slide"
    }
   },
   "source": [
    "<div class=\"alert alert-warning\">\n",
    "    <h3>Question 🤔 (Answer at <a href=\"https://q.dsc80.com\">q.dsc80.com)</h3>\n",
    "</div>\n",
    "    \n",
    "What questions do you have?"
   ]
  },
  {
   "cell_type": "markdown",
   "id": "f1c62543",
   "metadata": {
    "slideshow": {
     "slide_type": "slide"
    }
   },
   "source": [
    "## Merging"
   ]
  },
  {
   "cell_type": "markdown",
   "id": "4ec22b96",
   "metadata": {
    "slideshow": {
     "slide_type": "slide"
    }
   },
   "source": [
    "### Example: Name categories\n",
    "\n",
    "The [New York Times article from Lecture 1](https://archive.is/NpORG) claims that certain categories of names are becoming more popular. For example:"
   ]
  },
  {
   "cell_type": "markdown",
   "id": "89fcd811",
   "metadata": {
    "slideshow": {
     "slide_type": "fragment"
    }
   },
   "source": [
    "- Forbidden names like Lucifer, Lilith, Kali, and Danger."
   ]
  },
  {
   "cell_type": "markdown",
   "id": "cb46576d",
   "metadata": {
    "slideshow": {
     "slide_type": "fragment"
    }
   },
   "source": [
    "- Evangelical names like Amen, Savior, Canaan, and Creed."
   ]
  },
  {
   "cell_type": "markdown",
   "id": "d6b47360",
   "metadata": {
    "slideshow": {
     "slide_type": "fragment"
    }
   },
   "source": [
    "- Mythological names."
   ]
  },
  {
   "cell_type": "markdown",
   "id": "b46e7578",
   "metadata": {
    "slideshow": {
     "slide_type": "fragment"
    }
   },
   "source": [
    "- It also claims that baby boomer names are becoming less popular."
   ]
  },
  {
   "cell_type": "markdown",
   "id": "5bec432a",
   "metadata": {
    "slideshow": {
     "slide_type": "fragment"
    }
   },
   "source": [
    "Let's see if we can verify these claims using data!"
   ]
  },
  {
   "cell_type": "markdown",
   "id": "2fdf7395",
   "metadata": {
    "slideshow": {
     "slide_type": "slide"
    }
   },
   "source": [
    "### Loading in the data"
   ]
  },
  {
   "cell_type": "markdown",
   "id": "93d61f63",
   "metadata": {
    "slideshow": {
     "slide_type": "fragment"
    }
   },
   "source": [
    "Our first DataFrame, `baby`, is the same as we saw in Lecture 1. It has one row for every combination of `'Name'`, `'Sex'`, and `'Year'`."
   ]
  },
  {
   "cell_type": "code",
   "execution_count": null,
   "id": "e05bad6f",
   "metadata": {},
   "outputs": [],
   "source": [
    "baby_path = Path('data') / 'baby.csv'\n",
    "baby = pd.read_csv(baby_path)\n",
    "baby"
   ]
  },
  {
   "cell_type": "markdown",
   "id": "f2d7eaeb",
   "metadata": {
    "slideshow": {
     "slide_type": "fragment"
    }
   },
   "source": [
    "Our second DataFrame, `nyt`, contains the New York Times' categorization of each of several names, based on the aforementioned article."
   ]
  },
  {
   "cell_type": "code",
   "execution_count": null,
   "id": "f60eca7e",
   "metadata": {},
   "outputs": [],
   "source": [
    "nyt_path = Path('data') / 'nyt_names.csv'\n",
    "nyt = pd.read_csv(nyt_path)\n",
    "nyt"
   ]
  },
  {
   "cell_type": "markdown",
   "id": "6e384d81",
   "metadata": {
    "slideshow": {
     "slide_type": "fragment"
    }
   },
   "source": [
    "**Issue**: To find the number of babies born with (for example) forbidden names each year, we need to combine information from both `baby` and `nyt`."
   ]
  },
  {
   "cell_type": "markdown",
   "id": "efe49a7d",
   "metadata": {
    "slideshow": {
     "slide_type": "slide"
    }
   },
   "source": [
    "### Merging\n",
    "\n",
    "- We want to link rows from `baby` and `nyt` together whenever the names match up.\n",
    "- This is a **merge** (`pandas` term), i.e. a **join** (SQL term).\n",
    "- A merge is appropriate when we have two sources of information **about the same individuals** that is **linked by a common column(s)**.\n",
    "- The common column(s) are called the **join key**."
   ]
  },
  {
   "cell_type": "markdown",
   "id": "4d99d927",
   "metadata": {
    "slideshow": {
     "slide_type": "slide"
    }
   },
   "source": [
    "### Example merge\n",
    "\n",
    "Let's demonstrate on a small subset of `baby` and `nyt`."
   ]
  },
  {
   "cell_type": "code",
   "execution_count": null,
   "id": "abff9e98",
   "metadata": {},
   "outputs": [],
   "source": [
    "nyt_small = nyt.iloc[[11, 12, 14]].reset_index(drop=True)\n",
    "\n",
    "names_to_keep = ['Julius', 'Karen', 'Noah']\n",
    "baby_small = (baby\n",
    " .query(\"Year == 2020 and Name in @names_to_keep\")\n",
    " .reset_index(drop=True)\n",
    ")\n",
    "\n",
    "dfs_side_by_side(baby_small, nyt_small)"
   ]
  },
  {
   "cell_type": "code",
   "execution_count": null,
   "id": "0c28a1e0",
   "metadata": {},
   "outputs": [],
   "source": [
    "%%pt\n",
    "baby_small.merge(nyt_small, left_on='Name', right_on='nyt_name')"
   ]
  },
  {
   "cell_type": "markdown",
   "id": "e43c4eaa",
   "metadata": {
    "slideshow": {
     "slide_type": "slide"
    }
   },
   "source": [
    "### The `merge` method"
   ]
  },
  {
   "cell_type": "markdown",
   "id": "43545583",
   "metadata": {
    "slideshow": {
     "slide_type": "fragment"
    }
   },
   "source": [
    "- The `merge` DataFrame method joins two DataFrames by columns or indexes.\n",
    "    - As mentioned before, \"merge\" is just the `pandas` word for \"join.\""
   ]
  },
  {
   "cell_type": "markdown",
   "id": "69b782ad",
   "metadata": {
    "slideshow": {
     "slide_type": "fragment"
    }
   },
   "source": [
    "- When using the `merge` method, the DataFrame before `merge` is the \"left\" DataFrame, and the DataFrame passed into `merge` is the \"right\" DataFrame.\n",
    "    - In `baby_small.merge(nyt_small)`, `baby_small` is considered the \"left\" DataFrame and `nyt_small` is the \"right\" DataFrame; the columns from the left DataFrame appear to the left of the columns from right DataFrame."
   ]
  },
  {
   "cell_type": "markdown",
   "id": "622e0bcc",
   "metadata": {
    "slideshow": {
     "slide_type": "fragment"
    }
   },
   "source": [
    "- By default:\n",
    "    - If join keys are not specified, all shared columns between the two DataFrames are used.\n",
    "    - The \"type\" of join performed is an inner join. **This is the only type of join you saw in DSC 10, but there are more, as we'll now see!**"
   ]
  },
  {
   "cell_type": "markdown",
   "id": "31ac2b87",
   "metadata": {
    "slideshow": {
     "slide_type": "slide"
    }
   },
   "source": [
    "### Join types: inner joins"
   ]
  },
  {
   "cell_type": "code",
   "execution_count": null,
   "id": "2206e6f8",
   "metadata": {},
   "outputs": [],
   "source": [
    "%%pt\n",
    "baby_small.merge(nyt_small, left_on='Name', right_on='nyt_name')"
   ]
  },
  {
   "cell_type": "markdown",
   "id": "37df10ce",
   "metadata": {},
   "source": [
    "- Note that `'Noah'` and `'Freya'` do not appear in the merged DataFrame.\n",
    "- This is because there is:\n",
    "    - no `'Noah'` in the right DataFrame (`nyt_small`), and\n",
    "    - no `'Freya'` in the left DataFrame (`baby_small`).\n",
    "- The default type of join that `merge` performs is an **inner join**, which keeps the **intersection** of the join keys.\n",
    "\n",
    "\n",
    "<center><img src='imgs/image_0.png' width=20%></center>"
   ]
  },
  {
   "cell_type": "markdown",
   "id": "bc3f811b",
   "metadata": {
    "slideshow": {
     "slide_type": "slide"
    }
   },
   "source": [
    "### Different join types\n",
    "\n",
    "We can change the type of join performed by changing the `how` argument in `merge`. Let's experiment!"
   ]
  },
  {
   "cell_type": "code",
   "execution_count": null,
   "id": "5edc6919",
   "metadata": {},
   "outputs": [],
   "source": [
    "%%pt\n",
    "# Note the NaNs!\n",
    "baby_small.merge(nyt_small, left_on='Name', right_on='nyt_name', how='left')"
   ]
  },
  {
   "cell_type": "code",
   "execution_count": null,
   "id": "00f81ba5",
   "metadata": {},
   "outputs": [],
   "source": [
    "%%pt\n",
    "baby_small.merge(nyt_small, left_on='Name', right_on='nyt_name', how='right')"
   ]
  },
  {
   "cell_type": "code",
   "execution_count": null,
   "id": "7b7e30fa",
   "metadata": {},
   "outputs": [],
   "source": [
    "%%pt\n",
    "baby_small.merge(nyt_small, left_on='Name', right_on='nyt_name', how='outer')"
   ]
  },
  {
   "cell_type": "markdown",
   "id": "dac15f23",
   "metadata": {
    "slideshow": {
     "slide_type": "slide"
    }
   },
   "source": [
    "### Different join types handle mismatches differently\n",
    "\n",
    "There are four types of joins.\n",
    "\n",
    "* **Inner**: keep **only** matching keys (intersection).\n",
    "* **Outer**: keep **all** keys in both DataFrames (union).\n",
    "* **Left**: keep all keys in the left DataFrame, whether or not they are in the right DataFrame.\n",
    "* **Right**: keep all keys in the right DataFrame, whether or not they are in the left DataFrame.\n",
    "    * Note that `a.merge(b, how='left')` contains the same information as `b.merge(a, how='right')`, just in a different order.\n",
    "\n",
    "<center><img src='imgs/image_1.png' width=30%></center>"
   ]
  },
  {
   "cell_type": "markdown",
   "id": "ad42404e",
   "metadata": {
    "slideshow": {
     "slide_type": "slide"
    }
   },
   "source": [
    "### Notes on the `merge` method\n",
    "\n",
    "- `merge` is flexible – you can merge using a combination of columns, or the index of the DataFrame.\n",
    "-  If the two DataFrames have the same column names, `pandas` will add `_x` and `_y` to the duplicated column names to avoid having columns with the same name (change these the `suffixes` argument).\n",
    "- There is, in fact, a `join` method, but it's actually a wrapper around `merge` with fewer options.\n",
    "- **As always, the [documentation](https://pandas.pydata.org/docs/reference/api/pandas.DataFrame.merge.html) is your friend!**"
   ]
  },
  {
   "cell_type": "markdown",
   "id": "7c9059bc",
   "metadata": {
    "slideshow": {
     "slide_type": "slide"
    }
   },
   "source": [
    "## Many-to-one & many-to-many joins"
   ]
  },
  {
   "cell_type": "markdown",
   "id": "fa7eae26",
   "metadata": {
    "slideshow": {
     "slide_type": "slide"
    }
   },
   "source": [
    "### One-to-one joins\n",
    "\n",
    "- So far in this lecture, the joins we have worked with are called **one-to-one** joins.\n",
    "- Neither the left DataFrame (`baby_small`) nor the right DataFrame (`nyt_small`) contained any duplicates in the join key.\n",
    "- What if there are duplicated join keys, in one or both of the DataFrames we are merging?"
   ]
  },
  {
   "cell_type": "code",
   "execution_count": null,
   "id": "38e5378a",
   "metadata": {
    "slideshow": {
     "slide_type": "slide"
    }
   },
   "outputs": [],
   "source": [
    "# Run this cell to set up the next example.\n",
    "profs = pd.DataFrame(\n",
    "[['Sam', 'UCB', 5],\n",
    " ['Sam', 'UCSD', 5],\n",
    " ['Janine', 'UCSD', 8],\n",
    " ['Marina', 'UIC', 7],\n",
    " ['Justin', 'OSU', 5],\n",
    " ['Soohyun', 'UCSD', 2],\n",
    " ['Suraj', 'UCB', 2]],\n",
    "    columns=['Name', 'School', 'Years']\n",
    ")\n",
    "\n",
    "schools = pd.DataFrame({\n",
    "    'Abr': ['UCSD', 'UCLA', 'UCB', 'UIC'],\n",
    "    'Full': ['University of California San Diego', 'University of California, Los Angeles', 'University of California, Berkeley', 'University of Illinois Chicago']\n",
    "})\n",
    "\n",
    "programs = pd.DataFrame({\n",
    "    'uni': ['UCSD', 'UCSD', 'UCSD', 'UCB', 'OSU', 'OSU'],\n",
    "    'dept': ['Math', 'HDSI', 'COGS', 'CS', 'Math', 'CS'],\n",
    "    'grad_students': [205, 54, 281, 439, 304, 193]\n",
    "})"
   ]
  },
  {
   "cell_type": "markdown",
   "id": "4801c5d8",
   "metadata": {
    "slideshow": {
     "slide_type": "slide"
    }
   },
   "source": [
    "### Many-to-one joins\n",
    "\n",
    "- Many-to-one joins are joins where **one** of the DataFrames contains duplicate values in the join key. \n",
    "- The resulting DataFrame will preserve those duplicate entries as appropriate. "
   ]
  },
  {
   "cell_type": "code",
   "execution_count": null,
   "id": "e7e7d4ab",
   "metadata": {},
   "outputs": [],
   "source": [
    "dfs_side_by_side(profs, schools)"
   ]
  },
  {
   "cell_type": "markdown",
   "id": "9bac6107",
   "metadata": {},
   "source": [
    "Note that when merging `profs` and `schools`, the information from `schools` is duplicated.\n",
    "- `'University of California, San Diego'` appears three times.\n",
    "- `'University of California, Berkeley'` appears twice."
   ]
  },
  {
   "cell_type": "code",
   "execution_count": null,
   "id": "23a18661",
   "metadata": {},
   "outputs": [],
   "source": [
    "profs.merge(schools, left_on='School', right_on='Abr', how='left')"
   ]
  },
  {
   "cell_type": "markdown",
   "id": "7f6c7090",
   "metadata": {
    "slideshow": {
     "slide_type": "slide"
    }
   },
   "source": [
    "### Many-to-many joins\n",
    "\n",
    "Many-to-many joins are joins where both DataFrames have duplicate values in the join key."
   ]
  },
  {
   "cell_type": "code",
   "execution_count": null,
   "id": "3942476b",
   "metadata": {},
   "outputs": [],
   "source": [
    "dfs_side_by_side(profs, programs)"
   ]
  },
  {
   "cell_type": "markdown",
   "id": "8cd14679",
   "metadata": {
    "slideshow": {
     "slide_type": ""
    }
   },
   "source": [
    "Before running the following cell, try predicting the number of rows in the output."
   ]
  },
  {
   "cell_type": "code",
   "execution_count": null,
   "id": "aa4fb512",
   "metadata": {
    "scrolled": false
   },
   "outputs": [],
   "source": [
    "%%pt\n",
    "profs.merge(programs, left_on='School', right_on='uni')"
   ]
  },
  {
   "cell_type": "markdown",
   "id": "3f6525c8",
   "metadata": {},
   "source": [
    "- `merge` stitched together every UCSD row in `profs` with every UCSD row in `programs`. \n",
    "- Since there were 3 UCSD rows in `profs` and 3 in `programs`, there are $3 \\cdot 3 = 9$ UCSD rows in the output. The same applies for all other schools."
   ]
  },
  {
   "cell_type": "markdown",
   "id": "9e079bb6",
   "metadata": {
    "slideshow": {
     "slide_type": "slide"
    }
   },
   "source": [
    "<div class=\"alert alert-success\" markdown=\"1\">\n",
    "    <h3>Exercise</h3>\n",
    "    \n",
    "Fill in the blanks so that `rows` evaluates to the number of rows in the DataFrame \n",
    "\n",
    "`profs.merge(programs, left_on='School', right_on='uni')`.\n",
    "\n",
    "<br>\n",
    "\n",
    "`rows = (____).sum()`\n",
    "\n",
    "<br>\n",
    "\n",
    "**Don't** use `merge` (or `join`) in your solution!\n",
    "\n",
    "</div>"
   ]
  },
  {
   "cell_type": "code",
   "execution_count": null,
   "id": "8734d9c8",
   "metadata": {},
   "outputs": [],
   "source": [
    "# Your code goes here.\n",
    "profs['School'].value_counts()"
   ]
  },
  {
   "cell_type": "code",
   "execution_count": null,
   "id": "a185b655",
   "metadata": {},
   "outputs": [],
   "source": [
    "programs['uni'].value_counts()"
   ]
  },
  {
   "cell_type": "code",
   "execution_count": null,
   "id": "7c75e982",
   "metadata": {},
   "outputs": [],
   "source": [
    "profs['School'].value_counts() * programs['uni'].value_counts()"
   ]
  },
  {
   "cell_type": "code",
   "execution_count": null,
   "id": "7d5d0fd1",
   "metadata": {},
   "outputs": [],
   "source": [
    "(profs['School'].value_counts() * programs['uni'].value_counts()).sum()"
   ]
  },
  {
   "cell_type": "markdown",
   "id": "a7df399c",
   "metadata": {
    "slideshow": {
     "slide_type": "slide"
    }
   },
   "source": [
    "### Returning back to our original question\n",
    "\n",
    "Let's find the popularity of baby name categories over time. To start, we'll define a DataFrame that has one row for every combination of `'category'` and `'Year'`."
   ]
  },
  {
   "cell_type": "code",
   "execution_count": null,
   "id": "682b4b78",
   "metadata": {},
   "outputs": [],
   "source": [
    "baby"
   ]
  },
  {
   "cell_type": "code",
   "execution_count": null,
   "id": "5068b946",
   "metadata": {},
   "outputs": [],
   "source": [
    "nyt"
   ]
  },
  {
   "cell_type": "code",
   "execution_count": null,
   "id": "e9d8955f",
   "metadata": {},
   "outputs": [],
   "source": [
    "cate_counts = (\n",
    "    baby.merge(nyt, left_on='Name', right_on='nyt_name')\n",
    "    .groupby(['category', 'Year'])\n",
    "    [['Count']]\n",
    "    .sum()\n",
    "    .reset_index()\n",
    ")\n",
    "cate_counts"
   ]
  },
  {
   "cell_type": "code",
   "execution_count": null,
   "id": "03159ce1",
   "metadata": {},
   "outputs": [],
   "source": [
    "# We'll talk about plotting code soon!\n",
    "import plotly.express as px\n",
    "fig = px.line(cate_counts, x='Year', y='Count',\n",
    "              facet_col='category', facet_col_wrap=3,\n",
    "              facet_row_spacing=0.15,\n",
    "              width=600, height=400)\n",
    "fig.update_yaxes(matches=None, showticklabels=False)"
   ]
  },
  {
   "cell_type": "markdown",
   "id": "e2bd3643",
   "metadata": {
    "slideshow": {
     "slide_type": "slide"
    }
   },
   "source": [
    "<div class=\"alert alert-warning\">\n",
    "    <h3>Question 🤔 (Answer at <a href=\"https://q.dsc80.com\">q.dsc80.com)</h3>\n",
    "</div>\n",
    "    \n",
    "What questions do you have?"
   ]
  },
  {
   "cell_type": "markdown",
   "id": "e3c4a816",
   "metadata": {
    "slideshow": {
     "slide_type": "slide"
    }
   },
   "source": [
    "## Transforming"
   ]
  },
  {
   "cell_type": "markdown",
   "id": "64bb8b20",
   "metadata": {
    "slideshow": {
     "slide_type": "slide"
    }
   },
   "source": [
    "### Transforming values"
   ]
  },
  {
   "cell_type": "markdown",
   "id": "e852dda0",
   "metadata": {
    "slideshow": {
     "slide_type": "fragment"
    }
   },
   "source": [
    "- A **transformation** results from performing some operation on every element in a sequence, e.g. a Series."
   ]
  },
  {
   "cell_type": "markdown",
   "id": "d0cc025b",
   "metadata": {
    "slideshow": {
     "slide_type": "fragment"
    }
   },
   "source": [
    "- While we haven't discussed it yet in DSC 80, you learned how to transform Series in DSC 10, using the `apply` method. `apply` is very flexible – it takes in a function, which itself takes in a single value as input and returns a single value."
   ]
  },
  {
   "cell_type": "code",
   "execution_count": null,
   "id": "8c368e07",
   "metadata": {},
   "outputs": [],
   "source": [
    "baby"
   ]
  },
  {
   "cell_type": "code",
   "execution_count": null,
   "id": "963201ff",
   "metadata": {},
   "outputs": [],
   "source": [
    "def number_of_vowels(string):\n",
    "    return sum([c in 'aeiou' for c in string.lower()])\n",
    "\n",
    "baby['Name'].apply(number_of_vowels)"
   ]
  },
  {
   "cell_type": "code",
   "execution_count": null,
   "id": "d8a89fed",
   "metadata": {
    "slideshow": {
     "slide_type": ""
    }
   },
   "outputs": [],
   "source": [
    "# Built-in functions work with apply, too.\n",
    "baby['Name'].apply(len)"
   ]
  },
  {
   "cell_type": "markdown",
   "id": "857996c4",
   "metadata": {
    "slideshow": {
     "slide_type": "slide"
    }
   },
   "source": [
    "### The price of `apply`\n",
    "\n",
    "Unfortunately, `apply` runs really slowly!"
   ]
  },
  {
   "cell_type": "code",
   "execution_count": null,
   "id": "995da2be",
   "metadata": {},
   "outputs": [],
   "source": [
    "%%timeit\n",
    "baby['Name'].apply(number_of_vowels)"
   ]
  },
  {
   "cell_type": "code",
   "execution_count": null,
   "id": "f698c9b0",
   "metadata": {},
   "outputs": [],
   "source": [
    "%%timeit\n",
    "res = []\n",
    "for name in baby['Name']:\n",
    "    res.append(number_of_vowels(name))"
   ]
  },
  {
   "cell_type": "markdown",
   "id": "cb249fb8",
   "metadata": {
    "slideshow": {
     "slide_type": "fragment"
    }
   },
   "source": [
    "**Internally, `apply` actually just runs a `for`-loop!**\n",
    "\n",
    "**So, when possible – say, when applying arithmetic operations – we should work on Series objects directly and avoid `apply`!**"
   ]
  },
  {
   "cell_type": "markdown",
   "id": "a4d63fb5",
   "metadata": {
    "slideshow": {
     "slide_type": "slide"
    }
   },
   "source": [
    "### The price of `apply`"
   ]
  },
  {
   "cell_type": "code",
   "execution_count": null,
   "id": "43ec65ed",
   "metadata": {},
   "outputs": [],
   "source": [
    "%%timeit\n",
    "baby['Year'] // 10 * 10 # Rounds down to the nearest multiple of 10."
   ]
  },
  {
   "cell_type": "code",
   "execution_count": null,
   "id": "610c3a09",
   "metadata": {},
   "outputs": [],
   "source": [
    "%%timeit\n",
    "baby['Year'].apply(lambda y: y // 10 * 10)"
   ]
  },
  {
   "cell_type": "markdown",
   "id": "5c941d3f",
   "metadata": {
    "slideshow": {
     "slide_type": "fragment"
    }
   },
   "source": [
    "**100x slower!**"
   ]
  },
  {
   "cell_type": "markdown",
   "id": "92cbd53e",
   "metadata": {
    "slideshow": {
     "slide_type": "slide"
    }
   },
   "source": [
    "### The `.str` accessor\n",
    "\n",
    "For string operations, `pandas` provides a convenient `.str` accessor."
   ]
  },
  {
   "cell_type": "code",
   "execution_count": null,
   "id": "6d5ee7d9",
   "metadata": {},
   "outputs": [],
   "source": [
    "%%timeit\n",
    "baby['Name'].str.len()"
   ]
  },
  {
   "cell_type": "code",
   "execution_count": null,
   "id": "4d4b803b",
   "metadata": {},
   "outputs": [],
   "source": [
    "%%timeit\n",
    "baby['Name'].apply(len)"
   ]
  },
  {
   "cell_type": "markdown",
   "id": "5505c40f",
   "metadata": {
    "slideshow": {
     "slide_type": "fragment"
    }
   },
   "source": [
    "It's very convenient, but **runs even slower than `apply`!**\n",
    "\n",
    "Even though it's slow, we use `.str` anyway because it makes life easier."
   ]
  },
  {
   "cell_type": "markdown",
   "id": "5b989f24",
   "metadata": {
    "slideshow": {
     "slide_type": "slide"
    }
   },
   "source": [
    "## Other data representations"
   ]
  },
  {
   "cell_type": "markdown",
   "id": "62f289f4",
   "metadata": {
    "slideshow": {
     "slide_type": "slide"
    }
   },
   "source": [
    "### Representations of tabular data"
   ]
  },
  {
   "cell_type": "markdown",
   "id": "bb5129a7",
   "metadata": {
    "slideshow": {
     "slide_type": "fragment"
    }
   },
   "source": [
    "- In DSC 80, we work with DataFrames in `pandas`.\n",
    "    - When we say `pandas` DataFrame, we're talking about the `pandas` API for its DataFrame objects.\n",
    "        - API stands for \"application programming interface.\" We'll learn about these more soon.\n",
    "    - When we say \"DataFrame\", we're referring to a general way to represent data (rows and columns, with labels for both rows and columns)."
   ]
  },
  {
   "cell_type": "markdown",
   "id": "bc0854bc",
   "metadata": {
    "slideshow": {
     "slide_type": "fragment"
    }
   },
   "source": [
    "- There many other ways to work with data tables! \n",
    "    - Examples: R data frames, SQL databases, spreadsheets, or even matrices from linear algebra.\n",
    "    - When you learn SQL in DSC 100, you'll find many similaries (e.g. slicing columns, filtering rows, grouping, joining, etc.).\n",
    "    - **Relational algebra** captures common data operations between many data table systems."
   ]
  },
  {
   "cell_type": "markdown",
   "id": "0256850e",
   "metadata": {
    "slideshow": {
     "slide_type": "fragment"
    }
   },
   "source": [
    "- Why use DataFrames over something else?"
   ]
  },
  {
   "cell_type": "markdown",
   "id": "2e3f5cb6",
   "metadata": {
    "slideshow": {
     "slide_type": "slide"
    }
   },
   "source": [
    "### DataFrames vs. spreadsheets\n",
    "\n",
    "- DataFrames give us a **data lineage**: the code records down data changes. Not so in spreadsheets!\n",
    "- Using a general-purpose programming language gives us the ability to handle much larger datasets, and we can use distributed computing systems to handle massive datasets."
   ]
  },
  {
   "cell_type": "markdown",
   "id": "91460c02",
   "metadata": {
    "slideshow": {
     "slide_type": "slide"
    }
   },
   "source": [
    "### DataFrames vs. matrices\n",
    "\n",
    "\\begin{split}\n",
    "\\begin{aligned}\n",
    "\\mathbf{X} = \\begin{bmatrix}\n",
    "1 & 0 \\\\\n",
    "0 & 4 \\\\\n",
    "0 & 0 \\\\\n",
    "\\end{bmatrix}\n",
    "\\end{aligned}\n",
    "\\end{split}\n",
    "\n",
    "- Matrices are mathematical objects. They only hold numbers, but have many useful properties (which you've learned about in your linear algebra class, Math 18).\n",
    "- Often, we process data from a DataFrame into matrix format for machine learning models. You saw this a bit in DSC 40A, and we'll see this more in DSC 80 in a few weeks."
   ]
  },
  {
   "cell_type": "markdown",
   "id": "6d2a834c",
   "metadata": {
    "slideshow": {
     "slide_type": "slide"
    }
   },
   "source": [
    "### DataFrames vs. relations\n",
    "\n",
    "- Relations are the data representation for relational database systems (e.g. MySQL, PostgreSQL, etc.).\n",
    "- You'll learn all about these in DSC 100.\n",
    "- Database systems are much better than DataFrames at storing **many** data tables and handling concurrency (many people reading and writing data at the same time).\n",
    "- Common workflow: load a subset of data in from a database system into `pandas`, then make a plot.\n",
    "- Or: load and clean data in `pandas`, then store it in a database system for others to use."
   ]
  },
  {
   "cell_type": "markdown",
   "id": "cb70d254",
   "metadata": {
    "slideshow": {
     "slide_type": "slide"
    }
   },
   "source": [
    "## Summary, next time"
   ]
  },
  {
   "cell_type": "markdown",
   "id": "ded48d4d",
   "metadata": {
    "slideshow": {
     "slide_type": "slide"
    }
   },
   "source": [
    "### Summary\n",
    "\n",
    "- There is no \"formula\" to automatically resolve Simpson's paradox! Domain knowledge is important.\n",
    "- We've covered most of the primary DataFrame operations: subsetting, aggregating, joining, and transforming."
   ]
  },
  {
   "cell_type": "markdown",
   "id": "b5cc3548",
   "metadata": {
    "slideshow": {
     "slide_type": "slide"
    }
   },
   "source": [
    "### Next time\n",
    "\n",
    "Data cleaning: applying what we've already learned to real-world, messy data!"
   ]
  }
 ],
 "metadata": {
  "kernelspec": {
   "display_name": "Python 3 (ipykernel)",
   "language": "python",
   "name": "python3"
  },
  "language_info": {
   "codemirror_mode": {
    "name": "ipython",
    "version": 3
   },
   "file_extension": ".py",
   "mimetype": "text/x-python",
   "name": "python",
   "nbconvert_exporter": "python",
   "pygments_lexer": "ipython3",
   "version": "3.8.18"
  },
  "livereveal": {
   "scroll": true
  },
  "rise": {
   "transition": "none"
  }
 },
 "nbformat": 4,
 "nbformat_minor": 5
}
