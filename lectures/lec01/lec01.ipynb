{
 "cells": [
  {
   "cell_type": "code",
   "execution_count": null,
   "id": "40077d4e",
   "metadata": {
    "slideshow": {
     "slide_type": "skip"
    },
    "tags": []
   },
   "outputs": [],
   "source": [
    "import pandas as pd\n",
    "import numpy as np\n",
    "import matplotlib.pyplot as plt\n",
    "import seaborn as sns\n",
    "from matplotlib_inline.backend_inline import set_matplotlib_formats\n",
    "\n",
    "set_matplotlib_formats(\"svg\")\n",
    "sns.set_context(\"poster\")\n",
    "sns.set_style(\"whitegrid\")\n",
    "plt.rcParams[\"figure.figsize\"] = (10, 5)\n",
    "pd.set_option(\"display.max_rows\", 7)\n",
    "pd.set_option(\"display.max_columns\", 8)\n",
    "pd.set_option(\"display.precision\", 2)"
   ]
  },
  {
   "cell_type": "markdown",
   "id": "3143de48",
   "metadata": {
    "slideshow": {
     "slide_type": "slide"
    },
    "tags": []
   },
   "source": [
    "# Lecture 1 – Introduction, Data Science Lifecycle\n",
    "\n",
    "## DSC 80, Winter 2024"
   ]
  },
  {
   "cell_type": "markdown",
   "id": "61dfa21e",
   "metadata": {
    "slideshow": {
     "slide_type": "slide"
    }
   },
   "source": [
    "<center><h2>Welcome to DSC 80! 🎉</h2></center>"
   ]
  },
  {
   "cell_type": "markdown",
   "id": "07213ce0",
   "metadata": {
    "slideshow": {
     "slide_type": "slide"
    }
   },
   "source": [
    "### Agenda\n",
    "\n",
    "- Who are we?\n",
    "- What does a data scientist do?\n",
    "- What is this course about, and how will it run?\n",
    "- The data science lifecycle.\n",
    "- Example: What's in a name?"
   ]
  },
  {
   "cell_type": "markdown",
   "id": "be426149",
   "metadata": {
    "slideshow": {
     "slide_type": "slide"
    }
   },
   "source": [
    "### Instructor: Suraj Rampure (call me Suraj, pronounced \"sooh-rudge\")\n",
    "\n",
    "- Originally from Windsor, ON, Canada 🇨🇦.\n",
    "- BS and MS in Electrical Engineering and Computer Sciences from UC Berkeley 🐻.\n",
    "- Third year teaching in the Halıcıoğlu Data Science Institute at UCSD.\n",
    "    - 3rd time teaching DSC 80.\n",
    "    - Also running the [senior capstone program](https://dsc-capstone.org) for the second time.\n",
    "    - Previously taught DSC 10, 40A, 90, and 95.\n",
    "- Outside interests: traveling, hiking, eating out, watching basketball, FaceTiming my dog 🐶, etc."
   ]
  },
  {
   "cell_type": "markdown",
   "id": "ed85218f",
   "metadata": {
    "slideshow": {
     "slide_type": "slide"
    }
   },
   "source": [
    "<center>\n",
    "    <img src=\"imgs/my-winter.png\" width=70%>\n",
    "</center>"
   ]
  },
  {
   "cell_type": "markdown",
   "id": "fc6a33c0",
   "metadata": {
    "slideshow": {
     "slide_type": "slide"
    }
   },
   "source": [
    "\n",
    "\n",
    "### Course staff\n",
    "\n",
    "In addition to the instructor, we have several staff members who are here to help you in discussion, office hours, and on Ed:\n",
    "\n",
    "- **1 graduate TA**: Dylan Stockard.\n",
    "- **9 undergraduate tutors**: Gabriel Cha, Aritra Das, Weiyue Li, Jasmine Lo, Harshita Saha, Ethan Shapiro, Yutian Shi, Tiffany Yu, Diego Zavalza."
   ]
  },
  {
   "cell_type": "markdown",
   "id": "1f67c73a",
   "metadata": {
    "slideshow": {
     "slide_type": "-"
    }
   },
   "source": [
    "Learn more about them at [dsc80.com/staff](https://dsc80.com/staff)."
   ]
  },
  {
   "cell_type": "markdown",
   "id": "edf518ca",
   "metadata": {
    "slideshow": {
     "slide_type": "slide"
    }
   },
   "source": [
    "## What is data science? 🤔"
   ]
  },
  {
   "cell_type": "markdown",
   "id": "d2145c39",
   "metadata": {
    "slideshow": {
     "slide_type": "slide"
    }
   },
   "source": [
    "### What is data science?\n",
    "\n",
    "<br>\n",
    "\n",
    "<center><img src='imgs/what-is-data-science.png' width=60%></center>\n",
    "\n",
    "Everyone seems to have their own definition of what data science is!"
   ]
  },
  {
   "cell_type": "markdown",
   "id": "81d88189",
   "metadata": {
    "slideshow": {
     "slide_type": "slide"
    }
   },
   "source": [
    "### The DSC 10 approach\n",
    "\n",
    "In DSC 10, we told you that data science is about **drawing useful conclusions from data using computation**. In DSC 10, you:"
   ]
  },
  {
   "cell_type": "markdown",
   "id": "755ea4ea",
   "metadata": {
    "slideshow": {
     "slide_type": "fragment"
    }
   },
   "source": [
    "- Used Python to **explore** and **visualize** data."
   ]
  },
  {
   "cell_type": "markdown",
   "id": "b6c51e83",
   "metadata": {
    "slideshow": {
     "slide_type": "fragment"
    }
   },
   "source": [
    "- Used **simulation** to make **inferences** about a population, given just a sample."
   ]
  },
  {
   "cell_type": "markdown",
   "id": "258b5000",
   "metadata": {
    "slideshow": {
     "slide_type": "fragment"
    }
   },
   "source": [
    "- Made **predictions** about the future given data from the past."
   ]
  },
  {
   "cell_type": "markdown",
   "id": "efabcfc5",
   "metadata": {
    "slideshow": {
     "slide_type": "fragment"
    }
   },
   "source": [
    "Let's look at a few more definitions of data science."
   ]
  },
  {
   "cell_type": "markdown",
   "id": "1efb892b",
   "metadata": {
    "slideshow": {
     "slide_type": "slide"
    }
   },
   "source": [
    "### What is data science?\n",
    "\n",
    "<center><img src=\"imgs/image_0.png\"></center>\n",
    "\n",
    "In 2010, Drew Conway published his famous [Data Science Venn Diagram](http://drewconway.com/zia/2013/3/26/the-data-science-venn-diagram)."
   ]
  },
  {
   "cell_type": "markdown",
   "id": "8d0b484f",
   "metadata": {
    "slideshow": {
     "slide_type": "slide"
    }
   },
   "source": [
    "### What is data science?\n",
    "\n",
    "There isn't agreement on which \"Venn Diagram\" is correct!\n",
    "\n",
    "<center><img src=\"imgs/image_1.png\" width=30%></center>\n",
    "\n",
    "- **Why not?** The field is new and rapidly developing.\n",
    "- Make sure you're solid on the fundamentals, then find a niche that you enjoy.\n",
    "- Read Taylor, [Battle of the Data Science Venn Diagrams](https://deeplearning.lipingyang.org/wp-content/uploads/2017/10/Battle-of-the-Data-Science-Venn-Diagrams.pdf)."
   ]
  },
  {
   "cell_type": "markdown",
   "id": "dd48a8ec",
   "metadata": {
    "slideshow": {
     "slide_type": "slide"
    }
   },
   "source": [
    "### What does a _data scientist_ do?\n",
    "\n",
    "The chart below is taken from the [2016 Data Science Salary Survey](https://www.oreilly.com/radar/2016-data-science-salary-survey-results/), administered by O'Reilly. They asked respondents what they spend their time doing on a daily basis. What do you notice? <br>\n",
    "\n",
    "<center><img src='imgs/survey.png' width=40%></center>"
   ]
  },
  {
   "cell_type": "markdown",
   "id": "e164e0c6",
   "metadata": {
    "slideshow": {
     "slide_type": "slide"
    }
   },
   "source": [
    "The chart below is taken from the followup [2021 Data/AI Salary Survey](https://www.oreilly.com/radar/2021-data-ai-salary-survey/), also administered by O'Reilly. They asked respondents:\n",
    "\n",
    "> What technologies will have the biggest effect on compensation in the coming year?\n",
    "\n",
    "<center><img src='imgs/2021-most-relevant-skill.png' width=45%></center>"
   ]
  },
  {
   "cell_type": "markdown",
   "id": "5146c163",
   "metadata": {
    "slideshow": {
     "slide_type": "slide"
    }
   },
   "source": [
    "### What does a _data scientist_ do?\n",
    "\n",
    "My take: in DSC 80, and in the DSC major more broadly, we are training you to **ask and answer questions using data**."
   ]
  },
  {
   "cell_type": "markdown",
   "id": "dd1a883b",
   "metadata": {
    "slideshow": {
     "slide_type": "fragment"
    }
   },
   "source": [
    "As you take more courses, we're training you to answer questions whose answers are **ambiguous** – this uncertainly is what makes data science challenging!"
   ]
  },
  {
   "cell_type": "markdown",
   "id": "9d2f8d88",
   "metadata": {
    "slideshow": {
     "slide_type": "fragment"
    }
   },
   "source": [
    "Let's look at some examples of data science in practice."
   ]
  },
  {
   "cell_type": "markdown",
   "id": "86af436e",
   "metadata": {
    "slideshow": {
     "slide_type": "slide"
    }
   },
   "source": [
    "### Do people care about climate change?\n",
    "\n",
    "From [How Americans Think About Climate Change, in Six Maps](https://www.nytimes.com/interactive/2017/03/21/climate/how-americans-think-about-climate-change-in-six-maps.html?amp=&smid=fb-nytimes).\n",
    "\n",
    "<center><img src='imgs/nyt-climate-legend.png' width=35%></center>\n",
    "<center><img src='imgs/nyt-climate-harm.png' width=50%></center>"
   ]
  },
  {
   "cell_type": "markdown",
   "id": "0999754a-0033-44e2-8244-5fdaa037aebc",
   "metadata": {
    "slideshow": {
     "slide_type": "slide"
    }
   },
   "source": [
    "### Do people care about climate change?\n",
    "\n",
    "<center><img src='imgs/nyt-climate-legend.png' width=35%></center>\n",
    "<center><img src='imgs/nyt-climate-personal.png' width=50%></center>"
   ]
  },
  {
   "cell_type": "markdown",
   "id": "7c34fb09",
   "metadata": {
    "slideshow": {
     "slide_type": "slide"
    }
   },
   "source": [
    "An excerpt from the article:\n",
    "\n",
    "> Global warming is precisely the kind of threat humans are awful at dealing with: a problem with enormous consequences over the long term, but little that is sharply visible on a personal level in the short term. Humans are hard-wired for quick fight-or-flight reactions in the face of an imminent threat, but not highly motivated to act against slow-moving and somewhat abstract problems, even if the challenges that they pose are ultimately dire."
   ]
  },
  {
   "cell_type": "markdown",
   "id": "4cd37733",
   "metadata": {
    "slideshow": {
     "slide_type": "slide"
    }
   },
   "source": [
    "### Data science involves _people_ 🧍\n",
    "\n",
    "The decisions that we make as data scientists have the potential to impact the livelihoods of other people.\n",
    "\n",
    "- Flu case forecasting.\n",
    "- Admissions and hiring.\n",
    "- Hyper-personalized ad recommendations."
   ]
  },
  {
   "cell_type": "markdown",
   "id": "dfdae8ce",
   "metadata": {
    "slideshow": {
     "slide_type": "slide"
    }
   },
   "source": [
    "### What is this course really about, then?"
   ]
  },
  {
   "cell_type": "markdown",
   "id": "01e943ca",
   "metadata": {
    "slideshow": {
     "slide_type": "fragment"
    }
   },
   "source": [
    "- Good data analysis is not:\n",
    "    - A simple application of a statistics formula.\n",
    "    - A simple application of computer programs."
   ]
  },
  {
   "cell_type": "markdown",
   "id": "5e4a5924",
   "metadata": {
    "slideshow": {
     "slide_type": "fragment"
    }
   },
   "source": [
    "- There are many tools out there for data science, but they are merely tools. **They don’t do any of the important thinking – that's where you come in!**\n"
   ]
  },
  {
   "cell_type": "markdown",
   "id": "0c22fafe",
   "metadata": {
    "slideshow": {
     "slide_type": "slide"
    }
   },
   "source": [
    "## Course content"
   ]
  },
  {
   "cell_type": "markdown",
   "id": "f6020d91",
   "metadata": {
    "slideshow": {
     "slide_type": "slide"
    }
   },
   "source": [
    "### Course goals\n",
    "\n",
    "**DSC 80 teaches you to *think* like a data scientist.**\n",
    "\n",
    "In this course, you will...\n",
    "\n",
    "* **Get a taste of the \"life of a data scientist.\"**\n",
    "* Practice translating potentially vague questions into quantitative questions about measurable observations.\n",
    "* Learn to reason about \"black-box\" processes (e.g. complicated models).\n",
    "* Understand computational and statistical implications of working with data.\n",
    "* Learn to use real data tools (and rely on documentation)."
   ]
  },
  {
   "cell_type": "markdown",
   "id": "ac5a59be",
   "metadata": {
    "slideshow": {
     "slide_type": "slide"
    }
   },
   "source": [
    "### Course outcomes\n",
    "\n",
    "After this course, you will...\n",
    "\n",
    "* Be prepared for internships and data science \"take home\" interviews!\n",
    "* Be ready to create your own portfolio of personal projects.\n",
    "* Have the background and maturity to succeed in the upper-division."
   ]
  },
  {
   "cell_type": "markdown",
   "id": "aa976b95",
   "metadata": {
    "slideshow": {
     "slide_type": "slide"
    }
   },
   "source": [
    "### Topics\n",
    "\n",
    "- Week 1: From `babypandas` to `pandas`.\n",
    "- Week 2: DataFrames.\n",
    "- Week 3: Working with messy data, hypothesis and permutation testing.\n",
    "- Week 4: Missing values.\n",
    "- Week 5: HTML, **Midterm Exam**.\n",
    "- Week 6: Web and text data.\n",
    "- Week 7: Text data, modeling.\n",
    "- Week 8: Feature engineering and generalization.\n",
    "- Week 9: Modeling in `sklearn`.\n",
    "- Week 10: Classifier evaluation, fairness, conclusion.\n",
    "- Week 11: **Final Exam**"
   ]
  },
  {
   "cell_type": "markdown",
   "id": "ee4d0050",
   "metadata": {
    "slideshow": {
     "slide_type": "slide"
    }
   },
   "source": [
    "## Course logistics"
   ]
  },
  {
   "cell_type": "markdown",
   "id": "0a2c2394-7c55-45f2-9668-fd3b945eda2c",
   "metadata": {
    "slideshow": {
     "slide_type": "slide"
    },
    "tags": []
   },
   "source": [
    "### Course website\n",
    "\n",
    "The course website is your one-stop-shop for all things related to the course.\n",
    "\n",
    "<br>\n",
    "\n",
    "<center><h3><a href=\"https://dsc80.com\">dsc80.com</a></h3></center>\n",
    "\n",
    "<br>\n",
    "\n",
    "Make sure to **read the brand-new [syllabus](https://dsc80.com/syllabus)**!"
   ]
  },
  {
   "cell_type": "markdown",
   "id": "c261d793",
   "metadata": {
    "slideshow": {
     "slide_type": "slide"
    }
   },
   "source": [
    "### Getting set up\n",
    "\n",
    "- **Ed**: Q&A forum. Must be active here, since this is where all announcements will be made.\n",
    "- **Gradescope**: Where you will submit all assignments for autograding, and where all of your grades will live.\n",
    "- **Canvas**: No ❌.\n",
    "\n",
    "In addition, you must fill out our [Welcome Survey](https://docs.google.com/forms/d/e/1FAIpQLSfyspVwdghw5EQShNLyG_L97s0G-X2N8ut8bG6_0K-_WH9DPw/viewform)."
   ]
  },
  {
   "cell_type": "markdown",
   "id": "dae66a40",
   "metadata": {
    "slideshow": {
     "slide_type": "slide"
    }
   },
   "source": [
    "### Accessing course content on GitHub\n",
    "\n",
    "You will access all course content by pulling the course GitHub repository:\n",
    "\n",
    "<br>\n",
    "\n",
    "<center><p><b><a href=\"https://github.com/dsc-courses/dsc80-2024-wi/\">github.com/dsc-courses/dsc80-2024-wi</a></b></p></center>\n",
    "\n",
    "<br>\n",
    "\n",
    "We will post HTML versions of lecture notebooks on the course website, but otherwise you must `git pull` from this repository to access all course materials (including blank copies of assignments)."
   ]
  },
  {
   "cell_type": "markdown",
   "id": "a7dcec94",
   "metadata": {
    "slideshow": {
     "slide_type": "slide"
    }
   },
   "source": [
    "### Environment setup\n",
    "\n",
    "- You're required to set up a Python environment on your own computer.\n",
    "- To do so, follow the instructions on the [Tech Support](https://dsc80.com/tech_support) page of the course website.\n",
    "- Once you set up your environment, you will `git pull` the course repo every time a new assignment comes out.\n",
    "- **Note**: You will submit your work to Gradescope directly, without using Git.\n",
    "- We will try to post a demo video with Lab 1, and we'll help you with this in Discussion 1 tomorrow."
   ]
  },
  {
   "cell_type": "markdown",
   "id": "44ec2def",
   "metadata": {
    "slideshow": {
     "slide_type": "slide"
    }
   },
   "source": [
    "### Lectures"
   ]
  },
  {
   "cell_type": "markdown",
   "id": "0316b814",
   "metadata": {
    "slideshow": {
     "slide_type": "fragment"
    }
   },
   "source": [
    "- Lectures are held in-person on **Tuesdays and Thursdays from 3:30-4:50PM in Pepper Canyon Hall 109**. Attendance is not required, but is encouraged. Lectures are podcasted."
   ]
  },
  {
   "cell_type": "markdown",
   "id": "d2330a86",
   "metadata": {
    "slideshow": {
     "slide_type": "fragment"
    }
   },
   "source": [
    "- **New for this quarter**: Some lectures, **like this Thursday's lecture**, will have **pre-lecture readings** that we release before lecture.\n",
    "    - They should only take ~20 minutes to complete.\n",
    "    - The idea is that by getting the introductory material out of the way, we can spend valuable class time on problem solving.\n",
    "    - We'll make an Ed announcement any time there's a pre-lecture reading, and will expect you to complete it.\n",
    "    - This is new and experimental; we'll tweak things as the quarter goes on if necessary."
   ]
  },
  {
   "cell_type": "markdown",
   "id": "6a03673e",
   "metadata": {
    "slideshow": {
     "slide_type": "fragment"
    }
   },
   "source": [
    "- **Also**: This Thursday's lecture will be on Zoom, since I'll be out of town presenting at a [conference](https://www.imsi.institute/activities/teaching-and-evaluating-data-communication-at-scale/)."
   ]
  },
  {
   "cell_type": "markdown",
   "id": "32e15386",
   "metadata": {
    "slideshow": {
     "slide_type": "slide"
    }
   },
   "source": [
    "### Assignments\n",
    "\n",
    "In this course, you will learn by doing!\n",
    "\n",
    "- **Labs (25%)**: 9 total, lowest score dropped. Usually due weekly on **Mondays at 11:59PM**, except when Monday is a holiday (like next week).\n",
    "- **Projects (30% + 5% checkpoints)**: 5 total, no drops. Usually due on **Thursdays at 11:59PM**, and usually have a \"checkpoint.\"\n",
    "\n",
    "In DSC 80, assignments will usually consist of both a Jupyter Notebook and a `.py` file. You will write your code in the `.py` file; the Jupyter Notebook will contain problem descriptions and test cases. Lab 1 will explain the workflow."
   ]
  },
  {
   "cell_type": "markdown",
   "id": "3d428dc1",
   "metadata": {
    "slideshow": {
     "slide_type": "slide"
    }
   },
   "source": [
    "### Discussions and lab reflections\n",
    "\n",
    "In order to have you reflect on your lab work, we will offer extra credit each week if you do all 3 of the following:\n",
    "\n",
    "1. Submit the lab.\n",
    "2. Attend discussion in-person on **Wednesdays from 7-7:50PM in Pepper Canyon Hall 109**, where we discuss solutions to the most recent lab.\n",
    "3. Submit a lab reflection form to Gradescope by **Thursday at 11:59PM**.\n",
    "\n",
    "Each week you do all 3, you'll earn 0.2% of extra credit – this could total **2% of extra credit**."
   ]
  },
  {
   "cell_type": "markdown",
   "id": "25b5c2b9",
   "metadata": {
    "slideshow": {
     "slide_type": "fragment"
    }
   },
   "source": [
    "**Just for tomorrow's discussion, since there hasn't been a lab due yet, we'll give everyone who attends discussion the 0.2% extra credit.**"
   ]
  },
  {
   "cell_type": "markdown",
   "id": "599177f8",
   "metadata": {
    "slideshow": {
     "slide_type": "slide"
    }
   },
   "source": [
    "### Exams\n",
    "\n",
    "- **Midterm Exam (15%)**: Thursday, February 8th, in-person during lecture.\n",
    "- **Final Exam (25%)**: Tuesday, March 19th, 3-6PM, in-person (location TBD).\n",
    "- Your final exam score can **redeem** your midterm score (see the [Syllabus](https://dsc80.com/syllabus) for details).\n",
    "- Let us know on the [Welcome Survey](https://docs.google.com/forms/d/e/1FAIpQLSfyspVwdghw5EQShNLyG_L97s0G-X2N8ut8bG6_0K-_WH9DPw/viewform) if you have a conflict."
   ]
  },
  {
   "cell_type": "markdown",
   "id": "6fc5d28a",
   "metadata": {
    "slideshow": {
     "slide_type": "slide"
    }
   },
   "source": [
    "### A typical week in DSC 80\n",
    "\n",
    "<center><img src='imgs/wi24-schedule.png' width=75%></center>\n"
   ]
  },
  {
   "cell_type": "markdown",
   "id": "534f5fcc",
   "metadata": {
    "slideshow": {
     "slide_type": "slide"
    }
   },
   "source": [
    "### Resources\n",
    "\n",
    "- Your main resource will be lecture notebooks.\n",
    "- Most lectures also have supplemental readings that come from our course textbook, [Learning Data Science](https://learningds.org/intro.html). These are not required, but are highly recommended.\n",
    "\n",
    "<center>\n",
    "<img alt=\"Front cover of textbook\" src=\"imgs/book-cover.png\" width=\"300\">\n",
    "</center>"
   ]
  },
  {
   "cell_type": "markdown",
   "id": "b2c18d41",
   "metadata": {
    "slideshow": {
     "slide_type": "slide"
    }
   },
   "source": [
    "### Support 🫂\n",
    "\n",
    "It is no secret that this course requires **a lot** of work – becoming fluent with working with data is hard!\n",
    "\n",
    "- You will learn how to solve problems **independently** – documentation and the internet will be your friends.\n",
    "- Learning how to effectively check your work and debug is extremely useful.\n",
    "- Learning to stick with a problem (*tenacity*) is a very valuable skill; but don't be afraid to ask for help."
   ]
  },
  {
   "cell_type": "markdown",
   "id": "e5edbdb6",
   "metadata": {
    "slideshow": {
     "slide_type": "fragment"
    }
   },
   "source": [
    "Once you've tried to solve problems on your own, we're glad to help.\n",
    "\n",
    "- We have several **office hours** in person each week. See the [Calendar 📆](https://dsc80.com/calendar/) for details.\n",
    "- **Ed** is your friend too. Make your conceptual questions public, and make your debugging questions private."
   ]
  },
  {
   "cell_type": "markdown",
   "id": "f752ac9a",
   "metadata": {
    "slideshow": {
     "slide_type": "slide"
    }
   },
   "source": [
    "### Generative Artificial Intelligence\n",
    "\n",
    "- We know that tools, like ChatGPT and GitHub Copilot, can write code for you.\n",
    "- Feel free to use such tools **with caution**. Refer to the [Generative AI](https://dsc80.com/syllabus/#use-of-generative-artificial-intelligence) section of the syllabus for details.\n",
    "- We trust that you're here to learn and do the work for yourself.\n",
    "- You won't be able to use ChatGPT on the exams, which are in-person and on paper, so make sure you **understand** how your code actually works."
   ]
  },
  {
   "cell_type": "markdown",
   "id": "5ecb31ac",
   "metadata": {
    "slideshow": {
     "slide_type": "slide"
    }
   },
   "source": [
    "<center><img src=\"imgs/cape.png\" width=75%></center>\n",
    "\n",
    "<center>You'll have to work a lot, but we'll make the time spent worth it.</center>"
   ]
  },
  {
   "cell_type": "markdown",
   "id": "e3bb2a04",
   "metadata": {
    "slideshow": {
     "slide_type": "slide"
    }
   },
   "source": [
    "## The data science lifecycle 🚴"
   ]
  },
  {
   "cell_type": "markdown",
   "id": "afd51458",
   "metadata": {
    "slideshow": {
     "slide_type": "slide"
    }
   },
   "source": [
    "### The scientific method\n",
    "\n",
    "You learned about the scientific method in elementary school. "
   ]
  },
  {
   "cell_type": "markdown",
   "id": "621c38e0",
   "metadata": {
    "slideshow": {
     "slide_type": "fragment"
    }
   },
   "source": [
    "<center><img src=\"imgs/image_3.png\" width=500></center>"
   ]
  },
  {
   "cell_type": "markdown",
   "id": "56ee9fdd",
   "metadata": {
    "slideshow": {
     "slide_type": "fragment"
    }
   },
   "source": [
    "However, it hides a lot of complexity.\n",
    "- Where did the hypothesis come from?\n",
    "- What data are you modeling? Is the data sufficient?\n",
    "- Under which conditions are the conclusions valid?"
   ]
  },
  {
   "cell_type": "markdown",
   "id": "1a45f8c4",
   "metadata": {
    "slideshow": {
     "slide_type": "slide"
    }
   },
   "source": [
    "### The data science lifecycle\n",
    "\n",
    "<center><img src=\"imgs/ds-lifecycle.svg\" width=\"60%\"></center>"
   ]
  },
  {
   "cell_type": "markdown",
   "id": "1bb7af57",
   "metadata": {
    "slideshow": {
     "slide_type": "fragment"
    }
   },
   "source": [
    "**All steps lead to more questions!** We'll refer back to the data science lifecycle repeatedly throughout the quarter."
   ]
  },
  {
   "cell_type": "markdown",
   "id": "7bd138d9",
   "metadata": {
    "slideshow": {
     "slide_type": "slide"
    }
   },
   "source": [
    "## Example: What's in a name?"
   ]
  },
  {
   "cell_type": "markdown",
   "id": "ca637d08",
   "metadata": {
    "slideshow": {
     "slide_type": "slide"
    }
   },
   "source": [
    "### Lilith, Lilibet … Lucifer? How Baby Names Went to 'L'\n",
    "\n",
    "[This New York Times](https://www.nytimes.com/2021/06/12/style/lilibet-popular-baby-names.html?amp=&smid=fb-nytimes) article claims that baby names beginning with \"L\" have become more popular over time."
   ]
  },
  {
   "cell_type": "markdown",
   "id": "b6334a22",
   "metadata": {
    "slideshow": {
     "slide_type": "fragment"
    }
   },
   "source": [
    "Let's see if these claims are true, based on the data!"
   ]
  },
  {
   "cell_type": "markdown",
   "id": "3158f04f-9416-4062-9b7a-ab975721667b",
   "metadata": {
    "slideshow": {
     "slide_type": "slide"
    },
    "tags": []
   },
   "source": [
    "### The data\n",
    "\n",
    "What we're seeing below is a `pandas` DataFrame. The DataFrame contains one row for every combination of `'Name'`, `'Sex'`, and `'Year'`."
   ]
  },
  {
   "cell_type": "code",
   "execution_count": null,
   "id": "ba6829c9-5ece-42ca-a5f2-3d7065ec19b2",
   "metadata": {
    "scrolled": true
   },
   "outputs": [],
   "source": [
    "baby = pd.read_csv('data/baby.csv')\n",
    "baby"
   ]
  },
  {
   "cell_type": "markdown",
   "id": "37ecc9f7",
   "metadata": {
    "slideshow": {
     "slide_type": "slide"
    }
   },
   "source": [
    "Recall from DSC 10, to access columns in a DataFrame, you used the `.get` method."
   ]
  },
  {
   "cell_type": "code",
   "execution_count": null,
   "id": "e38a98e2",
   "metadata": {},
   "outputs": [],
   "source": [
    "baby.get('Count').sum()"
   ]
  },
  {
   "cell_type": "markdown",
   "id": "2c27c766",
   "metadata": {
    "slideshow": {
     "slide_type": "fragment"
    }
   },
   "source": [
    "Everything you learned in `babypandas` translates to `pandas`. However, the more common way of accessing a column in `pandas` involves dictionary syntax:"
   ]
  },
  {
   "cell_type": "code",
   "execution_count": null,
   "id": "c8478309",
   "metadata": {},
   "outputs": [],
   "source": [
    "baby['Count'].sum()"
   ]
  },
  {
   "cell_type": "markdown",
   "id": "71927e0a",
   "metadata": {},
   "source": [
    "You'll learn more about this in Thursday's lecture and pre-lecture reading."
   ]
  },
  {
   "cell_type": "markdown",
   "id": "c97d5bac",
   "metadata": {
    "slideshow": {
     "slide_type": "slide"
    }
   },
   "source": [
    "### How many unique names were there per year?"
   ]
  },
  {
   "cell_type": "code",
   "execution_count": null,
   "id": "10a26947",
   "metadata": {},
   "outputs": [],
   "source": [
    "baby.groupby('Year').count()"
   ]
  },
  {
   "cell_type": "markdown",
   "id": "d373aa96",
   "metadata": {},
   "source": [
    "A shortcut to the above is as follows:"
   ]
  },
  {
   "cell_type": "code",
   "execution_count": null,
   "id": "ebb4b305",
   "metadata": {},
   "outputs": [],
   "source": [
    "baby['Year'].value_counts()"
   ]
  },
  {
   "cell_type": "markdown",
   "id": "03792149",
   "metadata": {
    "slideshow": {
     "slide_type": "fragment"
    }
   },
   "source": [
    "Why **doesn't** the above Series actually contain the number of unique names per year?"
   ]
  },
  {
   "cell_type": "code",
   "execution_count": null,
   "id": "7f795aac",
   "metadata": {},
   "outputs": [],
   "source": [
    "baby[(baby['Year'] == 1880)]"
   ]
  },
  {
   "cell_type": "code",
   "execution_count": null,
   "id": "df97e95e",
   "metadata": {},
   "outputs": [],
   "source": [
    "baby[(baby['Year'] == 1880)].value_counts('Name')"
   ]
  },
  {
   "cell_type": "markdown",
   "id": "5e7d10b7",
   "metadata": {
    "slideshow": {
     "slide_type": "slide"
    }
   },
   "source": [
    "### How many babies were recorded per year?"
   ]
  },
  {
   "cell_type": "code",
   "execution_count": null,
   "id": "36d80e14",
   "metadata": {
    "scrolled": true
   },
   "outputs": [],
   "source": [
    "baby.groupby('Year').sum()"
   ]
  },
  {
   "cell_type": "code",
   "execution_count": null,
   "id": "c80522bd",
   "metadata": {},
   "outputs": [],
   "source": [
    "baby.groupby('Year').sum().plot();"
   ]
  },
  {
   "cell_type": "markdown",
   "id": "ebdfa572-488e-4276-acde-32c831754f6f",
   "metadata": {
    "slideshow": {
     "slide_type": "slide"
    },
    "tags": []
   },
   "source": [
    "### \"'L' has to be like the consonant of the decade.\""
   ]
  },
  {
   "cell_type": "code",
   "execution_count": null,
   "id": "9228ce94-b4e6-4683-873d-5dda36d51b8a",
   "metadata": {
    "tags": []
   },
   "outputs": [],
   "source": [
    "(baby\n",
    " .assign(first_letter=baby['Name'].str[0])\n",
    " .query('first_letter == \"L\"')\n",
    " .groupby('Year')\n",
    " .sum()\n",
    " .plot(title='Number of Babies Born with an \"L\" Name Per Year')\n",
    ");"
   ]
  },
  {
   "cell_type": "markdown",
   "id": "b1bf7d1b-6ed3-4c6a-b210-481e1bcdd334",
   "metadata": {
    "slideshow": {
     "slide_type": "slide"
    },
    "tags": []
   },
   "source": [
    "### What about individual names?"
   ]
  },
  {
   "cell_type": "code",
   "execution_count": null,
   "id": "1f78e486",
   "metadata": {},
   "outputs": [],
   "source": [
    "(baby\n",
    " .query('Name == \"Siri\"')\n",
    " .groupby('Year')\n",
    " .sum()\n",
    " .plot(title='Number of Babies Born Named \"Siri\" Per Year')\n",
    ");"
   ]
  },
  {
   "cell_type": "code",
   "execution_count": null,
   "id": "1de20c77",
   "metadata": {
    "slideshow": {
     "slide_type": "slide"
    }
   },
   "outputs": [],
   "source": [
    "def name_graph(name):\n",
    "    (baby\n",
    "     .query(f'Name == \"{name}\"')\n",
    "     .groupby('Year')\n",
    "     .sum()\n",
    "     .plot(title=f'Number of Babies Born Named \"{name}\" Per Year')\n",
    "    )"
   ]
  },
  {
   "cell_type": "code",
   "execution_count": null,
   "id": "630c3609",
   "metadata": {},
   "outputs": [],
   "source": [
    "name_graph('Suraj')"
   ]
  },
  {
   "cell_type": "markdown",
   "id": "fdeb94d7",
   "metadata": {
    "slideshow": {
     "slide_type": "slide"
    }
   },
   "source": [
    "### What about our names?\n",
    "\n",
    "_If this code doesn't run on your machine, run `mamba install ipywidgets` in your Terminal after setting up your environment._"
   ]
  },
  {
   "cell_type": "code",
   "execution_count": null,
   "id": "ca755877",
   "metadata": {},
   "outputs": [],
   "source": [
    "from ipywidgets import widgets\n",
    "from IPython.display import clear_output"
   ]
  },
  {
   "cell_type": "code",
   "execution_count": null,
   "id": "e817304e",
   "metadata": {},
   "outputs": [],
   "source": [
    "# The first names of everyone in the class!\n",
    "class_first = np.load('data/names.npy', allow_pickle=True)\n",
    "class_first"
   ]
  },
  {
   "cell_type": "code",
   "execution_count": null,
   "id": "b5841a44",
   "metadata": {
    "scrolled": false
   },
   "outputs": [],
   "source": [
    "dropdown_names = widgets.Dropdown(options=class_first, value='Suraj')\n",
    "\n",
    "def dropdown_names_handler(change):\n",
    "    if change['name'] == 'value' and (change['new'] != change['old']):\n",
    "        clear_output()\n",
    "        display(dropdown_names)\n",
    "        name_graph(change['new'])\n",
    "        \n",
    "display(dropdown_names)\n",
    "name_graph('Suraj')\n",
    "dropdown_names.observe(dropdown_names_handler)"
   ]
  },
  {
   "cell_type": "markdown",
   "id": "4170226a",
   "metadata": {
    "slideshow": {
     "slide_type": "slide"
    },
    "tags": []
   },
   "source": [
    "### This week...\n",
    "\n",
    "- On Thursday, we'll do a deep dive into `pandas`.\n",
    "    - Be on the lookout for Thursday's pre-lecture reading.\n",
    "    - Remember, Thursday's lecture is on Zoom. I'll send the Zoom link on Ed tomorrow.\n",
    "- Lab 1 will be released by tomorrow.\n",
    "- Come to discussion tomorrow for help [setting up your environment](https://dsc80.com/tech_support), which you'll need to do before working on Lab 1.\n",
    "- Also fill out the [Welcome Survey](https://docs.google.com/forms/d/e/1FAIpQLSfyspVwdghw5EQShNLyG_L97s0G-X2N8ut8bG6_0K-_WH9DPw/viewform) and read the [Syllabus](https://dsc80.com/syllabus)!"
   ]
  }
 ],
 "metadata": {
  "kernelspec": {
   "display_name": "Python 3 (ipykernel)",
   "language": "python",
   "name": "python3"
  },
  "language_info": {
   "codemirror_mode": {
    "name": "ipython",
    "version": 3
   },
   "file_extension": ".py",
   "mimetype": "text/x-python",
   "name": "python",
   "nbconvert_exporter": "python",
   "pygments_lexer": "ipython3",
   "version": "3.8.18"
  },
  "livereveal": {
   "scroll": true
  },
  "rise": {
   "transition": "none"
  }
 },
 "nbformat": 4,
 "nbformat_minor": 5
}
