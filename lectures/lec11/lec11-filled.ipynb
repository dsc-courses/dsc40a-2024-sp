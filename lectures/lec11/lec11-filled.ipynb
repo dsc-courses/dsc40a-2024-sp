{
 "cells": [
  {
   "cell_type": "code",
   "execution_count": null,
   "id": "8c8a44b8",
   "metadata": {
    "slideshow": {
     "slide_type": "skip"
    }
   },
   "outputs": [],
   "source": [
    "from dsc80_utils import *"
   ]
  },
  {
   "cell_type": "markdown",
   "id": "6ca51859",
   "metadata": {
    "slideshow": {
     "slide_type": "slide"
    }
   },
   "source": [
    "<div class=\"alert alert-info\" markdown=\"1\">\n",
    "\n",
    "**This notebook contains code (e.g. the answers to exercises) that was written live during Lecture 11. If you haven't already watched and work through this lecture, you might find it more beneficial to look at the \"blank\" version of this lecture and answer the exercises yourself.<br><br>But, in the case of this lecture, much of our live coding was done on [regex101.com](https://regex101.com); to see what we did there, watch [the podcast](https://podcast.ucsd.edu/watch/wi24/dsc80_a00/12).**\n",
    "\n",
    "</div>\n",
    "\n",
    "# Lecture 11 – Regular Expressions and Text Features\n",
    "\n",
    "## DSC 80, Winter 2024"
   ]
  },
  {
   "cell_type": "markdown",
   "id": "22824200",
   "metadata": {
    "slideshow": {
     "slide_type": "slide"
    }
   },
   "source": [
    "### Announcements 📣\n",
    "\n",
    "- Lab 6 is due on **Wednesday, February 21st at 5PM** (no slip days!).\n",
    "    - Remember that next Monday is a holiday.\n",
    "- Project 3 is out! In it, you'll implement an N-Gram language model. We'll start covering relevant topics for it today.\n",
    "    - The checkpoint is due on **Thursday, February 22nd**.\n",
    "    - The full project is due on **Thursday, February 29th**.\n",
    "\n",
    "- Midterm Exam regrades are due tomorrow.\n",
    "    - We've given back partial credit on a few questions, like 1e, bringing the mean up ~1%.\n",
    "- **If at least 80% of the class fills out the [Mid-Quarter Survey](https://docs.google.com/forms/d/e/1FAIpQLScHz9WJMST7QLKCl2cR3Oc3r-DO7qn4rutM_dCN8R7gluy5MA/viewform) by Saturday at 11:59PM, everyone will earn 2 extra points (2.5%) on the Midterm Exam!**"
   ]
  },
  {
   "cell_type": "markdown",
   "id": "532f40e6",
   "metadata": {
    "slideshow": {
     "slide_type": "slide"
    }
   },
   "source": [
    "### Agenda 📆\n",
    "\n",
    "- Most of today's lecture will be about **regular expressions**. Good resources:\n",
    "    - [regex101.com](https://regex101.com), a helpful site to have open while writing regular expressions.\n",
    "    - Python [`re` library documentation](https://docs.python.org/3/library/re.html) and [how-to](https://docs.python.org/3/howto/regex.html).\n",
    "        - The \"how-to\" is great, read it!\n",
    "    - [regex \"cheat sheet\"](https://dsc80.com/resources/other/berkeley-regex-reference.pdf) (taken from [here](https://ds100.org/sp22/resources/)).\n",
    "    - These are all on the [**resources tab of the course website**](https://dsc80.com/resources/#regular-expressions) as well.\n",
    "- With remaining time, we'll start discussing **text features**.\n",
    "    - How can we use strings as inputs in linear regression, for example?"
   ]
  },
  {
   "cell_type": "markdown",
   "id": "976f66ac",
   "metadata": {
    "slideshow": {
     "slide_type": "slide"
    }
   },
   "source": [
    "<div class=\"alert alert-success\" markdown=\"1\">\n",
    "    <h3>Exercise</h3>\n",
    "    \n",
    "Consider the following HTML document, which represents a webpage containing the top few songs with the most streams on Spotify today in Canada.\n",
    "\n",
    "```html\n",
    "<head>\n",
    "    <title>3*Canada-2022-06-04</title>\n",
    "</head>\n",
    "<body>\n",
    "    <h1>Spotify Top 3 - Canada</h1>\n",
    "    <table>\n",
    "        <tr class='heading'>\n",
    "            <th>Rank</th>\n",
    "            <th>Artist(s)</th> \n",
    "            <th>Song</th>\n",
    "        </tr>\n",
    "        <tr class=1>\n",
    "            <td>1</td>\n",
    "            <td>Harry Styles</td> \n",
    "            <td>As It Was</td>\n",
    "        </tr>\n",
    "        <tr class=2>\n",
    "            <td>2</td>\n",
    "            <td>Jack Harlow</td> \n",
    "            <td>First Class</td>\n",
    "        </tr>\n",
    "        <tr class=3>\n",
    "            <td>3</td>\n",
    "            <td>Kendrick Lamar</td> \n",
    "            <td>N95</td>\n",
    "        </tr>\n",
    "    </table>\n",
    "</body>\n",
    "```\n",
    "\n",
    "</div>\n",
    "\n",
    "**Part 4**: Complete the implementation of the function `top_nth`, which takes in a positive integer `n` and returns the name of the n-th ranked song in the HTML document. For instance, `top_nth(2)` should evaluate to `\"First Class\"` (`n=1` corresponds to the top song).\n",
    "\n",
    "Note: Your implementation should work in the case that the page contains more than 3 songs.\n",
    "\n",
    "```py\n",
    "def top_nth(n):\n",
    "    return soup.find(\"tr\", attrs=__(a)__).find_all(\"td\")__(b)__\n",
    "```"
   ]
  },
  {
   "cell_type": "code",
   "execution_count": null,
   "id": "8822b6a1",
   "metadata": {},
   "outputs": [],
   "source": [
    "html_as_string = '''\n",
    "<head>\n",
    "    <title>3*Canada-2022-06-04</title>\n",
    "</head>\n",
    "<body>\n",
    "    <h1>Spotify Top 3 - Canada</h1>\n",
    "    <table>\n",
    "        <tr class='heading'>\n",
    "            <th>Rank</th>\n",
    "            <th>Artist(s)</th> \n",
    "            <th>Song</th>\n",
    "        </tr>\n",
    "        <tr class=1>\n",
    "            <td>1</td>\n",
    "            <td>Harry Styles</td> \n",
    "            <td>As It Was</td>\n",
    "        </tr>\n",
    "        <tr class=2>\n",
    "            <td>2</td>\n",
    "            <td>Jack Harlow</td> \n",
    "            <td>First Class</td>\n",
    "        </tr>\n",
    "        <tr class=3>\n",
    "            <td>3</td>\n",
    "            <td>Kendrick Lamar</td> \n",
    "            <td>N95</td>\n",
    "        </tr>\n",
    "    </table>\n",
    "</body>'''"
   ]
  },
  {
   "cell_type": "code",
   "execution_count": null,
   "id": "7f939e13",
   "metadata": {},
   "outputs": [],
   "source": [
    "from bs4 import BeautifulSoup"
   ]
  },
  {
   "cell_type": "code",
   "execution_count": null,
   "id": "922bb7c1",
   "metadata": {},
   "outputs": [],
   "source": [
    "soup = BeautifulSoup(html_as_string)"
   ]
  },
  {
   "cell_type": "code",
   "execution_count": null,
   "id": "aea5ea13",
   "metadata": {},
   "outputs": [],
   "source": [
    "soup"
   ]
  },
  {
   "cell_type": "code",
   "execution_count": null,
   "id": "f0d0401a",
   "metadata": {},
   "outputs": [],
   "source": [
    "def top_nth(n):\n",
    "    '''Returns the name of the nth ranked song in soup.'''\n",
    "    return soup.find(\"tr\", attrs={'class': n}).find_all(\"td\")[-1].text\n",
    "\n",
    "top_nth(3)"
   ]
  },
  {
   "cell_type": "markdown",
   "id": "21a46477",
   "metadata": {
    "slideshow": {
     "slide_type": "slide"
    }
   },
   "source": [
    "## Motivation"
   ]
  },
  {
   "cell_type": "code",
   "execution_count": null,
   "id": "27e79047",
   "metadata": {
    "slideshow": {
     "slide_type": "slide"
    }
   },
   "outputs": [],
   "source": [
    "contact = '''\n",
    "Thank you for buying our expensive product!\n",
    "\n",
    "If you have a complaint, please send it to complaints@compuserve.com or call (800) 867-5309.\n",
    "\n",
    "If you are happy with your purchase, please call us at (800) 123-4567; we'd love to hear from you!\n",
    "\n",
    "Due to high demand, please allow one-hundred (100) business days for a response.\n",
    "'''"
   ]
  },
  {
   "cell_type": "markdown",
   "id": "5a3d6bb9",
   "metadata": {
    "slideshow": {
     "slide_type": "slide"
    }
   },
   "source": [
    "### Who called? 📞\n",
    "\n",
    "- **Goal**: Extract all phone numbers from a piece of text, assuming they are of the form `'(###) ###-####'`."
   ]
  },
  {
   "cell_type": "code",
   "execution_count": null,
   "id": "41a25982",
   "metadata": {},
   "outputs": [],
   "source": [
    "print(contact)"
   ]
  },
  {
   "cell_type": "markdown",
   "id": "12865755",
   "metadata": {
    "slideshow": {
     "slide_type": "fragment"
    }
   },
   "source": [
    "- We can do this using the same string methods we've come to know and love.\n",
    "\n",
    "- Strategy:\n",
    "    - Split by spaces.\n",
    "    - Check if there are any consecutive \"words\" where:\n",
    "        - the first \"word\" looks like an area code, like `'(678)'`.\n",
    "        - the second \"word\" looks like the last 7 digits of a phone number, like `'999-8212'`. "
   ]
  },
  {
   "cell_type": "markdown",
   "id": "25086b08",
   "metadata": {
    "slideshow": {
     "slide_type": "slide"
    }
   },
   "source": [
    "Let's first write a function that takes in a string and returns whether it looks like an area code."
   ]
  },
  {
   "cell_type": "code",
   "execution_count": null,
   "id": "3d51b147",
   "metadata": {
    "slideshow": {
     "slide_type": "-"
    }
   },
   "outputs": [],
   "source": [
    "def is_possibly_area_code(s):\n",
    "    '''Does `s` look like (678)?'''\n",
    "    return (len(s) == 5 and\n",
    "            s.startswith('(') and\n",
    "            s.endswith(')') and\n",
    "            s[1:4].isnumeric())"
   ]
  },
  {
   "cell_type": "code",
   "execution_count": null,
   "id": "f9f27b4d",
   "metadata": {},
   "outputs": [],
   "source": [
    "is_possibly_area_code('(123)')"
   ]
  },
  {
   "cell_type": "code",
   "execution_count": null,
   "id": "0602b828",
   "metadata": {},
   "outputs": [],
   "source": [
    "is_possibly_area_code('(99)')"
   ]
  },
  {
   "cell_type": "markdown",
   "id": "05f2965a",
   "metadata": {
    "slideshow": {
     "slide_type": "slide"
    }
   },
   "source": [
    "Let's also write a function that takes in a string and returns whether it looks like the last 7 digits of a phone number."
   ]
  },
  {
   "cell_type": "code",
   "execution_count": null,
   "id": "88a266f4",
   "metadata": {},
   "outputs": [],
   "source": [
    "def is_last_7_phone_number(s):\n",
    "    '''Does `s` look like 999-8212?'''\n",
    "    return len(s) == 8 and s[0:3].isnumeric() and s[3] == '-' and s[4:].isnumeric()"
   ]
  },
  {
   "cell_type": "code",
   "execution_count": null,
   "id": "8f29c1a4",
   "metadata": {},
   "outputs": [],
   "source": [
    "is_last_7_phone_number('999-8212')"
   ]
  },
  {
   "cell_type": "code",
   "execution_count": null,
   "id": "c7eaa2ed",
   "metadata": {},
   "outputs": [],
   "source": [
    "is_last_7_phone_number('534 1100')"
   ]
  },
  {
   "cell_type": "markdown",
   "id": "4879d9e7",
   "metadata": {
    "slideshow": {
     "slide_type": "slide"
    }
   },
   "source": [
    "Finally, let's split the entire text by spaces, and check whether there are any instances where `pieces[i]` looks like an area code and `pieces[i+1]` looks like the last 7 digits of a phone number."
   ]
  },
  {
   "cell_type": "code",
   "execution_count": null,
   "id": "0ab33fb5",
   "metadata": {},
   "outputs": [],
   "source": [
    "print(contact)"
   ]
  },
  {
   "cell_type": "code",
   "execution_count": null,
   "id": "a76b6ff6",
   "metadata": {
    "slideshow": {
     "slide_type": "-"
    }
   },
   "outputs": [],
   "source": [
    "# Removes punctuation from the end of each string.\n",
    "pieces = [s.rstrip('.,?;\"\\'') for s in contact.split()]\n",
    "\n",
    "for i in range(len(pieces) - 1):\n",
    "    if is_possibly_area_code(pieces[i]):\n",
    "        if is_last_7_phone_number(pieces[i+1]):\n",
    "            print(pieces[i], pieces[i+1])"
   ]
  },
  {
   "cell_type": "markdown",
   "id": "71bc9173",
   "metadata": {
    "slideshow": {
     "slide_type": "slide"
    }
   },
   "source": [
    "### Is there a better way?\n",
    "\n",
    "- This was an example of **pattern matching**.\n",
    "- It can be done with string methods, but there is often a better approach: **regular expressions**."
   ]
  },
  {
   "cell_type": "code",
   "execution_count": null,
   "id": "aa2b1453",
   "metadata": {
    "slideshow": {
     "slide_type": ""
    }
   },
   "outputs": [],
   "source": [
    "print(contact)"
   ]
  },
  {
   "cell_type": "code",
   "execution_count": null,
   "id": "d455eaec",
   "metadata": {},
   "outputs": [],
   "source": [
    "import re\n",
    "re.findall(r'\\(\\d{3}\\) \\d{3}-\\d{4}', contact)"
   ]
  },
  {
   "cell_type": "markdown",
   "id": "aada954d",
   "metadata": {
    "slideshow": {
     "slide_type": "fragment"
    }
   },
   "source": [
    "<center><h3>🤯</h3></center>"
   ]
  },
  {
   "cell_type": "markdown",
   "id": "67c4e89a",
   "metadata": {
    "slideshow": {
     "slide_type": "slide"
    }
   },
   "source": [
    "## Basic regular expressions"
   ]
  },
  {
   "cell_type": "markdown",
   "id": "916827c2",
   "metadata": {
    "slideshow": {
     "slide_type": "slide"
    }
   },
   "source": [
    "### Regular expressions"
   ]
  },
  {
   "cell_type": "markdown",
   "id": "98d58c81",
   "metadata": {
    "slideshow": {
     "slide_type": "fragment"
    }
   },
   "source": [
    "- A regular expression, or **regex** for short, is a sequence of characters used to **match patterns in strings**.\n",
    "    - For example, `\\(\\d{3}\\) \\d{3}-\\d{4}` describes a **pattern** that matches US phone numbers of the form `'(XXX) XXX-XXXX'`.\n",
    "    - Think of regex as a \"mini-language\" (formally: they are a grammar for describing a language)."
   ]
  },
  {
   "cell_type": "markdown",
   "id": "18f23a7e",
   "metadata": {
    "slideshow": {
     "slide_type": "fragment"
    }
   },
   "source": [
    "- **Pros**: They are very powerful and are widely used (virtually every programming language has a module for working with them)."
   ]
  },
  {
   "cell_type": "markdown",
   "id": "3b051478",
   "metadata": {
    "slideshow": {
     "slide_type": "fragment"
    }
   },
   "source": [
    "- **Cons**: They can be hard to read and have many different \"dialects.\""
   ]
  },
  {
   "cell_type": "markdown",
   "id": "3f90fcb0",
   "metadata": {
    "slideshow": {
     "slide_type": "slide"
    }
   },
   "source": [
    "### Writing regular expressions\n",
    "\n",
    "- You will ultimately write most of your regular expressions in Python, using the `re` module. We will see how to do so shortly.\n",
    "\n",
    "- However, a useful tool for designing regular expressions is [regex101.com](https://regex101.com).\n",
    "\n",
    "- We will use it heavily during lecture; you should have it open as we work through examples. **If you're trying to revisit this lecture in the future, you'll likely want to watch [the podcast](https://podcast.ucsd.edu/watch/wi24/dsc80_a00/12).**"
   ]
  },
  {
   "cell_type": "markdown",
   "id": "08351ea4",
   "metadata": {
    "slideshow": {
     "slide_type": "slide"
    }
   },
   "source": [
    "### Literals\n",
    "\n",
    "- A literal is a character that has no special meaning.\n",
    "\n",
    "- Letters, numbers, and some symbols are all literals.\n",
    "\n",
    "- Some symbols, like `.`, `*`, `(`, and `)`, are special characters.\n",
    "\n",
    "- ***Example***: The regex `hey` matches the string `'hey'`. The regex `he.` also matches the string `'hey'`."
   ]
  },
  {
   "cell_type": "markdown",
   "id": "cc8ac2a7",
   "metadata": {
    "slideshow": {
     "slide_type": "slide"
    }
   },
   "source": [
    "### Regex building blocks 🧱\n",
    "\n",
    "The four main building blocks for all regexes are shown below ([table source](https://www.cs.princeton.edu/courses/archive/spring17/cos226/lectures/54RegularExpressions.pdf), [inspiration](https://docs.google.com/presentation/d/1xQsqa7e3xDZ9nBiekbSBOecwvQm8pSVGa-FBoV6aJ7E/edit#slide=id.g11197671c7e_0_919)).\n",
    "\n",
    "| operation | order of op. | example | matches ✅ | does not match ❌ |\n",
    "|:--- |:---|:---|:---|:---|\n",
    "| <span style='color:purple'><b>concatenation</b></span> | 3 | `AABAAB` | `'AABAAB'` | every other string |\n",
    "| <span style='color:purple'><b>or</b></span> | 4 | `AA\\|BAAB` | `'AA'`, `'BAAB'` | every other string |\n",
    "| <span style='color:purple'><b>closure</b><br>(zero or more)</span> | 2 | `AB*A` | `'AA'`, `'ABBBBBBA'` | `'AB'`, `'ABABA'` |\n",
    "| <span style='color:purple'><b>parentheses</b></span> | 1 | `A(A\\|B)AAB` <hr style=\"height:1px\"> `(AB)*A` | `'AAAAB'`, `'ABAAB'`<hr style=\"height:1px\">`'A'`, `'ABABABABA'` | every other string<hr style=\"height:1px\">`'AA'`, `'ABBA'` |\n",
    "\n",
    "Note that `|`, `(`, `)`, and `*` are **special characters**, not literals. They manipulate the characters around them."
   ]
  },
  {
   "cell_type": "markdown",
   "id": "84b82c2c",
   "metadata": {
    "slideshow": {
     "slide_type": "slide"
    }
   },
   "source": [
    "***Example (or, parentheses)***:\n",
    "- What does `DSC 30|80` match?\n",
    "- What does `DSC (30|80)` match?"
   ]
  },
  {
   "cell_type": "markdown",
   "id": "ae06ea65",
   "metadata": {
    "slideshow": {
     "slide_type": "slide"
    }
   },
   "source": [
    "***Example (closure, parentheses)***:\n",
    "- What does `blah*` match?\n",
    "- What does `(blah)*` match?"
   ]
  },
  {
   "cell_type": "markdown",
   "id": "5dcf8f0e",
   "metadata": {
    "slideshow": {
     "slide_type": "slide"
    }
   },
   "source": [
    "<div class=\"alert alert-success\" markdown=\"1\">\n",
    "    <h3>Exercise</h3>\n",
    "\n",
    "Write a regular expression that matches `'billy'`, `'billlly'`, `'billlllly'`, etc.\n",
    "- First, think about how to match strings with any even number of `'l'`s, including zero `'l'`s (i.e. `'biy'`).\n",
    "- Then, think about how to match only strings with a **positive even** number of `'l'`s.\n",
    "\n",
    "</div>\n",
    "\n",
    "<br>\n",
    "\n",
    "<details>\n",
    "<summary>\n",
    "    ✅ Click here to see the answer <b>after</b> you've tried it yourself at <a href='https://regex101.com'>regex101.com</a>.\n",
    "</summary>\n",
    "<code>bi(ll)*y</code> will match any even number of <code>'l'</code>s, including 0.\n",
    "    \n",
    "To match only a positive even number of <code>'l'</code>s, we'd need to first \"fix into place\" two <code>'l'</code>s, and then follow that up with zero or more pairs of <code>'l'</code>s. This specifies the regular expression <code>bill(ll)*y</code>.\n",
    "    </details>"
   ]
  },
  {
   "cell_type": "markdown",
   "id": "12cd6c18",
   "metadata": {
    "slideshow": {
     "slide_type": "slide"
    }
   },
   "source": [
    "<div class=\"alert alert-success\" markdown=\"1\">\n",
    "    <h3>Exercise</h3>\n",
    "\n",
    "Write a regular expression that matches `'billy'`, `'billlly'`, `'biggy'`, `'biggggy'`, etc.\n",
    "\n",
    "Specifically, it should match any string with a **positive even** number of `'l'`s in the middle, or a **positive even** number of `'g'`s in the middle.\n",
    "\n",
    "</div>\n",
    "\n",
    "<br>\n",
    "\n",
    "<details>\n",
    "<summary>\n",
    "    ✅ Click here to see the answer <b>after</b> you've tried it yourself at <a href='https://regex101.com'>regex101.com</a>.\n",
    "</summary>\n",
    "\n",
    "Possible answers: <code>bi(ll(ll)\\*|gg(gg)\\*)y</code> or <code>bill(ll)\\*y|bigg(gg)\\*y</code>.\n",
    " \n",
    "<br>\n",
    "\n",
    "Note, <code>bill(ll)\\*|gg(gg)\\*y</code> is <b>not</b> a valid answer! This is because \"concatenation\" comes before \"or\" in the order of operations. This regular expression would match strings that match <code>bill(ll)\\*</code>, like <code>'billll'</code>, OR strings that match <code>gg(gg)\\*y</code>, like <code>'ggy'</code>.\n",
    "\n",
    "    \n",
    "</details>"
   ]
  },
  {
   "cell_type": "markdown",
   "id": "925262dd",
   "metadata": {
    "slideshow": {
     "slide_type": "slide"
    }
   },
   "source": [
    "## Intermediate regex"
   ]
  },
  {
   "cell_type": "markdown",
   "id": "e56413e8",
   "metadata": {
    "slideshow": {
     "slide_type": "slide"
    }
   },
   "source": [
    "### More regex syntax\n",
    "\n",
    "| operation | example | matches ✅ | does not match ❌ |\n",
    "|:--- |:---|:---|:---|\n",
    "| <span style='color:purple'><b>wildcard</b></span> | `.U.U.U.` | `'CUMULUS'`<br>`'JUGULUM'` | `'SUCCUBUS'`<br>`'TUMULTUOUS'` |\n",
    "| <span style='color:purple'><b>character class</b></span>  | `[A-Za-z][a-z]*` | `'word'`<br>`'Capitalized'` | `'camelCase'`<br>`'4illegal'` |\n",
    "| <span style='color:purple'><b>at least one</b></span> | `bi(ll)+y` | `'billy'`<br>`'billlllly'` | `'biy'`<br>`'bily'` |\n",
    "| <span style='color:purple'><b>between $i$ and $j$ occurrences</b></span> | `m[aeiou]{1,2}m` | `'mem'`<br>`'maam'`<br>`'miem'` | `'mm'`<br>`'mooom'`<br>`'meme'` |\n",
    "\n",
    "`.`, `[`, `]`, `+`, `{`, and `}` are also special characters, in addition to `|`, `(`, `)`, and `*`.\n",
    "\n",
    "***Example (character classes, at least one)***: `[A-E]+` is just shortform for `(A|B|C|D|E)(A|B|C|D|E)*`."
   ]
  },
  {
   "cell_type": "markdown",
   "id": "03f2a857",
   "metadata": {
    "slideshow": {
     "slide_type": "slide"
    }
   },
   "source": [
    "***Example (wildcard)***: \n",
    "- What does `.` match? \n",
    "- What does `he.` match? \n",
    "- What does `...` match?"
   ]
  },
  {
   "cell_type": "markdown",
   "id": "9cb36eef",
   "metadata": {
    "slideshow": {
     "slide_type": "slide"
    }
   },
   "source": [
    "***Example (at least one, closure)***: \n",
    "- What does `123+` match?\n",
    "- What does `123*` match?"
   ]
  },
  {
   "cell_type": "markdown",
   "id": "b287df75",
   "metadata": {
    "slideshow": {
     "slide_type": "slide"
    }
   },
   "source": [
    "***Example (number of occurrences)***: What does `tri{3,5}` match? Does it match `'triiiii'`?"
   ]
  },
  {
   "cell_type": "markdown",
   "id": "663024dd",
   "metadata": {
    "slideshow": {
     "slide_type": "slide"
    }
   },
   "source": [
    "***Example (character classes, number of occurrences)***:\n",
    "What does `[1-6a-f]{3}-[7-9E-S]{2}` match?"
   ]
  },
  {
   "cell_type": "markdown",
   "id": "58621dcf",
   "metadata": {
    "slideshow": {
     "slide_type": "slide"
    }
   },
   "source": [
    "<div class=\"alert alert-success\" markdown=\"1\">\n",
    "    <h3>Exercise</h3>\n",
    "\n",
    "Write a regular expression that matches any lowercase string has a repeated vowel, such as `'noon'`, `'peel'`, `'festoon'`, or `'zeebraa'`.\n",
    "\n",
    "</div>\n",
    "\n",
    "<br>\n",
    "\n",
    "<details>\n",
    "<summary>\n",
    "    ✅ Click here to see the answer <b>after</b> you've tried it yourself at <a href='https://regex101.com'>regex101.com</a>.\n",
    "</summary>\n",
    "\n",
    "One answer: <code>[a-z]\\*(aa|ee|ii|oo|uu)[a-z]\\*</code>\n",
    " \n",
    "<br>\n",
    "\n",
    "This regular expression matches strings of lowercase characters that have <code>'aa'</code>, <code>'ee'</code>, <code>'ii'</code>, <code>'oo'</code>, or <code>'uu'</code> in them anywhere. <code>[a-z]\\*</code> means \"zero or more of any lowercase characters\"; essentially we are saying it doesn't matter what letters come before or after the double vowels, as long as the double vowels exist somewhere.\n",
    "\n",
    "    \n",
    "</details>"
   ]
  },
  {
   "cell_type": "markdown",
   "id": "f66b3405",
   "metadata": {},
   "source": [
    "anything 2 vowels anything"
   ]
  },
  {
   "cell_type": "markdown",
   "id": "60e0c674",
   "metadata": {
    "slideshow": {
     "slide_type": "slide"
    }
   },
   "source": [
    "<div class=\"alert alert-success\" markdown=\"1\">\n",
    "    <h3>Exercise</h3>\n",
    "\n",
    "Write a regular expression that matches any string that contains **both** a lowercase letter and a number, in any order. Examples include `'billy80'`, `'80!!billy'`, and `'bil8ly0'`.\n",
    "\n",
    "</div>\n",
    "\n",
    "<br>\n",
    "\n",
    "<details>\n",
    "<summary>\n",
    "    ✅ Click here to see the answer <b>after</b> you've tried it yourself at <a href='https://regex101.com'>regex101.com</a>.\n",
    "</summary>\n",
    "\n",
    "One answer: <code>(.\\*[a-z].\\*[0-9].\\*)|(.\\*[0-9].\\*[a-z].\\*)</code>\n",
    " \n",
    "<br>\n",
    "\n",
    "We can break the above regex into two parts – everything before the `|`, and everything after the `|`.\n",
    "\n",
    "The first part, <code>.\\*[a-z].\\*[0-9].\\*</code>, matches strings in which there is at least one lowercase character and at least one digit, with the lowercase character coming first.\n",
    "\n",
    "The second part, <code>.\\*[0-9].\\*[a-z].\\*</code>, matches strings in which there is at least one lowercase character and at least one digit, with the digit coming first.\n",
    "    \n",
    "Note, the <code>.\\*</code> between the digit and letter classes is needed in the event the string has non-digit and non-letter characters.\n",
    "    \n",
    "<b>This is the kind of task that would be easier to accomplish with regular Python string methods.</b>\n",
    "\n",
    "    \n",
    "</details>"
   ]
  },
  {
   "cell_type": "markdown",
   "id": "e4a6d58d",
   "metadata": {},
   "source": [
    "case 1: anything - number - anything - lowercase letter - anything\n",
    "\n",
    "case 2: anything - lowercase letter - anything - number - anything"
   ]
  },
  {
   "cell_type": "markdown",
   "id": "68e84227",
   "metadata": {
    "slideshow": {
     "slide_type": "slide"
    }
   },
   "source": [
    "### Even more regex syntax\n",
    "\n",
    "| operation | example | matches ✅ | does not match ❌ |\n",
    "|:--- |:---|:---|:---|\n",
    "| <span style='color:purple'><b>escape character</b></span> | `ucsd\\.edu` | `'ucsd.edu'` | `'ucsd!edu'` |\n",
    "| <span style='color:purple'><b>beginning of line</b></span> | `^ark` | `'ark two'`<br>`'ark o ark'` | `'dark'` |\n",
    "| <span style='color:purple'><b>end of line</b></span>  | `ark$` | `'dark'`<br>`'ark o ark'` | `'ark two'` |\n",
    "| <span style='color:purple'><b>zero or one</b></span> | `cat?` | `'ca'`<br>`'cat'` | `'cart'` (matches `'ca'` only) |\n",
    "| <span style='color:purple'><b>built-in character classes*</b></span> | `\\w+` <br> `\\d+` | `'billy'`<br>`'231231'` | `'this person'`<br>`'858 people'` |\n",
    "| <span style='color:purple'><b>character class negation</b></span> | `[^a-z]+` | `'KINGTRITON551'`<br>`'1721$$'` | `'porch'`<br>`'billy.edu'` |"
   ]
  },
  {
   "cell_type": "markdown",
   "id": "e2f3607a",
   "metadata": {
    "slideshow": {
     "slide_type": "fragment"
    }
   },
   "source": [
    "****Note***: in Python's implementation of regex,\n",
    "- `\\d` refers to digits.\n",
    "- `\\w` refers to alphanumeric characters (`[A-Z][a-z][0-9]_`). **Whenever we say \"alphanumeric\" in an assignment, we're referring to `\\w`!**\n",
    "- `\\s` refers to whitespace.\n",
    "- `\\b` is a word boundary."
   ]
  },
  {
   "cell_type": "markdown",
   "id": "a81d04ac",
   "metadata": {
    "slideshow": {
     "slide_type": "slide"
    }
   },
   "source": [
    "***Example (escaping)***: \n",
    "- What does `he.` match? \n",
    "- What does `he\\.` match? \n",
    "- What does `(858)` match? \n",
    "- What does `\\(858\\)` match?"
   ]
  },
  {
   "cell_type": "markdown",
   "id": "8ac36be0",
   "metadata": {
    "slideshow": {
     "slide_type": "slide"
    }
   },
   "source": [
    "***Example (anchors)***: \n",
    "- What does `858-534` match?\n",
    "- What does `^858-534` match?\n",
    "- What does `858-534$` match?"
   ]
  },
  {
   "cell_type": "markdown",
   "id": "254814d6",
   "metadata": {
    "slideshow": {
     "slide_type": "slide"
    }
   },
   "source": [
    "***Example (built-in character classes)***:\n",
    "\n",
    "- What does `\\d{3} \\d{3}-\\d{4}` match?\n",
    "- What does `\\bcat\\b` match? Does it find a match in `'my cat is hungry'`? What about `'concatenate'` or `'kitty cat'`?\n",
    "\n",
    "<br>\n",
    "\n",
    "Remember, in Python's implementation of regex,\n",
    "- `\\d` refers to digits.\n",
    "- `\\w` refers to alphanumeric characters (`[A-Z][a-z][0-9]_`). **Whenever we say \"alphanumeric\" in an assignment, we're referring to `\\w`!**\n",
    "- `\\s` refers to whitespace.\n",
    "- `\\b` is a word boundary."
   ]
  },
  {
   "cell_type": "markdown",
   "id": "ceb205bd",
   "metadata": {
    "slideshow": {
     "slide_type": "slide"
    }
   },
   "source": [
    "<div class=\"alert alert-success\" markdown=\"1\">\n",
    "    <h3>Exercise</h3>\n",
    "\n",
    "Write a regular expression that matches any string that:\n",
    "- is between 5 and 10 characters long, and\n",
    "- is made up of only vowels (either uppercase or lowercase, including `'Y'` and `'y'`), periods, and spaces.\n",
    "\n",
    "Examples include `'yoo.ee.IOU'` and `'AI.I oey'`.\n",
    "\n",
    "</div>\n",
    "\n",
    "<br>\n",
    "\n",
    "<details>\n",
    "<summary>\n",
    "    ✅ Click here to see the answer <b>after</b> you've tried it yourself at <a href='https://regex101.com'>regex101.com</a>.\n",
    "</summary>\n",
    "\n",
    "One answer: <code>^[aeiouyAEIOUY. ]{5,10}$</code>\n",
    " \n",
    "<br>\n",
    "\n",
    "<b>Key idea</b>: Within a character class (i.e. <code>[...]</code>), special characters do not generally need to be escaped.\n",
    "\n",
    "\n",
    "    \n",
    "</details>"
   ]
  },
  {
   "cell_type": "markdown",
   "id": "4c945280",
   "metadata": {
    "slideshow": {
     "slide_type": "slide"
    }
   },
   "source": [
    "## Regex in Python"
   ]
  },
  {
   "cell_type": "markdown",
   "id": "530b3f99",
   "metadata": {
    "slideshow": {
     "slide_type": "slide"
    }
   },
   "source": [
    "### `re` in Python\n",
    "\n",
    "The `re` package is built into Python. It allows us to use regular expressions to find, extract, and replace strings."
   ]
  },
  {
   "cell_type": "code",
   "execution_count": null,
   "id": "4e345803",
   "metadata": {
    "scrolled": false
   },
   "outputs": [],
   "source": [
    "import re"
   ]
  },
  {
   "cell_type": "markdown",
   "id": "b79f7824",
   "metadata": {
    "slideshow": {
     "slide_type": "fragment"
    }
   },
   "source": [
    "`re.search` takes in a string `regex` and a string `text` and returns the location and substring corresponding to the **first** match of `regex` in `text`."
   ]
  },
  {
   "cell_type": "code",
   "execution_count": null,
   "id": "5951a080",
   "metadata": {
    "scrolled": false
   },
   "outputs": [],
   "source": [
    "re.search('AB*A', \n",
    "          'here is a string for you: ABBBA. here is another: ABBBBBBBA')"
   ]
  },
  {
   "cell_type": "markdown",
   "id": "b9b96b4c",
   "metadata": {
    "slideshow": {
     "slide_type": "fragment"
    }
   },
   "source": [
    "`re.findall` takes in a string `regex` and a string `text` and returns a list of all matches of `regex` in `text`. **You'll use this most often.**"
   ]
  },
  {
   "cell_type": "code",
   "execution_count": null,
   "id": "c925fc4c",
   "metadata": {
    "scrolled": false
   },
   "outputs": [],
   "source": [
    "re.findall('AB*A', \n",
    "           'here is a string for you: ABBBA. here is another: ABBBBBBBA')"
   ]
  },
  {
   "cell_type": "markdown",
   "id": "fa1f6f86",
   "metadata": {
    "slideshow": {
     "slide_type": "fragment"
    }
   },
   "source": [
    "`re.sub` takes in a string `regex`, a string `repl`, and a string `text`, and replaces all matches of `regex` in `text` with `repl`."
   ]
  },
  {
   "cell_type": "code",
   "execution_count": null,
   "id": "2a452d72",
   "metadata": {},
   "outputs": [],
   "source": [
    "re.sub"
   ]
  },
  {
   "cell_type": "code",
   "execution_count": null,
   "id": "299f12c1",
   "metadata": {
    "scrolled": false
   },
   "outputs": [],
   "source": [
    "re.sub('AB*A', \n",
    "       'billy', \n",
    "       'here is a string for you: ABBBA. here is another: ABBBBBBBA')"
   ]
  },
  {
   "cell_type": "markdown",
   "id": "0a4f19f7",
   "metadata": {
    "slideshow": {
     "slide_type": "slide"
    }
   },
   "source": [
    "### Raw strings\n",
    "\n",
    "When using regular expressions in Python, it's a good idea to use **raw strings**, denoted by an `r` before the quotes, e.g. `r'exp'`."
   ]
  },
  {
   "cell_type": "code",
   "execution_count": null,
   "id": "59189302",
   "metadata": {
    "slideshow": {
     "slide_type": "-"
    }
   },
   "outputs": [],
   "source": [
    "re.findall('\\bcat\\b', 'my cat is hungry')"
   ]
  },
  {
   "cell_type": "code",
   "execution_count": null,
   "id": "575ad059",
   "metadata": {},
   "outputs": [],
   "source": [
    "re.findall(r'\\bcat\\b', 'my cat is hungry')"
   ]
  },
  {
   "cell_type": "code",
   "execution_count": null,
   "id": "81690315",
   "metadata": {},
   "outputs": [],
   "source": [
    "# Huh?\n",
    "print('\\bcat\\b')"
   ]
  },
  {
   "cell_type": "code",
   "execution_count": null,
   "id": "3d418165",
   "metadata": {},
   "outputs": [],
   "source": [
    "print(r'\\bcat\\b')"
   ]
  },
  {
   "cell_type": "markdown",
   "id": "fb79937f",
   "metadata": {
    "slideshow": {
     "slide_type": "slide"
    }
   },
   "source": [
    "### Capture groups\n",
    "* Surround a regex with `(` and `)` to define a **capture group** within a pattern.\n",
    "- Capture groups are useful for extracting relevant parts of a string."
   ]
  },
  {
   "cell_type": "code",
   "execution_count": null,
   "id": "cc7a31d3",
   "metadata": {
    "scrolled": false
   },
   "outputs": [],
   "source": [
    "re.findall(r'\\w+@(\\w+)\\.edu', \n",
    "           'my old email was billy@notucsd.edu, my new email is notbilly@ucsd.edu')"
   ]
  },
  {
   "cell_type": "markdown",
   "id": "23a894cb",
   "metadata": {},
   "source": [
    "- Notice what happens if we remove the `(` and `)`!"
   ]
  },
  {
   "cell_type": "code",
   "execution_count": null,
   "id": "9ec23800",
   "metadata": {
    "scrolled": true
   },
   "outputs": [],
   "source": [
    "re.findall(r'\\w+@\\w+\\.edu', \n",
    "           'my old email was billy@notucsd.edu, my new email is notbilly@ucsd.edu')"
   ]
  },
  {
   "cell_type": "markdown",
   "id": "4141a59e",
   "metadata": {},
   "source": [
    "- Earlier, we also saw that parentheses can be used to group parts of a regex together. When using `re.findall`, all groups are treated as capturing groups."
   ]
  },
  {
   "cell_type": "code",
   "execution_count": null,
   "id": "6b4fa612",
   "metadata": {
    "scrolled": false
   },
   "outputs": [],
   "source": [
    "# A regex that matches strings with two of the same vowel followed by 3 digits\n",
    "# We only want to capture the digits, but...\n",
    "re.findall(r'(aa|ee|ii|oo|uu)(\\d{3})', 'eeoo124')[0]"
   ]
  },
  {
   "cell_type": "markdown",
   "id": "4c752441",
   "metadata": {
    "slideshow": {
     "slide_type": "slide"
    }
   },
   "source": [
    "### Example: Log parsing\n",
    "\n",
    "Web servers typically record every request made of them in the \"logs\"."
   ]
  },
  {
   "cell_type": "code",
   "execution_count": null,
   "id": "46d1dcc3",
   "metadata": {
    "scrolled": false,
    "slideshow": {
     "slide_type": "-"
    }
   },
   "outputs": [],
   "source": [
    "s = '''132.249.20.188 - - [24/Feb/2023:12:26:15 -0800] \"GET /my/home/ HTTP/1.1\" 200 2585'''"
   ]
  },
  {
   "cell_type": "markdown",
   "id": "d7c7b00a",
   "metadata": {},
   "source": [
    "Let's use our new regex syntax (including capturing groups) to extract the day, month, year, and time from the log string `s`."
   ]
  },
  {
   "cell_type": "code",
   "execution_count": null,
   "id": "abff9776",
   "metadata": {
    "scrolled": false
   },
   "outputs": [],
   "source": [
    "exp = r'\\[(.+)\\/(.+)\\/(.+):(.+):(.+):(.+) .+\\]'\n",
    "re.findall(exp, s)"
   ]
  },
  {
   "cell_type": "markdown",
   "id": "426932e2",
   "metadata": {
    "slideshow": {
     "slide_type": "fragment"
    }
   },
   "source": [
    "While above regex works, it is not very **specific**. It _works_ on incorrectly formatted log strings."
   ]
  },
  {
   "cell_type": "code",
   "execution_count": null,
   "id": "9226de42",
   "metadata": {
    "scrolled": false
   },
   "outputs": [],
   "source": [
    "other_s = '[adr/jduy/wffsdffs:r4s4:4wsgdfd:asdf 7]'\n",
    "re.findall(exp, other_s)"
   ]
  },
  {
   "cell_type": "markdown",
   "id": "0a645d57",
   "metadata": {
    "slideshow": {
     "slide_type": "slide"
    }
   },
   "source": [
    "### The more specific, the better!    "
   ]
  },
  {
   "cell_type": "markdown",
   "id": "03affa61",
   "metadata": {
    "slideshow": {
     "slide_type": "fragment"
    }
   },
   "source": [
    "- Be as specific in your pattern matching as possible – you don't want to match and extract strings that don't fit the pattern you care about.\n",
    "    - `.*` matches every possible string, but we don't use it very often.\n"
   ]
  },
  {
   "cell_type": "markdown",
   "id": "973ee8eb",
   "metadata": {
    "slideshow": {
     "slide_type": "fragment"
    }
   },
   "source": [
    "- A better date extraction regex:\n",
    "```\n",
    "\\[(\\d{2})\\/([A-Z]{1}[a-z]{2})\\/(\\d{4}):(\\d{2}):(\\d{2}):(\\d{2}) -\\d{4}\\]\n",
    "```\n",
    "    - `\\d{2}` matches any 2-digit number.\n",
    "    - `[A-Z]{1}` matches any single occurrence of any uppercase letter.\n",
    "    - `[a-z]{2}` matches any 2 consecutive occurrences of lowercase letters.\n",
    "    - Remember, special characters (`[`, `]`, `/`) need to be escaped with `\\`."
   ]
  },
  {
   "cell_type": "code",
   "execution_count": null,
   "id": "60a3e026",
   "metadata": {
    "scrolled": false
   },
   "outputs": [],
   "source": [
    "s"
   ]
  },
  {
   "cell_type": "code",
   "execution_count": null,
   "id": "0f07f175",
   "metadata": {
    "scrolled": false
   },
   "outputs": [],
   "source": [
    "new_exp = '\\[(\\d{2})\\/([A-Z]{1}[a-z]{2})\\/(\\d{4}):(\\d{2}):(\\d{2}):(\\d{2}) -\\d{4}\\]'\n",
    "re.findall(new_exp, s)"
   ]
  },
  {
   "cell_type": "markdown",
   "id": "d23bde76",
   "metadata": {},
   "source": [
    "A benefit of `new_exp` over `exp` is that it doesn't capture anything when the string doesn't follow the format we specified."
   ]
  },
  {
   "cell_type": "code",
   "execution_count": null,
   "id": "4b43ad1f",
   "metadata": {
    "scrolled": false
   },
   "outputs": [],
   "source": [
    "other_s"
   ]
  },
  {
   "cell_type": "code",
   "execution_count": null,
   "id": "2fc12ac1",
   "metadata": {
    "scrolled": false
   },
   "outputs": [],
   "source": [
    "re.findall(new_exp, other_s)"
   ]
  },
  {
   "cell_type": "markdown",
   "id": "64f1e916",
   "metadata": {
    "slideshow": {
     "slide_type": "slide"
    }
   },
   "source": [
    "<div class=\"alert alert-success\" markdown=\"1\">\n",
    "    <h3>Exercise</h3>\n",
    "    \n",
    "`^\\w{2,5}.\\d*\\/[^A-Z5]{1,}`\n",
    "\n",
    "Select all strings below that contain any match with the regular expression above.\n",
    "\n",
    "- `\"billy4/Za\"`\n",
    "- `\"billy4/za\"`\n",
    "- `\"DAI_s2154/pacific\"`\n",
    "- `\"daisy/ZZZZZ\"`\n",
    "- `\"bi_/_lly98\"`\n",
    "- `\"!@__!14/atlantic\"`"
   ]
  },
  {
   "cell_type": "markdown",
   "id": "26521adc",
   "metadata": {
    "slideshow": {
     "slide_type": "slide"
    }
   },
   "source": [
    "### Limitations of regular expressions\n",
    "\n",
    "Writing a regular expression is like writing a program.\n",
    "* You need to know the syntax well.\n",
    "* They can be easier to write than to read.\n",
    "* They can be difficult to debug.\n",
    "\n",
    "Regular expressions are terrible at certain types of problems. Examples:\n",
    "* Anything involving counting (same number of instances of a and b).\n",
    "* Anything involving complex structure (palindromes).\n",
    "* Parsing highly complex text structure ([HTML](https://stackoverflow.com/questions/1732348/regex-match-open-tags-except-xhtml-self-contained-tags), for instance)."
   ]
  },
  {
   "cell_type": "markdown",
   "id": "ec4b7cca",
   "metadata": {
    "slideshow": {
     "slide_type": "slide"
    }
   },
   "source": [
    "## Text features\n",
    "\n",
    "Removed this material since we didn't cover it in lecture; we'll pick back up in Lecture 12."
   ]
  },
  {
   "cell_type": "markdown",
   "id": "b47ced6f",
   "metadata": {
    "slideshow": {
     "slide_type": "slide"
    }
   },
   "source": [
    "## Summary, next time"
   ]
  },
  {
   "cell_type": "markdown",
   "id": "a8b47b3f",
   "metadata": {
    "slideshow": {
     "slide_type": "slide"
    }
   },
   "source": [
    "### Summary\n",
    "\n",
    "- Regular expressions are used to match and extract patterns from text.\n",
    "- You don't need to force yourself to \"memorize\" regex syntax – refer to the resources in the Agenda section of the lecture and on the Resources tab of the course website.\n",
    "- Also refer to the three tables of syntax in the lecture:\n",
    "    - [Regex building blocks](#Regex-building-blocks-%F0%9F%A7%B1).\n",
    "    - [More regex syntax](#More-regex-syntax).\n",
    "    - [Even more regex syntax](#Even-more-regex-syntax).\n",
    "- Note: You don't always have to use regular expressions! If Python/pandas string methods work for your task, you can still use those.\n",
    "    - Play [Regex Golf](https://alf.nu/RegexGolf?world=regex&level=r00) to practice! 🏌️\n",
    "- `pandas` `.str` methods can use regular expressions; just set `regex=True`.\n",
    "- One way to turn texts, like `'deputy fire chief'`, into feature vectors, is to count the number of occurrences of each word in the text, ignoring order. This is done using the **bag of words** model."
   ]
  },
  {
   "cell_type": "markdown",
   "id": "1fdd4466",
   "metadata": {
    "slideshow": {
     "slide_type": "slide"
    }
   },
   "source": [
    "### Next time\n",
    "\n",
    "- Implementing the bag of words model.\n",
    "- TF-IDF: an improvement on bag of words that considers the **importance** of each word."
   ]
  }
 ],
 "metadata": {
  "kernelspec": {
   "display_name": "Python 3 (ipykernel)",
   "language": "python",
   "name": "python3"
  },
  "language_info": {
   "codemirror_mode": {
    "name": "ipython",
    "version": 3
   },
   "file_extension": ".py",
   "mimetype": "text/x-python",
   "name": "python",
   "nbconvert_exporter": "python",
   "pygments_lexer": "ipython3",
   "version": "3.8.18"
  },
  "livereveal": {
   "scroll": true
  },
  "rise": {
   "transition": "none"
  }
 },
 "nbformat": 4,
 "nbformat_minor": 5
}
