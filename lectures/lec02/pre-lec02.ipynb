{
 "cells": [
  {
   "cell_type": "code",
   "execution_count": null,
   "id": "eeb8b201",
   "metadata": {
    "slideshow": {
     "slide_type": "skip"
    },
    "tags": []
   },
   "outputs": [],
   "source": [
    "# You'll start seeing this cell in most lectures.\n",
    "# It exists to hide all of the import statements and other setup\n",
    "# code we need in lecture notebooks.\n",
    "from dsc80_utils import *"
   ]
  },
  {
   "cell_type": "markdown",
   "id": "3143de48",
   "metadata": {
    "slideshow": {
     "slide_type": "slide"
    },
    "tags": []
   },
   "source": [
    "# <span style=\"color:#7b40c7\">Pre-Lecture Reading</span> for Lecture 2 – DataFrame Fundamentals\n",
    "\n",
    "## DSC 80, Winter 2024\n",
    "\n",
    "<div class=\"alert alert-success\">\n",
    "<b>Make sure to read this before attending lecture (which, remember, is on <a href=\"https://ucsd.zoom.us/my/rampure\">Zoom</a> today.)</b>\n",
    "\n",
    "You can also access this notebook by pulling the course GitHub repository and opening <code>lectures/lec02/pre-lec02.ipynb</code>.\n",
    "</div>"
   ]
  },
  {
   "cell_type": "markdown",
   "id": "8cfd8499",
   "metadata": {
    "slideshow": {
     "slide_type": "slide"
    }
   },
   "source": [
    "In this reading, we'll review some of the basics of `numpy` and `babypandas` that you're familiar with from [DSC 10](https://dsc-courses.github.io/dsc10-2023-fa). In lecture, we'll build off of this foundation."
   ]
  },
  {
   "cell_type": "markdown",
   "id": "af673330",
   "metadata": {},
   "source": [
    "## `numpy` arrays"
   ]
  },
  {
   "cell_type": "markdown",
   "id": "d4dc9df4",
   "metadata": {
    "slideshow": {
     "slide_type": "slide"
    }
   },
   "source": [
    "### `numpy` overview\n",
    "\n",
    "- `numpy` stands for \"numerical Python\". It is a commonly-used Python module that enables **fast** computation involving arrays and matrices.\n",
    "- `numpy`'s main object is the **array**. In `numpy`, arrays are:\n",
    "    - Homogenous – all values are of the same type.\n",
    "    - (Potentially) multi-dimensional.\n",
    "- Computation in `numpy` is fast because:\n",
    "    - Much of it is implemented in C.\n",
    "    - `numpy` arrays are stored more efficiently in memory than, say, Python lists. \n",
    "- [This site](https://cloudxlab.com/blog/numpy-pandas-introduction/) provides a good overview of `numpy` arrays.\n",
    "\n",
    "We used `numpy` in DSC 10 to work with sequences of data:"
   ]
  },
  {
   "cell_type": "code",
   "execution_count": null,
   "id": "80a82e41",
   "metadata": {},
   "outputs": [],
   "source": [
    "arr = np.arange(10)\n",
    "arr"
   ]
  },
  {
   "cell_type": "code",
   "execution_count": null,
   "id": "0e4bcfcb",
   "metadata": {},
   "outputs": [],
   "source": [
    "# The shape (10,) means that the array only has a single dimension,\n",
    "# of size 10.\n",
    "arr.shape"
   ]
  },
  {
   "cell_type": "code",
   "execution_count": null,
   "id": "de9f257f",
   "metadata": {},
   "outputs": [],
   "source": [
    "2 ** arr"
   ]
  },
  {
   "cell_type": "markdown",
   "id": "35594b39",
   "metadata": {},
   "source": [
    "Arrays come equipped with several handy methods; some examples are below, but you can read about them all [here](https://numpy.org/doc/stable/reference/generated/numpy.ndarray.html)."
   ]
  },
  {
   "cell_type": "code",
   "execution_count": null,
   "id": "bd9f7d94",
   "metadata": {},
   "outputs": [],
   "source": [
    "(2 ** arr).sum()"
   ]
  },
  {
   "cell_type": "code",
   "execution_count": null,
   "id": "c63c939e",
   "metadata": {},
   "outputs": [],
   "source": [
    "(2 ** arr).mean()"
   ]
  },
  {
   "cell_type": "code",
   "execution_count": null,
   "id": "8384c026",
   "metadata": {},
   "outputs": [],
   "source": [
    "(2 ** arr).max()"
   ]
  },
  {
   "cell_type": "code",
   "execution_count": null,
   "id": "59687bd1",
   "metadata": {
    "scrolled": true
   },
   "outputs": [],
   "source": [
    "(2 ** arr).argmax()"
   ]
  },
  {
   "cell_type": "markdown",
   "id": "eb19cca8",
   "metadata": {
    "slideshow": {
     "slide_type": "slide"
    }
   },
   "source": [
    "### ⚠️ The dangers of `for`-loops\n",
    "\n",
    "- `for`-loops are slow when processing large datasets. **You will rarely write `for`-loops in DSC 80 (except for Lab 1 and Project 1), and may be penalized on assignments for using them when unnecessary!**\n",
    "- One of the biggest benefits of `numpy` is that it supports **vectorized** operations. \n",
    "    - If `a` and `b` are two arrays of the same length, then `a + b` is a new array of the same length containing the element-wise sum of `a` and `b`.\n",
    "- To illustrate how much faster `numpy` arithmetic is than using a `for`-loop, let's compute the squares of the numbers between 0 and 1,000,000:\n",
    "    - Using a `for`-loop.\n",
    "    - Using vectorized arithmetic, through `numpy`."
   ]
  },
  {
   "cell_type": "code",
   "execution_count": null,
   "id": "2f0c5235",
   "metadata": {},
   "outputs": [],
   "source": [
    "%%timeit\n",
    "squares = []\n",
    "for i in range(1_000_000):\n",
    "    squares.append(i * i)"
   ]
  },
  {
   "cell_type": "markdown",
   "id": "a1461c13",
   "metadata": {},
   "source": [
    "In vanilla Python, this takes about 0.04 seconds per loop."
   ]
  },
  {
   "cell_type": "code",
   "execution_count": null,
   "id": "1dae0772",
   "metadata": {},
   "outputs": [],
   "source": [
    "%%timeit\n",
    "squares = np.arange(1_000_000) ** 2"
   ]
  },
  {
   "cell_type": "markdown",
   "id": "07b6d506",
   "metadata": {},
   "source": [
    "In `numpy`, this only takes about 0.001 seconds per loop, more than 40x faster! Note that under the hood, `numpy` is also using a `for`-loop, but it's a `for`-loop implemented in C, which is much faster than Python."
   ]
  },
  {
   "cell_type": "markdown",
   "id": "4d31a7a7",
   "metadata": {},
   "source": [
    "### Multi-dimensional arrays\n",
    "\n",
    "While we didn't see these very often in DSC 10, multi-dimensional lists/arrays may have since come up in DSC 20, 30, or 40A (especially in the context of linear algebra).\n",
    "\n",
    "We'll spend a bit of time talking about 2D (and 3D) arrays here, since in some ways, they behave similarly to DataFrames. \n",
    "\n",
    "Below, we create a 2D array from scratch."
   ]
  },
  {
   "cell_type": "code",
   "execution_count": null,
   "id": "ce90bd31",
   "metadata": {},
   "outputs": [],
   "source": [
    "nums = np.array([\n",
    "    [5, 1, 9, 7],\n",
    "    [9, 8, 2, 3],\n",
    "    [2, 5, 0, 4]\n",
    "])\n",
    "\n",
    "nums"
   ]
  },
  {
   "cell_type": "code",
   "execution_count": null,
   "id": "c1a9bad5",
   "metadata": {},
   "outputs": [],
   "source": [
    "# nums has 3 rows and 4 columns.\n",
    "nums.shape"
   ]
  },
  {
   "cell_type": "markdown",
   "id": "c7b54286",
   "metadata": {},
   "source": [
    "We can also create 2D arrays by _reshaping_ other arrays."
   ]
  },
  {
   "cell_type": "code",
   "execution_count": null,
   "id": "42a2539d",
   "metadata": {},
   "outputs": [],
   "source": [
    "# Here, we're asking to reshape np.arange(1, 7)\n",
    "# so that it has 2 rows and 3 columns.\n",
    "a = np.arange(1, 7).reshape((2, 3))\n",
    "a"
   ]
  },
  {
   "cell_type": "markdown",
   "id": "ac55feef",
   "metadata": {},
   "source": [
    "### Operations along axes\n",
    "\n",
    "In 2D arrays (and DataFrames), axis 0 refers to the rows (up and down) and axis 1 refers to the columns (left and right).\n",
    "\n",
    "<center><img src='imgs/axis-sum.png' width=600></center>"
   ]
  },
  {
   "cell_type": "code",
   "execution_count": null,
   "id": "d463908b",
   "metadata": {},
   "outputs": [],
   "source": [
    "a"
   ]
  },
  {
   "cell_type": "markdown",
   "id": "95875b7b",
   "metadata": {},
   "source": [
    "If we specify `axis=0`, `a.sum` will \"compress\" along axis 0."
   ]
  },
  {
   "cell_type": "code",
   "execution_count": null,
   "id": "07f8b154",
   "metadata": {},
   "outputs": [],
   "source": [
    "a.sum(axis=0)"
   ]
  },
  {
   "cell_type": "markdown",
   "id": "9c8efb77",
   "metadata": {},
   "source": [
    "If we specify `axis=1`, `a.sum` will \"compress\" along axis 1."
   ]
  },
  {
   "cell_type": "code",
   "execution_count": null,
   "id": "fa289a01",
   "metadata": {},
   "outputs": [],
   "source": [
    "a.sum(axis=1)"
   ]
  },
  {
   "cell_type": "markdown",
   "id": "d3c6d517",
   "metadata": {},
   "source": [
    "### Selecting rows and columns from 2D arrays"
   ]
  },
  {
   "cell_type": "markdown",
   "id": "28edb2d9",
   "metadata": {},
   "source": [
    "You can use `[`square brackets`]` to **slice** rows and columns out of an array, using the same slicing conventions you saw in DSC 20."
   ]
  },
  {
   "cell_type": "code",
   "execution_count": null,
   "id": "83670539",
   "metadata": {},
   "outputs": [],
   "source": [
    "a"
   ]
  },
  {
   "cell_type": "code",
   "execution_count": null,
   "id": "eae75885",
   "metadata": {
    "scrolled": true
   },
   "outputs": [],
   "source": [
    "# Accesses row 0 and all columns.\n",
    "a[0, :]"
   ]
  },
  {
   "cell_type": "code",
   "execution_count": null,
   "id": "9b20af74",
   "metadata": {},
   "outputs": [],
   "source": [
    "# Same as the above.\n",
    "a[0]"
   ]
  },
  {
   "cell_type": "code",
   "execution_count": null,
   "id": "c6a9e6cc",
   "metadata": {},
   "outputs": [],
   "source": [
    "# Accesses all rows and column 1.\n",
    "a[:, 1]"
   ]
  },
  {
   "cell_type": "code",
   "execution_count": null,
   "id": "7aaf209d",
   "metadata": {},
   "outputs": [],
   "source": [
    "# Accesses row 0 and columns 1 and onwards.\n",
    "a[0, 1:]"
   ]
  },
  {
   "cell_type": "markdown",
   "id": "01155863",
   "metadata": {},
   "source": [
    "<div class=\"alert alert-success\">\n",
    "    <h3>Exercise</h3>\n",
    "    Try and predict the value of <code>grid[-1, 1:].sum()</code> without running the code below.\n",
    "</div>"
   ]
  },
  {
   "cell_type": "code",
   "execution_count": null,
   "id": "1c2c2676",
   "metadata": {},
   "outputs": [],
   "source": [
    "s = (5, 3)\n",
    "grid = np.ones(s) * 2 * np.arange(1, 16).reshape(s)\n",
    "# grid[-1, 1:].sum()"
   ]
  },
  {
   "cell_type": "markdown",
   "id": "018d58fd",
   "metadata": {
    "slideshow": {
     "slide_type": "slide"
    },
    "tags": []
   },
   "source": [
    "## From `babypandas` to `pandas` 🐼"
   ]
  },
  {
   "cell_type": "markdown",
   "id": "420e9507",
   "metadata": {
    "slideshow": {
     "slide_type": "slide"
    },
    "tags": []
   },
   "source": [
    "### `babypandas`\n",
    "\n",
    "In DSC 10, you used `babypandas`, which was a subset of `pandas` designed to be friendly for beginners.\n",
    "<center><img src='imgs/babypanda.jpg' width=45%></center>"
   ]
  },
  {
   "cell_type": "markdown",
   "id": "8412e023",
   "metadata": {
    "slideshow": {
     "slide_type": "slide"
    },
    "tags": []
   },
   "source": [
    "### `pandas`\n",
    "\n",
    "You're not a beginner anymore – you've taken DSC 20, 30, and 40A. You're ready for the real deal.\n",
    "\n",
    "<center><img src='imgs/angrypanda.jpg' width=60%></center>\n",
    "\n",
    "Fortunately, **everything you learned in `babypandas` will carry over!**"
   ]
  },
  {
   "cell_type": "markdown",
   "id": "a7137020",
   "metadata": {
    "slideshow": {
     "slide_type": "slide"
    },
    "tags": []
   },
   "source": [
    "### `pandas`\n",
    "\n",
    "<center><img src='imgs/pandas.png' width=200></center>\n",
    "\n",
    "- `pandas` is **the** Python library for tabular data manipulation.\n",
    "- Before `pandas` was developed, the standard data science workflow involved using multiple languages (Python, R, Java) in a single project.\n",
    "- Wes McKinney, the original developer of `pandas`, wanted a library which would allow everything to be done in Python.\n",
    "    - Python is faster to develop in than Java, and is more general-purpose than R."
   ]
  },
  {
   "cell_type": "markdown",
   "id": "d7a959a3",
   "metadata": {
    "slideshow": {
     "slide_type": "slide"
    },
    "tags": []
   },
   "source": [
    "### `pandas` data structures\n",
    "\n",
    "There are three key data structures at the core of `pandas`:\n",
    "- DataFrame: 2 dimensional tables.\n",
    "- Series: 1 dimensional array-like object, typically representing a column or row.\n",
    "- Index: sequence of column or row labels.\n",
    "\n",
    "<center>\n",
    "    <img src='imgs/example-df.png' width=400>\n",
    "</center>"
   ]
  },
  {
   "cell_type": "markdown",
   "id": "1129f156",
   "metadata": {
    "slideshow": {
     "slide_type": "slide"
    },
    "tags": []
   },
   "source": [
    "### Importing `pandas` and related libraries\n",
    "\n",
    "`pandas` is almost always imported in conjunction with `numpy`."
   ]
  },
  {
   "cell_type": "code",
   "execution_count": null,
   "id": "f14fcafa-a170-4c65-8921-9ccb867684a3",
   "metadata": {},
   "outputs": [],
   "source": [
    "import pandas as pd\n",
    "import numpy as np"
   ]
  },
  {
   "cell_type": "markdown",
   "id": "09f320d6",
   "metadata": {
    "slideshow": {
     "slide_type": "slide"
    }
   },
   "source": [
    "### Example: Dog Breeds (woof!) 🐶\n",
    "\n",
    "We'll provide more context for the dataset we're working with in lecture. For now, all you need to know is that each row corresponds to a different dog breed."
   ]
  },
  {
   "cell_type": "code",
   "execution_count": null,
   "id": "9e5816af",
   "metadata": {
    "scrolled": true
   },
   "outputs": [],
   "source": [
    "# You'll see the Path(...) / syntax a lot.\n",
    "# It creates the correct path to your file, \n",
    "# whether you're using Windows, macOS, or Linux.\n",
    "# (Note that macOS and Linux use / to denote separate folders in paths,\n",
    "# while Windows uses \\.)\n",
    "dog_path = Path('data') / 'dogs43.csv'\n",
    "dogs = pd.read_csv(dog_path)\n",
    "dogs"
   ]
  },
  {
   "cell_type": "markdown",
   "id": "37dfa85f-ec32-4e80-96c8-44a7e4648bb5",
   "metadata": {
    "slideshow": {
     "slide_type": "slide"
    }
   },
   "source": [
    "### Review: `head`, `tail`, `shape`, `index`, `get`, and `sort_values`\n",
    "\n",
    "To extract the first or last few rows of a DataFrame, use the `head` or `tail` methods."
   ]
  },
  {
   "cell_type": "code",
   "execution_count": null,
   "id": "40b81a37-c457-43ca-97ac-ba41e6192800",
   "metadata": {},
   "outputs": [],
   "source": [
    "dogs.head(3)"
   ]
  },
  {
   "cell_type": "code",
   "execution_count": null,
   "id": "d78c23d2-ea08-4c39-9bfb-534705770e92",
   "metadata": {},
   "outputs": [],
   "source": [
    "dogs.tail(2)"
   ]
  },
  {
   "cell_type": "markdown",
   "id": "c7697d12-c931-4495-8c96-e4e0436ec6eb",
   "metadata": {
    "slideshow": {
     "slide_type": "slide"
    },
    "tags": []
   },
   "source": [
    "The `shape` attribute returns the DataFrame's number of rows and columns."
   ]
  },
  {
   "cell_type": "code",
   "execution_count": null,
   "id": "5f544554-8a1c-4068-988c-fb8299820900",
   "metadata": {},
   "outputs": [],
   "source": [
    "dogs.shape"
   ]
  },
  {
   "cell_type": "code",
   "execution_count": null,
   "id": "2b485d34-8303-4ba0-bbbf-98bc23d2b3d5",
   "metadata": {},
   "outputs": [],
   "source": [
    "# The default index of a DataFrame is 0, 1, 2, 3, ...\n",
    "dogs.index"
   ]
  },
  {
   "cell_type": "markdown",
   "id": "62715aaa-e801-4e15-b46a-8741df56351d",
   "metadata": {
    "slideshow": {
     "slide_type": "slide"
    }
   },
   "source": [
    "We know that we can use `.get()` to select out a column or multiple columns..."
   ]
  },
  {
   "cell_type": "code",
   "execution_count": null,
   "id": "9591d4ac",
   "metadata": {},
   "outputs": [],
   "source": [
    "dogs.get('breed')"
   ]
  },
  {
   "cell_type": "code",
   "execution_count": null,
   "id": "e48a51ed-7ea4-4c3f-9355-4ffaf354df84",
   "metadata": {},
   "outputs": [],
   "source": [
    "dogs.get(['breed', 'kind', 'longevity'])"
   ]
  },
  {
   "cell_type": "markdown",
   "id": "9407219b",
   "metadata": {},
   "source": [
    "Most people don't use `.get` in practice; we'll see the more common technique in lecture."
   ]
  },
  {
   "cell_type": "markdown",
   "id": "2585a295",
   "metadata": {
    "slideshow": {
     "slide_type": "slide"
    },
    "tags": []
   },
   "source": [
    "And lastly, remember that to sort by a column, use the `sort_values` method. Like most DataFrame and Series methods, `sort_values` returns a new DataFrame, and doesn't modify the original."
   ]
  },
  {
   "cell_type": "code",
   "execution_count": null,
   "id": "6495fe7e",
   "metadata": {
    "slideshow": {
     "slide_type": ""
    },
    "tags": []
   },
   "outputs": [],
   "source": [
    "# Note that the index is no longer 0, 1, 2, ...!\n",
    "dogs.sort_values('height', ascending=False)"
   ]
  },
  {
   "cell_type": "code",
   "execution_count": null,
   "id": "a9d1761e",
   "metadata": {},
   "outputs": [],
   "source": [
    "# This sorts by 'height', \n",
    "# then breaks ties by 'longevity'.\n",
    "# Note the difference in the last three rows between\n",
    "# this DataFrame and the one above.\n",
    "dogs.sort_values(['height', 'longevity'],\n",
    "                 ascending=False)"
   ]
  },
  {
   "cell_type": "markdown",
   "id": "97b916cf",
   "metadata": {},
   "source": [
    "Note that `dogs` is not the DataFrame above. To save our changes, we'd need to say something like `dogs = dogs.sort_values...`."
   ]
  },
  {
   "cell_type": "code",
   "execution_count": null,
   "id": "7965a0c2",
   "metadata": {},
   "outputs": [],
   "source": [
    "dogs"
   ]
  },
  {
   "cell_type": "markdown",
   "id": "a8eda68a",
   "metadata": {},
   "source": [
    "That's all we need to review... we'll pick back up in lecture!"
   ]
  }
 ],
 "metadata": {
  "kernelspec": {
   "display_name": "Python 3 (ipykernel)",
   "language": "python",
   "name": "python3"
  },
  "language_info": {
   "codemirror_mode": {
    "name": "ipython",
    "version": 3
   },
   "file_extension": ".py",
   "mimetype": "text/x-python",
   "name": "python",
   "nbconvert_exporter": "python",
   "pygments_lexer": "ipython3",
   "version": "3.8.18"
  },
  "livereveal": {
   "scroll": true
  },
  "rise": {
   "transition": "none"
  }
 },
 "nbformat": 4,
 "nbformat_minor": 5
}
