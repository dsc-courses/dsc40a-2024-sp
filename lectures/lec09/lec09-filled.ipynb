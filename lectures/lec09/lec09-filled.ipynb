{
 "cells": [
  {
   "cell_type": "code",
   "execution_count": null,
   "id": "8c8a44b8",
   "metadata": {
    "slideshow": {
     "slide_type": "skip"
    }
   },
   "outputs": [],
   "source": [
    "from dsc80_utils import *\n",
    "\n",
    "# For the JSON evaluation example.\n",
    "def err():\n",
    "    raise ValueError('i just deleted all your files lol 😂')"
   ]
  },
  {
   "cell_type": "markdown",
   "id": "ce9e66d9",
   "metadata": {
    "slideshow": {
     "slide_type": "slide"
    }
   },
   "source": [
    "# Lecture 9 – HTTP, Midterm Review\n",
    "\n",
    "## DSC 80, Winter 2024"
   ]
  },
  {
   "cell_type": "markdown",
   "id": "22824200",
   "metadata": {
    "slideshow": {
     "slide_type": "slide"
    }
   },
   "source": [
    "### Announcements 📣\n",
    "\n",
    "- Project 2's checkpoint is due **today**. The full project is due on **Tuesday, February 13th**.\n",
    "    - You can use up to 3 slip days on both deadlines, and everyone now has 7 slip days instead of 6.\n",
    "- Lab 5 is due on **Monday, February 12th**.\n",
    "    - It doesn't have any hidden tests, since it's due close to the Midterm Exam.\n",
    "    - It has lots of conceptual problems on missingness mechanisms, so try and work through it before the exam!\n",
    "- The Midterm Exam is **this Thursday in lecture**."
   ]
  },
  {
   "cell_type": "markdown",
   "id": "dbabdc2d",
   "metadata": {
    "slideshow": {
     "slide_type": "slide"
    }
   },
   "source": [
    "### Midterm Exam 📝\n",
    "\n",
    "**Thursday, February 8th, from 3:30-4:50PM, in Pepper Canyon 109**\n",
    "\n",
    "- Pen and paper only. No calculators, phones, or watches allowed.\n",
    "- **You will be assigned a seat by tomorrow!**\n",
    "- You are allowed to bring one double-sided 8.5\" x 11\" sheet of handwritten notes.\n",
    "    - No reference sheet given, unlike DSC 10!\n",
    "- We will display clarifications and the time remaining during the exam.\n",
    "- Covers Lectures 1-8 and all related assignments.\n",
    "- To review problems from old exams, go to [practice.dsc80.com](https://practice.dsc80.com).\n",
    "    - We just posted the Fall 2023 Midterm and solutions.\n",
    "    - Also look at the [Resources](https://dsc80.com/resources) tab on the course website."
   ]
  },
  {
   "cell_type": "markdown",
   "id": "bd851d5b",
   "metadata": {
    "slideshow": {
     "slide_type": "slide"
    }
   },
   "source": [
    "### Agenda 📆\n",
    "\n",
    "- Introduction to HTTP.\n",
    "- Making HTTP requests.\n",
    "- Data formats.\n",
    "- APIs and web scraping.\n",
    "- Midterm review."
   ]
  },
  {
   "cell_type": "markdown",
   "id": "acd1538f",
   "metadata": {
    "slideshow": {
     "slide_type": "slide"
    }
   },
   "source": [
    "## Introduction to HTTP"
   ]
  },
  {
   "cell_type": "markdown",
   "id": "9e1a2732",
   "metadata": {
    "slideshow": {
     "slide_type": "slide"
    }
   },
   "source": [
    "<center><img src=\"imgs/ds-lifecycle.svg\" width=\"60%\"></center>"
   ]
  },
  {
   "cell_type": "markdown",
   "id": "62270a93",
   "metadata": {
    "slideshow": {
     "slide_type": "slide"
    }
   },
   "source": [
    "### Data sources\n",
    "\n",
    "* Often, the data you need doesn't exist in \"clean\" `.csv` files.\n",
    "\n",
    "* **Solution**: Collect your own data!\n",
    "    - Design and administer your own survey or run an experiment.\n",
    "    - Find related data on the internet.\n",
    "\n",
    "- The internet contains **massive** amounts of historical record; for most questions you can think of, the answer exists somewhere on the internet."
   ]
  },
  {
   "cell_type": "markdown",
   "id": "ff801f12",
   "metadata": {
    "slideshow": {
     "slide_type": "slide"
    }
   },
   "source": [
    "### Collecting data from the internet\n",
    "\n",
    "- There are two ways to programmatically access data on the internet:\n",
    "    - through an API.\n",
    "    - by scraping.\n",
    "\n",
    "- We will discuss the differences between both approaches, but for now, the important part is that they **both use HTTP**."
   ]
  },
  {
   "cell_type": "markdown",
   "id": "d51a660f",
   "metadata": {
    "slideshow": {
     "slide_type": "slide"
    }
   },
   "source": [
    "### HTTP\n",
    "\n",
    "- HTTP stands for **Hypertext Transfer Protocol**.\n",
    "    - It was developed in 1989 by Tim Berners-Lee (and friends).\n",
    "\n",
    "- It is a **request-response** protocol.\n",
    "    - Protocol = set of rules.\n",
    "\n",
    "- HTTP allows...\n",
    "    - computers to talk to each other over a network.\n",
    "    - devices to fetch data from \"web servers.\"\n",
    "\n",
    "- The \"S\" in HTTPS stands for \"secure\"."
   ]
  },
  {
   "cell_type": "markdown",
   "id": "f5425cec",
   "metadata": {
    "slideshow": {
     "slide_type": "slide"
    }
   },
   "source": [
    "<center><img src='imgs/ucsd.png' width=750></center>\n",
    "\n",
    "UCSD was a node in ARPANET, the predecessor to the modern internet ([source](https://en.wikipedia.org/wiki/ARPANET#/media/File:Arpanet_map_1973.jpg/))."
   ]
  },
  {
   "cell_type": "markdown",
   "id": "a2dda4ff",
   "metadata": {
    "slideshow": {
     "slide_type": "slide"
    }
   },
   "source": [
    "### The request-response model\n",
    "\n",
    "HTTP follows the **request-response** model.\n",
    "\n",
    "<center><img src='imgs/req-response.png' width=500></center>\n",
    "\n",
    "- A <b><span style=\"color:blue\">request</span></b> is made by the <b><span style=\"color:blue\">client</span></b>.\n",
    "\n",
    "- A <b><span style=\"color:orange\">response</span></b> is returned by the <b><span style=\"color:orange\">server</span></b>.\n",
    "\n",
    "- **Example**: YouTube search 🎥.\n",
    "    - Consider the following URL: https://www.youtube.com/results?search_query=apple+vision+pro.\n",
    "    - Your web browser, a **client**, makes an HTTP **request** with a search query.\n",
    "    - The **server**, YouTube, is a computer that is sitting somewhere else.\n",
    "    - The server returns a **response** that contains the search results.\n",
    "    - Note: ?search_query=apple+vision+pro is called a \"query string.\""
   ]
  },
  {
   "cell_type": "markdown",
   "id": "729671b6",
   "metadata": {
    "slideshow": {
     "slide_type": "slide"
    }
   },
   "source": [
    "### Request methods\n",
    "\n",
    "The request methods you will use most often are `GET` and `POST`; see [Mozilla's web docs](https://developer.mozilla.org/en-US/docs/Web/HTTP/Methods) for a detailed list of request methods.    \n",
    "\n",
    "- `GET` is used to request data **from** a specified resource.\n",
    "\n",
    "- `POST` is used to **send** data to the server. \n",
    "    - For example, uploading a photo to Instagram or entering credit card information on Amazon."
   ]
  },
  {
   "cell_type": "markdown",
   "id": "bcc2a6ab",
   "metadata": {
    "slideshow": {
     "slide_type": "slide"
    }
   },
   "source": [
    "### Example `GET` request\n",
    "\n",
    "Below is an example `GET` HTTP request made by a browser when accessing [datascience.ucsd.edu](https://datascience.ucsd.edu).\n",
    "\n",
    "```HTTP\n",
    "GET / HTTP/1.1\n",
    "Connection: keep-alive\n",
    "Host: datascience.ucsd.edu\n",
    "User-Agent: Mozilla/5.0 (Macintosh; Intel Mac OS X 10_15_7) AppleWebKit/537.36 (KHTML, like Gecko) Chrome/121.0.0.0 Safari/537.36\n",
    "sec-ch-ua: \"Chromium\";v=\"121\", \"Not A(Brand\";v=\"99\"\n",
    "sec-ch-ua-platform: \"macOS\"\n",
    "```\n",
    "\n",
    "- The first line (`GET / HTTP/1.1`) is called the \"request line\", and the lines afterwards are called \"header fields\". Header fields contain metadata. \n",
    "\n",
    "- We _could_ also provide a \"body\" after the header fields.\n",
    "\n",
    "- To see HTTP requests in Google Chrome, follow [these steps](https://mkyong.com/computer-tips/how-to-view-http-headers-in-google-chrome/)."
   ]
  },
  {
   "cell_type": "markdown",
   "id": "5546a534",
   "metadata": {
    "slideshow": {
     "slide_type": "slide"
    }
   },
   "source": [
    "### Example `GET` response\n",
    "\n",
    "The response below was generated by executing the request on the previous slide.\n",
    "\n",
    "```HTTP\n",
    "HTTP/1.1 200 OK\n",
    "Date: Sun, 04 Feb 2024 17:35:01 GMT\n",
    "Server: Apache\n",
    "X-Powered-By: PHP/7.4.33\n",
    "Link: <https://datascience.ucsd.edu/wp-json/>; rel=\"https://api.w.org/\"\n",
    "Link: <https://datascience.ucsd.edu/wp-json/wp/v2/pages/113>; rel=\"alternate\"; type=\"application/json\"\n",
    "...\n",
    "\n",
    "<html lang=\"en-US\">\n",
    "    <head>\n",
    "        <meta charset=\"UTF-8\">\n",
    "        <meta name=\"viewport\" content=\"width=device-width, initial-scale=1.0\"/>\n",
    "        <meta http-equiv=\"X-UA-Compatible\" content=\"IE=edge\">\n",
    "        <link rel=\"profile\" href=\"https://gmpg.org/xfn/11\"/>\n",
    "        <title>Halıcıoğlu Data Science Institute &#8211;UC San Diego</title>\n",
    "        <script>\n",
    "...\n",
    "```"
   ]
  },
  {
   "cell_type": "markdown",
   "id": "e5c9eb92",
   "metadata": {
    "slideshow": {
     "slide_type": "slide"
    }
   },
   "source": [
    "### Consequences of the request-response model\n",
    "\n",
    "- When a request is sent to view content on a webpage, the server must:\n",
    "    - process your request (i.e. prepare data for the response).\n",
    "    - send content back to the client in its response.\n",
    "\n",
    "- Remember, servers are computers. \n",
    "    - Someone has to pay to keep these computers running.\n",
    "    - **This means that every time you access a website, someone has to pay.**"
   ]
  },
  {
   "cell_type": "markdown",
   "id": "9595b0c3",
   "metadata": {
    "slideshow": {
     "slide_type": "slide"
    }
   },
   "source": [
    "## Making HTTP requests"
   ]
  },
  {
   "cell_type": "markdown",
   "id": "00a3e380",
   "metadata": {
    "slideshow": {
     "slide_type": "slide"
    }
   },
   "source": [
    "### Making HTTP requests\n",
    "\n",
    "There are (at least) two ways to make HTTP requests outside of a browser:\n",
    "\n",
    "- From the command line, with `curl`.\n",
    "\n",
    "- **From Python, with the `requests` package.**"
   ]
  },
  {
   "cell_type": "markdown",
   "id": "5c0bd625",
   "metadata": {
    "slideshow": {
     "slide_type": "slide"
    }
   },
   "source": [
    "### Making HTTP requests using `requests`\n",
    "\n",
    "- `requests` is a Python module that allows you to use Python to interact with the internet!  \n",
    "- There are other packages that work similarly (e.g. `urllib`), but `requests` is arguably the easiest to use."
   ]
  },
  {
   "cell_type": "code",
   "execution_count": null,
   "id": "d79da8ad",
   "metadata": {},
   "outputs": [],
   "source": [
    "import requests"
   ]
  },
  {
   "cell_type": "markdown",
   "id": "fa03e447",
   "metadata": {
    "slideshow": {
     "slide_type": "slide"
    }
   },
   "source": [
    "### Example: `GET` requests via `requests`\n",
    "\n",
    "For instance, let's access the source code of the UCSD homepage, https://ucsd.edu."
   ]
  },
  {
   "cell_type": "code",
   "execution_count": null,
   "id": "a03b40f2",
   "metadata": {},
   "outputs": [],
   "source": [
    "res = requests.get('https://ucsd.edu')"
   ]
  },
  {
   "cell_type": "markdown",
   "id": "17f3fe8e",
   "metadata": {
    "slideshow": {
     "slide_type": "fragment"
    }
   },
   "source": [
    "`res` is now a `Response` object."
   ]
  },
  {
   "cell_type": "code",
   "execution_count": null,
   "id": "f314829f",
   "metadata": {},
   "outputs": [],
   "source": [
    "res"
   ]
  },
  {
   "cell_type": "markdown",
   "id": "b3b1def6",
   "metadata": {
    "slideshow": {
     "slide_type": "fragment"
    }
   },
   "source": [
    "The `text` attribute of `res` is a string that containing the entire response."
   ]
  },
  {
   "cell_type": "code",
   "execution_count": null,
   "id": "fe392b61",
   "metadata": {},
   "outputs": [],
   "source": [
    "type(res.text)"
   ]
  },
  {
   "cell_type": "code",
   "execution_count": null,
   "id": "dbe72b39",
   "metadata": {},
   "outputs": [],
   "source": [
    "len(res.text)"
   ]
  },
  {
   "cell_type": "code",
   "execution_count": null,
   "id": "c0fa3181",
   "metadata": {},
   "outputs": [],
   "source": [
    "print(res.text[:1000])"
   ]
  },
  {
   "cell_type": "markdown",
   "id": "b812c6fd",
   "metadata": {
    "slideshow": {
     "slide_type": "slide"
    }
   },
   "source": [
    "### Example: `POST` requests via `requests`\n",
    "\n",
    "The following call to `requests.post` makes a post request to https://httpbin.org/post, with a `'name'` parameter of `'King Triton'`."
   ]
  },
  {
   "cell_type": "code",
   "execution_count": null,
   "id": "b6522677",
   "metadata": {},
   "outputs": [],
   "source": [
    "post_res = requests.post('https://httpbin.org/post',\n",
    "                         data={'name': 'King Triton'})\n",
    "post_res"
   ]
  },
  {
   "cell_type": "code",
   "execution_count": null,
   "id": "c8fc5dc1",
   "metadata": {
    "scrolled": false
   },
   "outputs": [],
   "source": [
    "print(post_res.text)"
   ]
  },
  {
   "cell_type": "code",
   "execution_count": null,
   "id": "6c289e1a",
   "metadata": {
    "slideshow": {
     "slide_type": "fragment"
    }
   },
   "outputs": [],
   "source": [
    "# More on this shortly!\n",
    "post_res.json()"
   ]
  },
  {
   "cell_type": "markdown",
   "id": "e3d264eb",
   "metadata": {
    "slideshow": {
     "slide_type": "slide"
    }
   },
   "source": [
    "What happens when we try and make a `POST` request somewhere where we're unable to?"
   ]
  },
  {
   "cell_type": "code",
   "execution_count": null,
   "id": "f0d389b8",
   "metadata": {},
   "outputs": [],
   "source": [
    "yt_res = requests.post('https://youtube.com',\n",
    "                       data={'name': 'King Triton'})\n",
    "yt_res"
   ]
  },
  {
   "cell_type": "code",
   "execution_count": null,
   "id": "8b1aac4f",
   "metadata": {},
   "outputs": [],
   "source": [
    "yt_res.text"
   ]
  },
  {
   "cell_type": "markdown",
   "id": "c0e99fa7",
   "metadata": {
    "slideshow": {
     "slide_type": "fragment"
    }
   },
   "source": [
    "`yt_res.text` is a string containing HTML – we can render this in-line using `IPython.display.HTML`."
   ]
  },
  {
   "cell_type": "code",
   "execution_count": null,
   "id": "c91edd27",
   "metadata": {},
   "outputs": [],
   "source": [
    "from IPython.display import HTML"
   ]
  },
  {
   "cell_type": "code",
   "execution_count": null,
   "id": "ec9c5220",
   "metadata": {
    "scrolled": false
   },
   "outputs": [],
   "source": [
    "HTML(yt_res.text)"
   ]
  },
  {
   "cell_type": "markdown",
   "id": "c28709d4",
   "metadata": {
    "slideshow": {
     "slide_type": "slide"
    }
   },
   "source": [
    "### HTTP status codes"
   ]
  },
  {
   "cell_type": "markdown",
   "id": "e81a7a90",
   "metadata": {
    "slideshow": {
     "slide_type": "fragment"
    }
   },
   "source": [
    "- When we **request** data from a website, the server includes an **HTTP status code** in the response.  "
   ]
  },
  {
   "cell_type": "markdown",
   "id": "5ea3188f",
   "metadata": {
    "slideshow": {
     "slide_type": "fragment"
    }
   },
   "source": [
    "* The most common status code is `200`, which means there were no issues.  "
   ]
  },
  {
   "cell_type": "markdown",
   "id": "5c3d9fd7",
   "metadata": {
    "slideshow": {
     "slide_type": "fragment"
    }
   },
   "source": [
    "* Other times, you will see a different status code, describing some sort of event or error.\n",
    "    - Common examples: `400` – bad request, `404` – page not found, `500` – internal server error.\n",
    "    - [The first digit of a status describes its general \"category\".](https://developer.mozilla.org/en-US/docs/Web/HTTP/Status)"
   ]
  },
  {
   "cell_type": "markdown",
   "id": "f50b94ca",
   "metadata": {
    "slideshow": {
     "slide_type": "fragment"
    }
   },
   "source": [
    "- See [https://httpstat.us](https://httpstat.us/) for a list of all HTTP status codes.\n",
    "    - It also has example sites for each status code; for example, https://httpstat.us/404 returns a `404`."
   ]
  },
  {
   "cell_type": "code",
   "execution_count": null,
   "id": "30581712",
   "metadata": {},
   "outputs": [],
   "source": [
    "yt_res.status_code"
   ]
  },
  {
   "cell_type": "code",
   "execution_count": null,
   "id": "5b4a334a",
   "metadata": {},
   "outputs": [],
   "source": [
    "# ok checks if the result was successful.\n",
    "yt_res.ok"
   ]
  },
  {
   "cell_type": "markdown",
   "id": "55e049ef",
   "metadata": {
    "slideshow": {
     "slide_type": "slide"
    }
   },
   "source": [
    "### Handling unsuccessful requests\n",
    "\n",
    "- Unsuccessful requests can be re-tried, depending on the issue.\n",
    "    - A good first step is to wait a little, then try again.\n",
    "\n",
    "- A common issue is that you're making too many requests to a particular server at a time – if this is the case, increase the time between each request. You can even do this programatically, say, using `time.sleep`.\n",
    "\n",
    "- See the [textbook](https://learningds.org/ch/14/web_http.html) for more examples."
   ]
  },
  {
   "cell_type": "markdown",
   "id": "9e447bab",
   "metadata": {
    "slideshow": {
     "slide_type": "slide"
    }
   },
   "source": [
    "## Data formats"
   ]
  },
  {
   "cell_type": "markdown",
   "id": "68142b5f",
   "metadata": {
    "slideshow": {
     "slide_type": "slide"
    }
   },
   "source": [
    "### The data formats of the internet\n",
    "\n",
    "Responses typically come in one of two formats: HTML or JSON.\n",
    "\n",
    "- The response body of a `GET` request is usually either JSON (when using an API) or HTML (when accessing a webpage).\n",
    "\n",
    "- The response body of a `POST` request is usually JSON.\n",
    "\n",
    "- XML is also a common format, but not as popular as it once was."
   ]
  },
  {
   "cell_type": "markdown",
   "id": "ebf8dfb3",
   "metadata": {
    "slideshow": {
     "slide_type": "slide"
    }
   },
   "source": [
    "<center><img src='imgs/json.png' width=50%></center>"
   ]
  },
  {
   "cell_type": "markdown",
   "id": "44796fee",
   "metadata": {
    "slideshow": {
     "slide_type": "slide"
    }
   },
   "source": [
    "### JSON\n",
    "\n",
    "- JSON stands for **JavaScript Object Notation**. It is a lightweight format for storing and transferring data.\n",
    "\n",
    "- It is:\n",
    "    - very easy for computers to read and write.\n",
    "    - moderately easy for programmers to read and write by hand.\n",
    "    - meant to be generated and parsed.\n",
    "\n",
    "- Most modern languages have an interface for working with JSON objects.\n",
    "    - JSON objects _resemble_ Python dictionaries (but are not the same!)."
   ]
  },
  {
   "cell_type": "markdown",
   "id": "ff1a792a",
   "metadata": {
    "slideshow": {
     "slide_type": "slide"
    }
   },
   "source": [
    "### JSON data types\n",
    "\n",
    "| Type | Description |\n",
    "| --- | --- |\n",
    "| String | Anything inside double quotes. |\n",
    "| Number | Any number (no difference between ints and floats). |\n",
    "| Boolean | `true` and `false`. |\n",
    "| Null | JSON's empty value, denoted by `null`. |\n",
    "| Array | Like Python lists. |\n",
    "| Object | A collection of key-value pairs, like dictionaries. Keys must be strings, values can be anything (even other objects). |\n",
    "\n",
    "See [json-schema.org](https://json-schema.org/understanding-json-schema/reference/type.html) for more details."
   ]
  },
  {
   "cell_type": "markdown",
   "id": "1e49584b",
   "metadata": {
    "slideshow": {
     "slide_type": "slide"
    }
   },
   "source": [
    "### Example JSON object\n",
    "\n",
    "See `data/family.json`.\n",
    "\n",
    "<center><img src='imgs/hierarchy.png' width=50%></center>"
   ]
  },
  {
   "cell_type": "code",
   "execution_count": null,
   "id": "0096bba7",
   "metadata": {},
   "outputs": [],
   "source": [
    "import json\n",
    "from pathlib import Path\n",
    "\n",
    "f = Path('data') / 'family.json'\n",
    "family_tree = json.loads(f.read_text())"
   ]
  },
  {
   "cell_type": "code",
   "execution_count": null,
   "id": "c0df56f4",
   "metadata": {},
   "outputs": [],
   "source": [
    "family_tree"
   ]
  },
  {
   "cell_type": "code",
   "execution_count": null,
   "id": "5d717b05",
   "metadata": {},
   "outputs": [],
   "source": [
    "family_tree['children'][0]['children'][0]['age']"
   ]
  },
  {
   "cell_type": "markdown",
   "id": "66c53aa4",
   "metadata": {
    "slideshow": {
     "slide_type": "slide"
    }
   },
   "source": [
    "### Aside: `eval`\n",
    "\n",
    "- `eval`, which stands for \"evaluate\", is a function built into Python.\n",
    "\n",
    "- It takes in a **string containing a Python expression** and evaluates it in the current context."
   ]
  },
  {
   "cell_type": "code",
   "execution_count": null,
   "id": "071fbf6b",
   "metadata": {},
   "outputs": [],
   "source": [
    "x = 3\n",
    "eval('x * 10')"
   ]
  },
  {
   "cell_type": "markdown",
   "id": "5d59ca5f",
   "metadata": {
    "slideshow": {
     "slide_type": "fragment"
    }
   },
   "source": [
    "- It seems like `eval` can do the same thing that `json.loads` does..."
   ]
  },
  {
   "cell_type": "code",
   "execution_count": null,
   "id": "9962e6ad",
   "metadata": {},
   "outputs": [],
   "source": [
    "f.read_text()"
   ]
  },
  {
   "cell_type": "code",
   "execution_count": null,
   "id": "23909326",
   "metadata": {},
   "outputs": [],
   "source": [
    "eval(f.read_text())"
   ]
  },
  {
   "cell_type": "markdown",
   "id": "c7200fc7",
   "metadata": {
    "slideshow": {
     "slide_type": "fragment"
    }
   },
   "source": [
    "- But you should **almost never use `eval`**. The next slide demonstrates why."
   ]
  },
  {
   "cell_type": "markdown",
   "id": "13687f1f",
   "metadata": {
    "slideshow": {
     "slide_type": "slide"
    }
   },
   "source": [
    "### `eval` gone wrong\n",
    "\n",
    "Observe what happens when we use `eval` on a string representation of a JSON object:"
   ]
  },
  {
   "cell_type": "code",
   "execution_count": null,
   "id": "0712aca9",
   "metadata": {},
   "outputs": [],
   "source": [
    "!cat data/evil_family.json"
   ]
  },
  {
   "cell_type": "code",
   "execution_count": null,
   "id": "0aef79df",
   "metadata": {
    "scrolled": true,
    "tags": [
     "raises-exception"
    ]
   },
   "outputs": [],
   "source": [
    "f_other = Path('data') / 'evil_family.json'\n",
    "eval(f_other.read_text())"
   ]
  },
  {
   "cell_type": "markdown",
   "id": "9cf8adad",
   "metadata": {
    "slideshow": {
     "slide_type": "fragment"
    }
   },
   "source": [
    "- Oh no! Since `evil_family.json`, which could have been downloaded from the internet, contained malicious code, we now lost all of our files.\n",
    "\n",
    "- This happened because `eval` **evaluates** all parts of the input string as if it were Python code.\n",
    "\n",
    "- You never need to do this – instead, use the `.json()` method of a response object, or use the `json` library."
   ]
  },
  {
   "cell_type": "markdown",
   "id": "be22ed20",
   "metadata": {
    "slideshow": {
     "slide_type": "slide"
    }
   },
   "source": [
    "### Using the `json` module\n",
    "\n",
    "Let's process the same file using the `json` module. Note:\n",
    "- `json.load(f)` loads a JSON file from a file object.\n",
    "- `json.loads(f)` loads a JSON file from a **s**tring."
   ]
  },
  {
   "cell_type": "code",
   "execution_count": null,
   "id": "8a26d63b",
   "metadata": {},
   "outputs": [],
   "source": [
    "f_other = Path('data') / 'evil_family.json'\n",
    "s = f_other.read_text()\n",
    "s"
   ]
  },
  {
   "cell_type": "code",
   "execution_count": null,
   "id": "7c559849",
   "metadata": {},
   "outputs": [],
   "source": [
    "print(s)"
   ]
  },
  {
   "cell_type": "code",
   "execution_count": null,
   "id": "63a2329b",
   "metadata": {
    "tags": [
     "raises-exception"
    ]
   },
   "outputs": [],
   "source": [
    "json.loads(s)"
   ]
  },
  {
   "cell_type": "markdown",
   "id": "c544faf7",
   "metadata": {
    "slideshow": {
     "slide_type": "fragment"
    }
   },
   "source": [
    "- Since `util.err()` is not a string in JSON (there are no quotes around it), `json.loads` is not able to parse it as a JSON object.\n",
    "\n",
    "- This \"safety check\" is intentional."
   ]
  },
  {
   "cell_type": "markdown",
   "id": "bbe64ccb",
   "metadata": {
    "slideshow": {
     "slide_type": "slide"
    }
   },
   "source": [
    "### Handling _unfamiliar_ data\n",
    "\n",
    "- Never trust data from an unfamiliar site.\n",
    "\n",
    "- **Never** use `eval` on \"raw\" data that you didn't create!\n",
    "\n",
    "- The JSON data format needs to be **parsed**, not evaluated as a dictionary.\n",
    "    - It was designed with safety in mind!"
   ]
  },
  {
   "cell_type": "markdown",
   "id": "2291a40a",
   "metadata": {
    "slideshow": {
     "slide_type": "slide"
    }
   },
   "source": [
    "### Aside: `pd.read_json`\n",
    "\n",
    "`pandas` also has a built-in `read_json` function."
   ]
  },
  {
   "cell_type": "code",
   "execution_count": null,
   "id": "c9bddcc3",
   "metadata": {},
   "outputs": [],
   "source": [
    "pd.read_json(f)"
   ]
  },
  {
   "cell_type": "markdown",
   "id": "bcf8f6cf",
   "metadata": {},
   "source": [
    "It only makes sense to use it, though, when you have a JSON file that has some sort of tabular structure. Our family tree example does not."
   ]
  },
  {
   "cell_type": "markdown",
   "id": "515ff589",
   "metadata": {
    "slideshow": {
     "slide_type": "slide"
    }
   },
   "source": [
    "## APIs and scraping"
   ]
  },
  {
   "cell_type": "markdown",
   "id": "86133535",
   "metadata": {
    "slideshow": {
     "slide_type": "slide"
    }
   },
   "source": [
    "### Programmatic requests\n",
    "\n",
    "* We learned how to use the Python `requests` package to exchange data via HTTP.\n",
    "    - `GET` requests are used to request data **from** a server.\n",
    "    - `POST` requests are used to **send** data to a server.\n",
    "\n",
    "* There are two ways of collecting data through a request:\n",
    "    * By using a published API (application programming interface).\n",
    "    * By scraping a webpage to collect its HTML source code."
   ]
  },
  {
   "cell_type": "markdown",
   "id": "012c368e",
   "metadata": {
    "slideshow": {
     "slide_type": "slide"
    }
   },
   "source": [
    "### APIs\n",
    "\n",
    "An application programming interface (API) is a service that makes data directly available to the user in a convenient fashion."
   ]
  },
  {
   "cell_type": "markdown",
   "id": "7eb84efe",
   "metadata": {
    "slideshow": {
     "slide_type": "fragment"
    }
   },
   "source": [
    "Advantages:\n",
    "\n",
    "- The data are usually clean, up-to-date, and ready to use.\n",
    "\n",
    "- The presence of a API signals that the data provider is okay with you using their data.\n",
    "\n",
    "- The data provider can plan and regulate data usage.\n",
    "    - Some APIs require you to create an API \"key\", which is like an account for using the API.\n",
    "    - APIs can also give you access to data that isn't publicly available on a webpage."
   ]
  },
  {
   "cell_type": "markdown",
   "id": "97eadb42",
   "metadata": {
    "slideshow": {
     "slide_type": "fragment"
    }
   },
   "source": [
    "Big disadvantage: APIs don't always exist for the data you want!"
   ]
  },
  {
   "cell_type": "markdown",
   "id": "1233c56a",
   "metadata": {
    "slideshow": {
     "slide_type": "slide"
    }
   },
   "source": [
    "### API terminology\n",
    "\n",
    "- A URL, or uniform resource locator, describes the location of a website or resource.\n",
    "\n",
    "- An **API endpoint** is a URL of the data source that the user wants to make requests to.\n",
    "\n",
    "- For example, on the [Reddit API](https://www.reddit.com/dev/api/):\n",
    "    * the `/comments` endpoint retrieves information about comments.\n",
    "    * the `/hot` endpoint retrieves data about posts labeled \"hot\" right now. \n",
    "    - To access these endpoints, you add the endpoint name to the base URL of the API."
   ]
  },
  {
   "cell_type": "markdown",
   "id": "460afa71",
   "metadata": {
    "slideshow": {
     "slide_type": "slide"
    }
   },
   "source": [
    "### API requests\n",
    "\n",
    "- API requests are just `GET`/`POST` requests to a specially maintained URL.\n",
    "- Let's test out the [Pokémon API](https://pokeapi.co).\n",
    "\n",
    "First, let's make a `GET` request for `'squirtle'`. To do this, we need to make a request to the correct URL."
   ]
  },
  {
   "cell_type": "code",
   "execution_count": null,
   "id": "90aa4c65",
   "metadata": {},
   "outputs": [],
   "source": [
    "def create_url(pokemon):\n",
    "    return f'https://pokeapi.co/api/v2/pokemon/{pokemon}'\n",
    "\n",
    "create_url('squirtle')"
   ]
  },
  {
   "cell_type": "code",
   "execution_count": null,
   "id": "f4994b92",
   "metadata": {},
   "outputs": [],
   "source": [
    "r = requests.get(create_url('squirtle'))\n",
    "r"
   ]
  },
  {
   "cell_type": "markdown",
   "id": "f7c657f7",
   "metadata": {
    "slideshow": {
     "slide_type": "slide"
    }
   },
   "source": [
    "Remember, the 200 status code is good! Let's take a look at the **content**:"
   ]
  },
  {
   "cell_type": "code",
   "execution_count": null,
   "id": "a9ec92e8",
   "metadata": {},
   "outputs": [],
   "source": [
    "r.content[:1000]"
   ]
  },
  {
   "cell_type": "markdown",
   "id": "3e8d0cd6",
   "metadata": {
    "slideshow": {
     "slide_type": "slide"
    }
   },
   "source": [
    "Looks like JSON. We can extract the JSON from this request with the `json` method (or by passing `r.text` to `json.loads`)."
   ]
  },
  {
   "cell_type": "code",
   "execution_count": null,
   "id": "7f0ab31d",
   "metadata": {},
   "outputs": [],
   "source": [
    "rr = r.json()\n",
    "# rr # Hidden in the HTML version of the lecture notebook because it's way too long."
   ]
  },
  {
   "cell_type": "code",
   "execution_count": null,
   "id": "0932f00d",
   "metadata": {},
   "outputs": [],
   "source": [
    "rr.keys()"
   ]
  },
  {
   "cell_type": "code",
   "execution_count": null,
   "id": "c93f4866",
   "metadata": {},
   "outputs": [],
   "source": [
    "rr['weight']"
   ]
  },
  {
   "cell_type": "code",
   "execution_count": null,
   "id": "5d84af36",
   "metadata": {},
   "outputs": [],
   "source": [
    "rr['stats']"
   ]
  },
  {
   "cell_type": "code",
   "execution_count": null,
   "id": "6075ece0",
   "metadata": {},
   "outputs": [],
   "source": [
    "rr['moves'][26]['move']"
   ]
  },
  {
   "cell_type": "code",
   "execution_count": null,
   "id": "729beaa7",
   "metadata": {},
   "outputs": [],
   "source": [
    "requests.get('https://pokeapi.co/api/v2/move/104/').json()"
   ]
  },
  {
   "cell_type": "markdown",
   "id": "a0710871",
   "metadata": {
    "slideshow": {
     "slide_type": "slide"
    }
   },
   "source": [
    "Let's try a `GET` request for `'billy'`."
   ]
  },
  {
   "cell_type": "code",
   "execution_count": null,
   "id": "edfc11da",
   "metadata": {},
   "outputs": [],
   "source": [
    "r = requests.get(create_url('billy'))\n",
    "r"
   ]
  },
  {
   "cell_type": "markdown",
   "id": "1c1dd915",
   "metadata": {},
   "source": [
    "We receive a 404 error, since there is no Pokemon named `'billy'`!"
   ]
  },
  {
   "cell_type": "markdown",
   "id": "60e30f9a",
   "metadata": {
    "slideshow": {
     "slide_type": "slide"
    }
   },
   "source": [
    "### Scraping\n",
    "\n",
    "Scraping is the act of programmatically \"browsing\" the web, downloading the source code (HTML) of pages that you're interested in extracting data from."
   ]
  },
  {
   "cell_type": "markdown",
   "id": "a3b33528",
   "metadata": {
    "slideshow": {
     "slide_type": "fragment"
    }
   },
   "source": [
    "Big advantage: You can always do it! For example, Google scrapes webpages in order to make them searchable."
   ]
  },
  {
   "cell_type": "markdown",
   "id": "592ff53d",
   "metadata": {
    "slideshow": {
     "slide_type": "fragment"
    }
   },
   "source": [
    "Disadvantages:\n",
    "\n",
    "- It is often difficult to parse and clean scraped data.\n",
    "    - Source code often includes a lot of content unrelated to the data you're trying to find (e.g. formatting, advertisements, other text).\n",
    "\n",
    "- Websites can change often, so scraping code can get outdated quickly.\n",
    "\n",
    "- Websites may not want you to scrape their data!\n",
    "\n",
    "- **In general, we prefer APIs, but scraping is a useful skill to learn.**"
   ]
  },
  {
   "cell_type": "markdown",
   "id": "1886febb",
   "metadata": {
    "slideshow": {
     "slide_type": "slide"
    }
   },
   "source": [
    "### Example: Scraping the HDSI faculty page\n",
    "\n",
    "To fully understand how to scrape, we need to understand how HTML documents are structured and how to extract information out of them.\n",
    "\n",
    "But as a preview of what's to come next week, let's start by making a request to the HDSI Faculty page, https://datascience.ucsd.edu/faculty."
   ]
  },
  {
   "cell_type": "code",
   "execution_count": null,
   "id": "e3632dec",
   "metadata": {},
   "outputs": [],
   "source": [
    "fac_response = requests.get('https://datascience.ucsd.edu/faculty/')\n",
    "fac_response"
   ]
  },
  {
   "cell_type": "markdown",
   "id": "ac27bb89",
   "metadata": {},
   "source": [
    "The response is a long HTML document."
   ]
  },
  {
   "cell_type": "code",
   "execution_count": null,
   "id": "b2a4cdf7",
   "metadata": {},
   "outputs": [],
   "source": [
    "len(fac_response.text)"
   ]
  },
  {
   "cell_type": "code",
   "execution_count": null,
   "id": "3a718871",
   "metadata": {},
   "outputs": [],
   "source": [
    "print(fac_response.text[:3000])"
   ]
  },
  {
   "cell_type": "markdown",
   "id": "ee70c68d",
   "metadata": {
    "slideshow": {
     "slide_type": "slide"
    }
   },
   "source": [
    "To **parse** HTML, we'll use the BeautifulSoup library."
   ]
  },
  {
   "cell_type": "code",
   "execution_count": null,
   "id": "b96344f3",
   "metadata": {},
   "outputs": [],
   "source": [
    "from bs4 import BeautifulSoup\n",
    "soup = BeautifulSoup(fac_response.text)"
   ]
  },
  {
   "cell_type": "markdown",
   "id": "1ac0658a",
   "metadata": {
    "slideshow": {
     "slide_type": "fragment"
    }
   },
   "source": [
    "Now, `soup` is a representation of the faculty page's HTML code that Python knows how to extract information from."
   ]
  },
  {
   "cell_type": "code",
   "execution_count": null,
   "id": "f9208a7b",
   "metadata": {},
   "outputs": [],
   "source": [
    "# Magic that we'll learn how to create together next Tuesday.\n",
    "divs = soup.find_all('div', class_='vc_grid-item')\n",
    "names = [div.find('h4').text for div in divs]\n",
    "titles = [div.find(class_='pendari_people_title').text for div in divs]\n",
    "\n",
    "faculty = pd.DataFrame({\n",
    "    'name': names, \n",
    "    'title': titles, \n",
    "})\n",
    "faculty.head()"
   ]
  },
  {
   "cell_type": "markdown",
   "id": "ec30b1fe",
   "metadata": {
    "slideshow": {
     "slide_type": "fragment"
    }
   },
   "source": [
    "Now we have a DataFrame!"
   ]
  },
  {
   "cell_type": "code",
   "execution_count": null,
   "id": "6422527c",
   "metadata": {},
   "outputs": [],
   "source": [
    "faculty[faculty['title'].str.contains('Lecturer') | faculty['title'].str.contains('Teaching')]"
   ]
  },
  {
   "cell_type": "markdown",
   "id": "b9fa4e5a",
   "metadata": {
    "slideshow": {
     "slide_type": "slide"
    }
   },
   "source": [
    "What if we want to get faculty members' pictures? "
   ]
  },
  {
   "cell_type": "code",
   "execution_count": null,
   "id": "0bb34bd9",
   "metadata": {},
   "outputs": [],
   "source": [
    "from IPython.display import Image, display\n",
    "\n",
    "def show_picture(name):\n",
    "    idx = faculty[faculty['name'].str.lower().str.contains(name.lower())].index[0]\n",
    "    display(Image(divs[idx].find('img')['src'], width=200, height=200))"
   ]
  },
  {
   "cell_type": "code",
   "execution_count": null,
   "id": "659106fb",
   "metadata": {
    "scrolled": true
   },
   "outputs": [],
   "source": [
    "show_picture('justin')"
   ]
  },
  {
   "cell_type": "markdown",
   "id": "62e7dce1",
   "metadata": {
    "slideshow": {
     "slide_type": "slide"
    }
   },
   "source": [
    "## Midterm review\n",
    "\n",
    "You'll need to look at the podcast for this part."
   ]
  },
  {
   "cell_type": "markdown",
   "id": "3c7bb3ae",
   "metadata": {
    "slideshow": {
     "slide_type": "slide"
    }
   },
   "source": [
    "### The plan\n",
    "\n",
    "We'll work with a single dataset and try and revisit some of the most commonly requested ideas using it.\n",
    "\n",
    "The data is (mostly) real; each row is a student from the Spring 2023 offering of DSC 10."
   ]
  },
  {
   "cell_type": "code",
   "execution_count": null,
   "id": "256db018",
   "metadata": {},
   "outputs": [],
   "source": [
    "students_path = Path('data') / 'dsc10-sp23-roster.csv'\n",
    "students = pd.read_csv(students_path)\n",
    "students.head()"
   ]
  },
  {
   "cell_type": "markdown",
   "id": "61620c68",
   "metadata": {},
   "source": [
    "How many students are there in each college?"
   ]
  },
  {
   "cell_type": "code",
   "execution_count": null,
   "id": "cd4adf07",
   "metadata": {},
   "outputs": [],
   "source": [
    "students.groupby('College').size()"
   ]
  },
  {
   "cell_type": "code",
   "execution_count": null,
   "id": "123311f5",
   "metadata": {},
   "outputs": [],
   "source": [
    "students.groupby('College').count()"
   ]
  },
  {
   "cell_type": "code",
   "execution_count": null,
   "id": "5860a7ea",
   "metadata": {},
   "outputs": [],
   "source": [
    "students['College'].value_counts()"
   ]
  },
  {
   "cell_type": "markdown",
   "id": "b2d497a2",
   "metadata": {},
   "source": [
    "How many students in each college have over 1000 followers?"
   ]
  },
  {
   "cell_type": "code",
   "execution_count": null,
   "id": "4ab1f7f7",
   "metadata": {},
   "outputs": [],
   "source": [
    "students"
   ]
  },
  {
   "cell_type": "code",
   "execution_count": null,
   "id": "02df3b8e",
   "metadata": {},
   "outputs": [],
   "source": [
    "(\n",
    "    students[students['IG Followers'] >= 1000]\n",
    "    ['College']\n",
    "    .value_counts()\n",
    ")"
   ]
  },
  {
   "cell_type": "code",
   "execution_count": null,
   "id": "16b965d9",
   "metadata": {},
   "outputs": [],
   "source": [
    "(\n",
    "    students\n",
    "    .groupby('College')\n",
    "    ['IG Followers']\n",
    "    .agg(lambda s: (s >= 1000).sum())\n",
    "    .sort_values(ascending=False)\n",
    ")"
   ]
  },
  {
   "cell_type": "markdown",
   "id": "8a320acb",
   "metadata": {},
   "source": [
    "Which colleges have at least 25 students that have over 20 unread emails?"
   ]
  },
  {
   "cell_type": "code",
   "execution_count": null,
   "id": "c4ae08b2",
   "metadata": {},
   "outputs": [],
   "source": [
    "def college_filter(df):\n",
    "    return (df['Unread Emails'] > 20).sum() >= 25\n",
    "\n",
    "(\n",
    "    students\n",
    "    .groupby('College')\n",
    "    .filter(college_filter)\n",
    "    ['College']\n",
    "    .unique()\n",
    ")"
   ]
  },
  {
   "cell_type": "code",
   "execution_count": null,
   "id": "a78f98cd",
   "metadata": {},
   "outputs": [],
   "source": [
    "college_filter(students[students['College'] == 'Sixth'])"
   ]
  },
  {
   "cell_type": "code",
   "execution_count": null,
   "id": "68aa8283",
   "metadata": {},
   "outputs": [],
   "source": [
    "(\n",
    "    students\n",
    "    .groupby('Section')\n",
    "    .mean()\n",
    "    ['IG Followers']\n",
    ")"
   ]
  },
  {
   "cell_type": "code",
   "execution_count": null,
   "id": "c99d2b79",
   "metadata": {},
   "outputs": [],
   "source": [
    "(\n",
    "    students\n",
    "    .groupby('Section')\n",
    "    ['IG Followers']\n",
    "    .mean()\n",
    ")"
   ]
  },
  {
   "cell_type": "code",
   "execution_count": null,
   "id": "2323100d",
   "metadata": {},
   "outputs": [],
   "source": [
    "students"
   ]
  },
  {
   "cell_type": "code",
   "execution_count": null,
   "id": "e4e6a624",
   "metadata": {},
   "outputs": [],
   "source": [
    "def is_cool(row):\n",
    "    if row['Section'] == 'A' and row['College'] == 'Warren':\n",
    "        return 'yes'\n",
    "    elif row['Section'] == 'B' and row['Class Standing'] != 'Junior':\n",
    "        return 'yes'\n",
    "    elif np.random.random() < 0.5:\n",
    "        return 'idk'\n",
    "    else:\n",
    "        return 'no'"
   ]
  },
  {
   "cell_type": "code",
   "execution_count": null,
   "id": "0de03825",
   "metadata": {},
   "outputs": [],
   "source": [
    "students.apply(\n",
    "    is_cool,\n",
    "    axis=1\n",
    ")"
   ]
  },
  {
   "cell_type": "code",
   "execution_count": null,
   "id": "9492ad7b",
   "metadata": {},
   "outputs": [],
   "source": [
    "%%timeit\n",
    "students['IG Followers'] + students['Unread Emails']"
   ]
  },
  {
   "cell_type": "markdown",
   "id": "dbe07a42",
   "metadata": {},
   "source": [
    "### Hypothesis and permutation testing"
   ]
  },
  {
   "cell_type": "code",
   "execution_count": null,
   "id": "97005f6e",
   "metadata": {},
   "outputs": [],
   "source": [
    "students"
   ]
  },
  {
   "cell_type": "markdown",
   "id": "6b92c620",
   "metadata": {},
   "source": [
    "How does the distribution of IG followers for section A compare to section B?"
   ]
  },
  {
   "cell_type": "code",
   "execution_count": null,
   "id": "d9dd951c",
   "metadata": {},
   "outputs": [],
   "source": [
    "students.groupby('Section')['IG Followers'].mean()"
   ]
  },
  {
   "cell_type": "code",
   "execution_count": null,
   "id": "4a67932b",
   "metadata": {},
   "outputs": [],
   "source": [
    "# create_kde_plotly(\n",
    "#     students,\n",
    "#     'Section',\n",
    "#     'A',\n",
    "#     'B',\n",
    "#     'IG Followers'\n",
    "# )"
   ]
  },
  {
   "cell_type": "markdown",
   "id": "c5e4f202",
   "metadata": {},
   "source": [
    "Permutation tests help us decide whether the differences between two samples are significant."
   ]
  },
  {
   "cell_type": "code",
   "execution_count": null,
   "id": "5b48bb8c",
   "metadata": {},
   "outputs": [],
   "source": [
    "students.groupby('Section')['IG Followers'].describe()"
   ]
  },
  {
   "cell_type": "code",
   "execution_count": null,
   "id": "9922dd8d",
   "metadata": {},
   "outputs": [],
   "source": [
    "ig = students[['Section', 'IG Followers']]\n",
    "ig"
   ]
  },
  {
   "cell_type": "markdown",
   "id": "543edb9b",
   "metadata": {},
   "source": [
    "- Null: The distribution of IG followers for students in section A is the same as the distribution of IG followers for students in section B.\n",
    "\n",
    "- Alternative: Students in section B have more IG followers on average (mean) than students in section B."
   ]
  },
  {
   "cell_type": "code",
   "execution_count": null,
   "id": "323d3bad",
   "metadata": {},
   "outputs": [],
   "source": [
    "students.groupby('Section')['IG Followers'].describe()"
   ]
  },
  {
   "cell_type": "markdown",
   "id": "369933ec",
   "metadata": {},
   "source": [
    "test statistic:\n",
    "\n",
    "difference in group means\n",
    "\n"
   ]
  },
  {
   "cell_type": "code",
   "execution_count": null,
   "id": "5b9bcbbf",
   "metadata": {},
   "outputs": [],
   "source": [
    "ig"
   ]
  },
  {
   "cell_type": "code",
   "execution_count": null,
   "id": "23e43f44",
   "metadata": {},
   "outputs": [],
   "source": [
    "ig.groupby('Section')['IG Followers'].mean()"
   ]
  },
  {
   "cell_type": "code",
   "execution_count": null,
   "id": "b81653be",
   "metadata": {},
   "outputs": [],
   "source": [
    "ig.groupby('Section')['IG Followers'].mean().diff()"
   ]
  },
  {
   "cell_type": "code",
   "execution_count": null,
   "id": "220d53e6",
   "metadata": {},
   "outputs": [],
   "source": [
    "obs = ig.groupby('Section')['IG Followers'].mean().diff().iloc[-1]\n",
    "obs"
   ]
  },
  {
   "cell_type": "code",
   "execution_count": null,
   "id": "6063946d",
   "metadata": {},
   "outputs": [],
   "source": [
    "stats = []\n",
    "\n",
    "for _ in range(10000):\n",
    "    ig['Section'] = np.random.permutation(ig['Section'])\n",
    "    stat = ig.groupby('Section')['IG Followers'].mean().diff().iloc[-1]\n",
    "    stats.append(stat)"
   ]
  },
  {
   "cell_type": "code",
   "execution_count": null,
   "id": "52524cca",
   "metadata": {},
   "outputs": [],
   "source": [
    "pd.Series(stats).plot(kind='hist')"
   ]
  },
  {
   "cell_type": "markdown",
   "id": "a6e8ac49",
   "metadata": {},
   "source": [
    "x-axis is group B - group A."
   ]
  },
  {
   "cell_type": "code",
   "execution_count": null,
   "id": "41f688df",
   "metadata": {},
   "outputs": [],
   "source": [
    "obs"
   ]
  },
  {
   "cell_type": "code",
   "execution_count": null,
   "id": "0f73a653",
   "metadata": {},
   "outputs": [],
   "source": [
    "(\n",
    "    students\n",
    "    .pivot_table(\n",
    "        index='College',\n",
    "        columns='Section',\n",
    "        values='IG Followers',\n",
    "        aggfunc='count'\n",
    "    )\n",
    "    .pipe(lambda df: df / df.sum())\n",
    "    .diff(axis=1)\n",
    "    .abs()\n",
    "    .iloc[:, 1]\n",
    "    .sum() / 2\n",
    ")"
   ]
  },
  {
   "cell_type": "code",
   "execution_count": null,
   "id": "fe369d9b",
   "metadata": {},
   "outputs": [],
   "source": [
    "students[['Section', 'College']]"
   ]
  }
 ],
 "metadata": {
  "kernelspec": {
   "display_name": "Python 3 (ipykernel)",
   "language": "python",
   "name": "python3"
  },
  "language_info": {
   "codemirror_mode": {
    "name": "ipython",
    "version": 3
   },
   "file_extension": ".py",
   "mimetype": "text/x-python",
   "name": "python",
   "nbconvert_exporter": "python",
   "pygments_lexer": "ipython3",
   "version": "3.8.18"
  },
  "livereveal": {
   "scroll": true
  },
  "rise": {
   "transition": "none"
  }
 },
 "nbformat": 4,
 "nbformat_minor": 5
}
